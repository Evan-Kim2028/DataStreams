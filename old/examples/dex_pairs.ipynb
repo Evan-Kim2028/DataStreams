{
 "cells": [
  {
   "cell_type": "code",
   "execution_count": 1,
   "metadata": {},
   "outputs": [
    {
     "name": "stdout",
     "output_type": "stream",
     "text": [
      "Collecting git+https://github.com/Evan-Kim2028/DataStreams.git\n",
      "  Cloning https://github.com/Evan-Kim2028/DataStreams.git to /tmp/pip-req-build-pg4no6i2\n",
      "  Running command git clone --filter=blob:none --quiet https://github.com/Evan-Kim2028/DataStreams.git /tmp/pip-req-build-pg4no6i2\n",
      "  Resolved https://github.com/Evan-Kim2028/DataStreams.git to commit 910cb67f59623c8df446e9e5b43f84acedbc316a\n",
      "  Installing build dependencies ... \u001b[?25ldone\n",
      "\u001b[?25h  Getting requirements to build wheel ... \u001b[?25ldone\n",
      "\u001b[?25h  Installing backend dependencies ... \u001b[?25ldone\n",
      "\u001b[?25h  Preparing metadata (pyproject.toml) ... \u001b[?25ldone\n",
      "\u001b[?25hRequirement already satisfied: subgrounds>=1.0.3 in /home/evan/Documents/github/DataStreams/ds/lib/python3.10/site-packages (from DataStreams==0.0.post1.dev59+g910cb67) (1.0.3)\n",
      "Requirement already satisfied: pandas>=1.5.0 in /home/evan/Documents/github/DataStreams/ds/lib/python3.10/site-packages (from DataStreams==0.0.post1.dev59+g910cb67) (1.5.2)\n",
      "Requirement already satisfied: pytz>=2020.1 in /home/evan/Documents/github/DataStreams/ds/lib/python3.10/site-packages (from pandas>=1.5.0->DataStreams==0.0.post1.dev59+g910cb67) (2022.7.1)\n",
      "Requirement already satisfied: numpy>=1.21.0 in /home/evan/Documents/github/DataStreams/ds/lib/python3.10/site-packages (from pandas>=1.5.0->DataStreams==0.0.post1.dev59+g910cb67) (1.24.1)\n",
      "Requirement already satisfied: python-dateutil>=2.8.1 in /home/evan/Documents/github/DataStreams/ds/lib/python3.10/site-packages (from pandas>=1.5.0->DataStreams==0.0.post1.dev59+g910cb67) (2.8.2)\n",
      "Requirement already satisfied: pathlib<2.0.0,>=1.0.1 in /home/evan/Documents/github/DataStreams/ds/lib/python3.10/site-packages (from subgrounds>=1.0.3->DataStreams==0.0.post1.dev59+g910cb67) (1.0.1)\n",
      "Requirement already satisfied: requests<3.0.0,>=2.27.1 in /home/evan/Documents/github/DataStreams/ds/lib/python3.10/site-packages (from subgrounds>=1.0.3->DataStreams==0.0.post1.dev59+g910cb67) (2.28.2)\n",
      "Requirement already satisfied: pydantic<2.0.0,>=1.10.2 in /home/evan/Documents/github/DataStreams/ds/lib/python3.10/site-packages (from subgrounds>=1.0.3->DataStreams==0.0.post1.dev59+g910cb67) (1.10.4)\n",
      "Requirement already satisfied: pipe<3.0,>=2.0 in /home/evan/Documents/github/DataStreams/ds/lib/python3.10/site-packages (from subgrounds>=1.0.3->DataStreams==0.0.post1.dev59+g910cb67) (2.0)\n",
      "Requirement already satisfied: typing-extensions>=4.2.0 in /home/evan/Documents/github/DataStreams/ds/lib/python3.10/site-packages (from pydantic<2.0.0,>=1.10.2->subgrounds>=1.0.3->DataStreams==0.0.post1.dev59+g910cb67) (4.4.0)\n",
      "Requirement already satisfied: six>=1.5 in /home/evan/Documents/github/DataStreams/ds/lib/python3.10/site-packages (from python-dateutil>=2.8.1->pandas>=1.5.0->DataStreams==0.0.post1.dev59+g910cb67) (1.16.0)\n",
      "Requirement already satisfied: certifi>=2017.4.17 in /home/evan/Documents/github/DataStreams/ds/lib/python3.10/site-packages (from requests<3.0.0,>=2.27.1->subgrounds>=1.0.3->DataStreams==0.0.post1.dev59+g910cb67) (2022.12.7)\n",
      "Requirement already satisfied: urllib3<1.27,>=1.21.1 in /home/evan/Documents/github/DataStreams/ds/lib/python3.10/site-packages (from requests<3.0.0,>=2.27.1->subgrounds>=1.0.3->DataStreams==0.0.post1.dev59+g910cb67) (1.26.14)\n",
      "Requirement already satisfied: charset-normalizer<4,>=2 in /home/evan/Documents/github/DataStreams/ds/lib/python3.10/site-packages (from requests<3.0.0,>=2.27.1->subgrounds>=1.0.3->DataStreams==0.0.post1.dev59+g910cb67) (3.0.1)\n",
      "Requirement already satisfied: idna<4,>=2.5 in /home/evan/Documents/github/DataStreams/ds/lib/python3.10/site-packages (from requests<3.0.0,>=2.27.1->subgrounds>=1.0.3->DataStreams==0.0.post1.dev59+g910cb67) (3.4)\n",
      "Building wheels for collected packages: DataStreams\n",
      "  Building wheel for DataStreams (pyproject.toml) ... \u001b[?25ldone\n",
      "\u001b[?25h  Created wheel for DataStreams: filename=DataStreams-0.0.post1.dev59+g910cb67-py3-none-any.whl size=8322 sha256=0c6de5e98f5fd7556714086417437a780660c9185df681c67cc9167fd885e6e6\n",
      "  Stored in directory: /tmp/pip-ephem-wheel-cache-32_6m4kr/wheels/06/e7/63/91de055318e05be20cb8ce687f960fcb1ae3a9e77f754cda6c\n",
      "Successfully built DataStreams\n",
      "Installing collected packages: DataStreams\n",
      "  Attempting uninstall: DataStreams\n",
      "    Found existing installation: DataStreams 0.0.post1.dev63+g4c90f18.d20230214\n",
      "    Uninstalling DataStreams-0.0.post1.dev63+g4c90f18.d20230214:\n",
      "      Successfully uninstalled DataStreams-0.0.post1.dev63+g4c90f18.d20230214\n",
      "Successfully installed DataStreams-0.0.post1.dev59+g910cb67\n"
     ]
    }
   ],
   "source": [
    "!pip install git+https://github.com/Evan-Kim2028/DataStreams.git"
   ]
  },
  {
   "cell_type": "code",
   "execution_count": 1,
   "metadata": {},
   "outputs": [],
   "source": [
    "from datastreams.datastream import DataStream\n",
    "\n",
    "import pandas as pd"
   ]
  },
  {
   "cell_type": "code",
   "execution_count": 2,
   "metadata": {},
   "outputs": [],
   "source": [
    "pd.set_option('display.max_columns', None)\n",
    "pd.set_option('display.expand_frame_repr', False)\n",
    "pd.set_option('max_colwidth', None)"
   ]
  },
  {
   "cell_type": "code",
   "execution_count": 3,
   "metadata": {},
   "outputs": [],
   "source": [
    "endpointList = [\n",
    "    # 'https://api.thegraph.com/subgraphs/name/messari/sushiswap-ethereum', \n",
    "    # 'https://api.thegraph.com/subgraphs/name/uniswap/uniswap-v2', # https://thegraph.com/hosted-service/subgraph/uniswap/uniswap-v2 # NON-MESSARI STANDARDIZED SUBGRAPH!!\n",
    "    'https://api.thegraph.com/subgraphs/name/messari/uniswap-v3-ethereum',\n",
    "    ]\n"
   ]
  },
  {
   "cell_type": "code",
   "execution_count": 4,
   "metadata": {},
   "outputs": [],
   "source": [
    "ds = DataStream(endpointList)"
   ]
  },
  {
   "cell_type": "code",
   "execution_count": 5,
   "metadata": {},
   "outputs": [
    {
     "name": "stdout",
     "output_type": "stream",
     "text": [
      "common_keys: ['liquidityPoolFees', 'rewardTokens', 'deposits', 'liquidityPoolHourlySnapshots', 'liquidityPoolDailySnapshots', 'usageMetricsHourlySnapshots', 'accounts', 'liquidityPoolAmounts', 'protocols', 'tokenWhitelists', 'liquidityPools', 'tokens', 'activeAccounts', 'financialsDailySnapshots', 'helperStores', 'usageMetricsDailySnapshots', 'swaps', 'withdraws', 'events', 'dexAmmProtocols']\n"
     ]
    }
   ],
   "source": [
    "common_keys = ds.getCommonQueryKeys()\n",
    "print(f'common_keys: {common_keys}') # check which keys are shared between all endpoints"
   ]
  },
  {
   "cell_type": "code",
   "execution_count": 6,
   "metadata": {},
   "outputs": [
    {
     "name": "stdout",
     "output_type": "stream",
     "text": [
      "querying https://api.thegraph.com/subgraphs/name/messari/uniswap-v3-ethereum for swaps...\n",
      "FIELD - swaps\n"
     ]
    }
   ],
   "source": [
    "df_list = ds.querySubgraphs(ds.streamerDict, 'swaps', query_size=50000)"
   ]
  },
  {
   "cell_type": "code",
   "execution_count": 7,
   "metadata": {},
   "outputs": [],
   "source": [
    "# save df to csv\n",
    "df_list[0].to_csv('pool_address_df.csv', index=False)"
   ]
  },
  {
   "cell_type": "code",
   "execution_count": null,
   "metadata": {},
   "outputs": [],
   "source": []
  }
 ],
 "metadata": {
  "kernelspec": {
   "display_name": "ds",
   "language": "python",
   "name": "python3"
  },
  "language_info": {
   "codemirror_mode": {
    "name": "ipython",
    "version": 3
   },
   "file_extension": ".py",
   "mimetype": "text/x-python",
   "name": "python",
   "nbconvert_exporter": "python",
   "pygments_lexer": "ipython3",
   "version": "3.10.6"
  },
  "orig_nbformat": 4,
  "vscode": {
   "interpreter": {
    "hash": "6e4771a491a32973a3d91a7498ed105fbed006d0c3342348d97c77c956876e4a"
   }
  }
 },
 "nbformat": 4,
 "nbformat_minor": 2
}

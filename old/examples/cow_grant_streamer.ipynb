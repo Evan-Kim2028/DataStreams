{
 "cells": [
  {
   "cell_type": "code",
   "execution_count": 1,
   "metadata": {},
   "outputs": [
    {
     "name": "stdout",
     "output_type": "stream",
     "text": [
      "Defaulting to user installation because normal site-packages is not writeable\n",
      "Collecting git+https://github.com/Evan-Kim2028/DataStreams.git\n",
      "  Cloning https://github.com/Evan-Kim2028/DataStreams.git to /tmp/pip-req-build-5_lpfw62\n",
      "  Running command git clone --filter=blob:none --quiet https://github.com/Evan-Kim2028/DataStreams.git /tmp/pip-req-build-5_lpfw62\n",
      "  Resolved https://github.com/Evan-Kim2028/DataStreams.git to commit 5abc7076383fe0322015d937d1b5b544874bda9a\n",
      "  Installing build dependencies ... \u001b[?25ldone\n",
      "\u001b[?25h  Getting requirements to build wheel ... \u001b[?25ldone\n",
      "\u001b[?25h  Installing backend dependencies ... \u001b[?25ldone\n",
      "\u001b[?25h  Preparing metadata (pyproject.toml) ... \u001b[?25ldone\n",
      "\u001b[?25hRequirement already satisfied: subgrounds>=1.0.3 in /home/evan/.local/lib/python3.10/site-packages (from DataStreams==0.0.post1.dev38+g5abc707) (1.0.3)\n",
      "Requirement already satisfied: pandas>=1.5.0 in /home/evan/.local/lib/python3.10/site-packages (from DataStreams==0.0.post1.dev38+g5abc707) (1.5.0)\n",
      "Requirement already satisfied: pytz>=2020.1 in /home/evan/.local/lib/python3.10/site-packages (from pandas>=1.5.0->DataStreams==0.0.post1.dev38+g5abc707) (2021.3)\n",
      "Requirement already satisfied: python-dateutil>=2.8.1 in /home/evan/.local/lib/python3.10/site-packages (from pandas>=1.5.0->DataStreams==0.0.post1.dev38+g5abc707) (2.8.2)\n",
      "Requirement already satisfied: numpy>=1.21.0 in /home/evan/.local/lib/python3.10/site-packages (from pandas>=1.5.0->DataStreams==0.0.post1.dev38+g5abc707) (1.24.1)\n",
      "Requirement already satisfied: pipe<3.0,>=2.0 in /home/evan/.local/lib/python3.10/site-packages (from subgrounds>=1.0.3->DataStreams==0.0.post1.dev38+g5abc707) (2.0)\n",
      "Requirement already satisfied: pathlib<2.0.0,>=1.0.1 in /home/evan/.local/lib/python3.10/site-packages (from subgrounds>=1.0.3->DataStreams==0.0.post1.dev38+g5abc707) (1.0.1)\n",
      "Requirement already satisfied: pydantic<2.0.0,>=1.10.2 in /home/evan/.local/lib/python3.10/site-packages (from subgrounds>=1.0.3->DataStreams==0.0.post1.dev38+g5abc707) (1.10.2)\n",
      "Requirement already satisfied: requests<3.0.0,>=2.27.1 in /home/evan/.local/lib/python3.10/site-packages (from subgrounds>=1.0.3->DataStreams==0.0.post1.dev38+g5abc707) (2.28.1)\n",
      "Requirement already satisfied: typing-extensions>=4.1.0 in /home/evan/.local/lib/python3.10/site-packages (from pydantic<2.0.0,>=1.10.2->subgrounds>=1.0.3->DataStreams==0.0.post1.dev38+g5abc707) (4.4.0)\n",
      "Requirement already satisfied: six>=1.5 in /usr/local/lib/python3.10/dist-packages (from python-dateutil>=2.8.1->pandas>=1.5.0->DataStreams==0.0.post1.dev38+g5abc707) (1.16.0)\n",
      "Requirement already satisfied: charset-normalizer<3,>=2 in /usr/local/lib/python3.10/dist-packages (from requests<3.0.0,>=2.27.1->subgrounds>=1.0.3->DataStreams==0.0.post1.dev38+g5abc707) (2.1.0)\n",
      "Requirement already satisfied: certifi>=2017.4.17 in /usr/local/lib/python3.10/dist-packages (from requests<3.0.0,>=2.27.1->subgrounds>=1.0.3->DataStreams==0.0.post1.dev38+g5abc707) (2022.6.15)\n",
      "Requirement already satisfied: idna<4,>=2.5 in /home/evan/.local/lib/python3.10/site-packages (from requests<3.0.0,>=2.27.1->subgrounds>=1.0.3->DataStreams==0.0.post1.dev38+g5abc707) (2.10)\n",
      "Requirement already satisfied: urllib3<1.27,>=1.21.1 in /usr/local/lib/python3.10/dist-packages (from requests<3.0.0,>=2.27.1->subgrounds>=1.0.3->DataStreams==0.0.post1.dev38+g5abc707) (1.26.9)\n",
      "Building wheels for collected packages: DataStreams\n",
      "  Building wheel for DataStreams (pyproject.toml) ... \u001b[?25ldone\n",
      "\u001b[?25h  Created wheel for DataStreams: filename=DataStreams-0.0.post1.dev38+g5abc707-py3-none-any.whl size=6322 sha256=b60838162df3ac491645ed90453599fc08b52112088de981a534608b8771cf78\n",
      "  Stored in directory: /tmp/pip-ephem-wheel-cache-wrkpe2cy/wheels/06/e7/63/91de055318e05be20cb8ce687f960fcb1ae3a9e77f754cda6c\n",
      "Successfully built DataStreams\n",
      "Installing collected packages: DataStreams\n",
      "  Attempting uninstall: DataStreams\n",
      "    Found existing installation: DataStreams 0.0.post1.dev37+g881445e\n",
      "    Uninstalling DataStreams-0.0.post1.dev37+g881445e:\n",
      "      Successfully uninstalled DataStreams-0.0.post1.dev37+g881445e\n",
      "Successfully installed DataStreams-0.0.post1.dev38+g5abc707\n"
     ]
    }
   ],
   "source": [
    "!pip install git+https://github.com/Evan-Kim2028/DataStreams.git "
   ]
  },
  {
   "cell_type": "code",
   "execution_count": 2,
   "metadata": {},
   "outputs": [],
   "source": [
    "import os\n",
    "import pandas as pd\n",
    "\n",
    "from datastreams.datastream import Streamer"
   ]
  },
  {
   "cell_type": "code",
   "execution_count": 3,
   "metadata": {},
   "outputs": [],
   "source": [
    "pd.set_option('display.max_columns', None)\n",
    "pd.set_option('display.expand_frame_repr', False)\n",
    "pd.set_option('max_colwidth', None)"
   ]
  },
  {
   "cell_type": "code",
   "execution_count": 4,
   "metadata": {},
   "outputs": [],
   "source": [
    "endpoint = 'https://api.thegraph.com/subgraphs/name/cowprotocol/cow'"
   ]
  },
  {
   "cell_type": "code",
   "execution_count": 5,
   "metadata": {},
   "outputs": [],
   "source": [
    "ds = Streamer(endpoint)"
   ]
  },
  {
   "cell_type": "code",
   "execution_count": 24,
   "metadata": {},
   "outputs": [
    {
     "data": {
      "text/plain": [
       "[FieldPath(https://api.thegraph.com/subgraphs/name/cowprotocol/cow, Query, ['pairHourlies']),\n",
       " FieldPath(https://api.thegraph.com/subgraphs/name/cowprotocol/cow, Query, ['pairDailies']),\n",
       " FieldPath(https://api.thegraph.com/subgraphs/name/cowprotocol/cow, Query, ['pairs']),\n",
       " FieldPath(https://api.thegraph.com/subgraphs/name/cowprotocol/cow, Query, ['tokenTradingEvents']),\n",
       " FieldPath(https://api.thegraph.com/subgraphs/name/cowprotocol/cow, Query, ['tokenHourlyTotals']),\n",
       " FieldPath(https://api.thegraph.com/subgraphs/name/cowprotocol/cow, Query, ['tokenDailyTotals']),\n",
       " FieldPath(https://api.thegraph.com/subgraphs/name/cowprotocol/cow, Query, ['hourlyTotals']),\n",
       " FieldPath(https://api.thegraph.com/subgraphs/name/cowprotocol/cow, Query, ['dailyTotals']),\n",
       " FieldPath(https://api.thegraph.com/subgraphs/name/cowprotocol/cow, Query, ['totals']),\n",
       " FieldPath(https://api.thegraph.com/subgraphs/name/cowprotocol/cow, Query, ['uniswapTokens']),\n",
       " FieldPath(https://api.thegraph.com/subgraphs/name/cowprotocol/cow, Query, ['uniswapPools']),\n",
       " FieldPath(https://api.thegraph.com/subgraphs/name/cowprotocol/cow, Query, ['bundles']),\n",
       " FieldPath(https://api.thegraph.com/subgraphs/name/cowprotocol/cow, Query, ['settlements']),\n",
       " FieldPath(https://api.thegraph.com/subgraphs/name/cowprotocol/cow, Query, ['trades']),\n",
       " FieldPath(https://api.thegraph.com/subgraphs/name/cowprotocol/cow, Query, ['orders']),\n",
       " FieldPath(https://api.thegraph.com/subgraphs/name/cowprotocol/cow, Query, ['tokens']),\n",
       " FieldPath(https://api.thegraph.com/subgraphs/name/cowprotocol/cow, Query, ['users'])]"
      ]
     },
     "execution_count": 24,
     "metadata": {},
     "output_type": "execute_result"
    }
   ],
   "source": [
    "# Queryable fields are stored in ds.queryFields as a list of FieldPaths.\n",
    "ds.queryFields"
   ]
  },
  {
   "cell_type": "code",
   "execution_count": 27,
   "metadata": {},
   "outputs": [],
   "source": [
    "# get the fields trades, uniswapPools, uniswapTokens, users from queryFields\n",
    "trades = ds.queryFields[-4]\n",
    "uniswapPools = ds.queryFields[-7]\n",
    "uniswapTokens = ds.queryFields[-8]\n",
    "users = ds.queryFields[-1]"
   ]
  },
  {
   "cell_type": "code",
   "execution_count": 39,
   "metadata": {},
   "outputs": [
    {
     "data": {
      "text/plain": [
       "[FieldPath(https://api.thegraph.com/subgraphs/name/cowprotocol/cow, Query, ['trades']),\n",
       " FieldPath(https://api.thegraph.com/subgraphs/name/cowprotocol/cow, Query, ['users'])]"
      ]
     },
     "execution_count": 39,
     "metadata": {},
     "output_type": "execute_result"
    }
   ],
   "source": [
    "#put the above in a list and print\n",
    "query_list = [trades, users]\n",
    "query_list"
   ]
  },
  {
   "cell_type": "code",
   "execution_count": 37,
   "metadata": {},
   "outputs": [
    {
     "name": "stdout",
     "output_type": "stream",
     "text": [
      "trades\n",
      "FIELD - trades\n",
      "uniswapPools\n",
      "FIELD - uniswapPools\n"
     ]
    },
    {
     "ename": "PaginationError",
     "evalue": "Expecting value: line 1 column 1 (char 0)",
     "output_type": "error",
     "traceback": [
      "\u001b[0;31m---------------------------------------------------------------------------\u001b[0m",
      "\u001b[0;31mJSONDecodeError\u001b[0m                           Traceback (most recent call last)",
      "File \u001b[0;32m~/.local/lib/python3.10/site-packages/requests/models.py:971\u001b[0m, in \u001b[0;36mResponse.json\u001b[0;34m(self, **kwargs)\u001b[0m\n\u001b[1;32m    970\u001b[0m \u001b[39mtry\u001b[39;00m:\n\u001b[0;32m--> 971\u001b[0m     \u001b[39mreturn\u001b[39;00m complexjson\u001b[39m.\u001b[39;49mloads(\u001b[39mself\u001b[39;49m\u001b[39m.\u001b[39;49mtext, \u001b[39m*\u001b[39;49m\u001b[39m*\u001b[39;49mkwargs)\n\u001b[1;32m    972\u001b[0m \u001b[39mexcept\u001b[39;00m JSONDecodeError \u001b[39mas\u001b[39;00m e:\n\u001b[1;32m    973\u001b[0m     \u001b[39m# Catch JSON-related errors and raise as requests.JSONDecodeError\u001b[39;00m\n\u001b[1;32m    974\u001b[0m     \u001b[39m# This aliases json.JSONDecodeError and simplejson.JSONDecodeError\u001b[39;00m\n",
      "File \u001b[0;32m~/.local/lib/python3.10/site-packages/simplejson/__init__.py:525\u001b[0m, in \u001b[0;36mloads\u001b[0;34m(s, encoding, cls, object_hook, parse_float, parse_int, parse_constant, object_pairs_hook, use_decimal, **kw)\u001b[0m\n\u001b[1;32m    521\u001b[0m \u001b[39mif\u001b[39;00m (\u001b[39mcls\u001b[39m \u001b[39mis\u001b[39;00m \u001b[39mNone\u001b[39;00m \u001b[39mand\u001b[39;00m encoding \u001b[39mis\u001b[39;00m \u001b[39mNone\u001b[39;00m \u001b[39mand\u001b[39;00m object_hook \u001b[39mis\u001b[39;00m \u001b[39mNone\u001b[39;00m \u001b[39mand\u001b[39;00m\n\u001b[1;32m    522\u001b[0m         parse_int \u001b[39mis\u001b[39;00m \u001b[39mNone\u001b[39;00m \u001b[39mand\u001b[39;00m parse_float \u001b[39mis\u001b[39;00m \u001b[39mNone\u001b[39;00m \u001b[39mand\u001b[39;00m\n\u001b[1;32m    523\u001b[0m         parse_constant \u001b[39mis\u001b[39;00m \u001b[39mNone\u001b[39;00m \u001b[39mand\u001b[39;00m object_pairs_hook \u001b[39mis\u001b[39;00m \u001b[39mNone\u001b[39;00m\n\u001b[1;32m    524\u001b[0m         \u001b[39mand\u001b[39;00m \u001b[39mnot\u001b[39;00m use_decimal \u001b[39mand\u001b[39;00m \u001b[39mnot\u001b[39;00m kw):\n\u001b[0;32m--> 525\u001b[0m     \u001b[39mreturn\u001b[39;00m _default_decoder\u001b[39m.\u001b[39;49mdecode(s)\n\u001b[1;32m    526\u001b[0m \u001b[39mif\u001b[39;00m \u001b[39mcls\u001b[39m \u001b[39mis\u001b[39;00m \u001b[39mNone\u001b[39;00m:\n",
      "File \u001b[0;32m~/.local/lib/python3.10/site-packages/simplejson/decoder.py:370\u001b[0m, in \u001b[0;36mJSONDecoder.decode\u001b[0;34m(self, s, _w, _PY3)\u001b[0m\n\u001b[1;32m    369\u001b[0m     s \u001b[39m=\u001b[39m \u001b[39mstr\u001b[39m(s, \u001b[39mself\u001b[39m\u001b[39m.\u001b[39mencoding)\n\u001b[0;32m--> 370\u001b[0m obj, end \u001b[39m=\u001b[39m \u001b[39mself\u001b[39;49m\u001b[39m.\u001b[39;49mraw_decode(s)\n\u001b[1;32m    371\u001b[0m end \u001b[39m=\u001b[39m _w(s, end)\u001b[39m.\u001b[39mend()\n",
      "File \u001b[0;32m~/.local/lib/python3.10/site-packages/simplejson/decoder.py:400\u001b[0m, in \u001b[0;36mJSONDecoder.raw_decode\u001b[0;34m(self, s, idx, _w, _PY3)\u001b[0m\n\u001b[1;32m    399\u001b[0m         idx \u001b[39m+\u001b[39m\u001b[39m=\u001b[39m \u001b[39m3\u001b[39m\n\u001b[0;32m--> 400\u001b[0m \u001b[39mreturn\u001b[39;00m \u001b[39mself\u001b[39;49m\u001b[39m.\u001b[39;49mscan_once(s, idx\u001b[39m=\u001b[39;49m_w(s, idx)\u001b[39m.\u001b[39;49mend())\n",
      "\u001b[0;31mJSONDecodeError\u001b[0m: Expecting value: line 1 column 1 (char 0)",
      "\nDuring handling of the above exception, another exception occurred:\n",
      "\u001b[0;31mJSONDecodeError\u001b[0m                           Traceback (most recent call last)",
      "File \u001b[0;32m~/.local/lib/python3.10/site-packages/subgrounds/pagination/pagination.py:79\u001b[0m, in \u001b[0;36mpaginate\u001b[0;34m(schema, doc, pagination_strategy)\u001b[0m\n\u001b[1;32m     78\u001b[0m \u001b[39mtry\u001b[39;00m:\n\u001b[0;32m---> 79\u001b[0m   page_data \u001b[39m=\u001b[39m client\u001b[39m.\u001b[39;49mquery(\n\u001b[1;32m     80\u001b[0m     url\u001b[39m=\u001b[39;49mdoc\u001b[39m.\u001b[39;49murl,\n\u001b[1;32m     81\u001b[0m     query_str\u001b[39m=\u001b[39;49mdoc\u001b[39m.\u001b[39;49mgraphql,\n\u001b[1;32m     82\u001b[0m     variables\u001b[39m=\u001b[39;49mdoc\u001b[39m.\u001b[39;49mvariables \u001b[39m|\u001b[39;49m args\n\u001b[1;32m     83\u001b[0m   )\n\u001b[1;32m     84\u001b[0m   data \u001b[39m=\u001b[39m merge(data, page_data)\n",
      "File \u001b[0;32m~/.local/lib/python3.10/site-packages/subgrounds/client.py:162\u001b[0m, in \u001b[0;36mquery\u001b[0;34m(url, query_str, variables)\u001b[0m\n\u001b[1;32m    151\u001b[0m logger\u001b[39m.\u001b[39minfo(\n\u001b[1;32m    152\u001b[0m   \u001b[39mf\u001b[39m\u001b[39m'\u001b[39m\u001b[39mclient.query: url = \u001b[39m\u001b[39m{\u001b[39;00murl\u001b[39m}\u001b[39;00m\u001b[39m, variables = \u001b[39m\u001b[39m{\u001b[39;00mvariables\u001b[39m}\u001b[39;00m\u001b[39m\\n\u001b[39;00m\u001b[39m{\u001b[39;00mquery_str\u001b[39m}\u001b[39;00m\u001b[39m'\u001b[39m\n\u001b[1;32m    153\u001b[0m )\n\u001b[1;32m    154\u001b[0m resp \u001b[39m=\u001b[39m requests\u001b[39m.\u001b[39;49mpost(\n\u001b[1;32m    155\u001b[0m   url,\n\u001b[1;32m    156\u001b[0m   json\u001b[39m=\u001b[39;49m(\n\u001b[1;32m    157\u001b[0m     {\u001b[39m'\u001b[39;49m\u001b[39mquery\u001b[39;49m\u001b[39m'\u001b[39;49m: query_str}\n\u001b[1;32m    158\u001b[0m     \u001b[39mif\u001b[39;49;00m variables \u001b[39m==\u001b[39;49m {}\n\u001b[1;32m    159\u001b[0m     \u001b[39melse\u001b[39;49;00m {\u001b[39m'\u001b[39;49m\u001b[39mquery\u001b[39;49m\u001b[39m'\u001b[39;49m: query_str, \u001b[39m'\u001b[39;49m\u001b[39mvariables\u001b[39;49m\u001b[39m'\u001b[39;49m: variables}\n\u001b[1;32m    160\u001b[0m   ),\n\u001b[1;32m    161\u001b[0m   headers\u001b[39m=\u001b[39;49m{\u001b[39m'\u001b[39;49m\u001b[39mContent-Type\u001b[39;49m\u001b[39m'\u001b[39;49m: \u001b[39m'\u001b[39;49m\u001b[39mapplication/json\u001b[39;49m\u001b[39m'\u001b[39;49m}\n\u001b[0;32m--> 162\u001b[0m )\u001b[39m.\u001b[39;49mjson()\n\u001b[1;32m    164\u001b[0m \u001b[39mtry\u001b[39;00m:\n",
      "File \u001b[0;32m~/.local/lib/python3.10/site-packages/requests/models.py:975\u001b[0m, in \u001b[0;36mResponse.json\u001b[0;34m(self, **kwargs)\u001b[0m\n\u001b[1;32m    972\u001b[0m \u001b[39mexcept\u001b[39;00m JSONDecodeError \u001b[39mas\u001b[39;00m e:\n\u001b[1;32m    973\u001b[0m     \u001b[39m# Catch JSON-related errors and raise as requests.JSONDecodeError\u001b[39;00m\n\u001b[1;32m    974\u001b[0m     \u001b[39m# This aliases json.JSONDecodeError and simplejson.JSONDecodeError\u001b[39;00m\n\u001b[0;32m--> 975\u001b[0m     \u001b[39mraise\u001b[39;00m RequestsJSONDecodeError(e\u001b[39m.\u001b[39mmsg, e\u001b[39m.\u001b[39mdoc, e\u001b[39m.\u001b[39mpos)\n",
      "\u001b[0;31mJSONDecodeError\u001b[0m: Expecting value: line 1 column 1 (char 0)",
      "\nDuring handling of the above exception, another exception occurred:\n",
      "\u001b[0;31mPaginationError\u001b[0m                           Traceback (most recent call last)",
      "\u001b[1;32m/home/evan/Documents/github/DataStreams/examples/cow_grant_streamer.ipynb Cell 11\u001b[0m in \u001b[0;36m<cell line: 1>\u001b[0;34m()\u001b[0m\n\u001b[1;32m      <a href='vscode-notebook-cell:/home/evan/Documents/github/DataStreams/examples/cow_grant_streamer.ipynb#X26sZmlsZQ%3D%3D?line=0'>1</a>\u001b[0m \u001b[39mfor\u001b[39;00m query \u001b[39min\u001b[39;00m query_list:\n\u001b[1;32m      <a href='vscode-notebook-cell:/home/evan/Documents/github/DataStreams/examples/cow_grant_streamer.ipynb#X26sZmlsZQ%3D%3D?line=1'>2</a>\u001b[0m     \u001b[39mprint\u001b[39m(query)\n\u001b[0;32m----> <a href='vscode-notebook-cell:/home/evan/Documents/github/DataStreams/examples/cow_grant_streamer.ipynb#X26sZmlsZQ%3D%3D?line=2'>3</a>\u001b[0m     data \u001b[39m=\u001b[39m ds\u001b[39m.\u001b[39;49mrunQuery(query, query_size\u001b[39m=\u001b[39;49m\u001b[39m100000000\u001b[39;49m)\n\u001b[1;32m      <a href='vscode-notebook-cell:/home/evan/Documents/github/DataStreams/examples/cow_grant_streamer.ipynb#X26sZmlsZQ%3D%3D?line=3'>4</a>\u001b[0m     data_store\u001b[39m.\u001b[39mappend(data)\n",
      "File \u001b[0;32m~/.local/lib/python3.10/site-packages/datastreams/streamer.py:128\u001b[0m, in \u001b[0;36mStreamer.runQuery\u001b[0;34m(self, query_field, query_size)\u001b[0m\n\u001b[1;32m    125\u001b[0m \u001b[39mprint\u001b[39m(\u001b[39mf\u001b[39m\u001b[39m'\u001b[39m\u001b[39mFIELD - \u001b[39m\u001b[39m{\u001b[39;00mquery_field\u001b[39m}\u001b[39;00m\u001b[39m'\u001b[39m)\n\u001b[1;32m    127\u001b[0m \u001b[39m# 2) Run query\u001b[39;00m\n\u001b[0;32m--> 128\u001b[0m df \u001b[39m=\u001b[39m \u001b[39mself\u001b[39;49m\u001b[39m.\u001b[39;49msub\u001b[39m.\u001b[39;49mquery_df(query_field(first\u001b[39m=\u001b[39;49mquery_size))\n\u001b[1;32m    130\u001b[0m \u001b[39mreturn\u001b[39;00m df\n",
      "File \u001b[0;32m~/.local/lib/python3.10/site-packages/subgrounds/subgrounds.py:380\u001b[0m, in \u001b[0;36mSubgrounds.query_df\u001b[0;34m(self, fpaths, columns, concat, pagination_strategy)\u001b[0m\n\u001b[1;32m    309\u001b[0m \u001b[39m\"\"\"Same as :func:`Subgrounds.query` but formats the response data into a\u001b[39;00m\n\u001b[1;32m    310\u001b[0m \u001b[39mPandas DataFrame. If the response data cannot be flattened to a single query\u001b[39;00m\n\u001b[1;32m    311\u001b[0m \u001b[39m(e.g.: when querying multiple list fields that return different entities),\u001b[39;00m\n\u001b[0;32m   (...)\u001b[0m\n\u001b[1;32m    372\u001b[0m \u001b[39m    9       1643213196  2610.686563\u001b[39;00m\n\u001b[1;32m    373\u001b[0m \u001b[39m\"\"\"\u001b[39;00m\n\u001b[1;32m    374\u001b[0m fpaths \u001b[39m=\u001b[39m \u001b[39mlist\u001b[39m(\n\u001b[1;32m    375\u001b[0m   [fpaths]\n\u001b[1;32m    376\u001b[0m   \u001b[39m|\u001b[39m traverse\n\u001b[1;32m    377\u001b[0m   \u001b[39m|\u001b[39m \u001b[39mmap\u001b[39m(FieldPath\u001b[39m.\u001b[39m_auto_select)\n\u001b[1;32m    378\u001b[0m   \u001b[39m|\u001b[39m traverse\n\u001b[1;32m    379\u001b[0m )\n\u001b[0;32m--> 380\u001b[0m json_data \u001b[39m=\u001b[39m \u001b[39mself\u001b[39;49m\u001b[39m.\u001b[39;49mquery_json(fpaths, pagination_strategy\u001b[39m=\u001b[39;49mpagination_strategy)\n\u001b[1;32m    381\u001b[0m \u001b[39mreturn\u001b[39;00m df_of_json(json_data, fpaths, columns, concat)\n",
      "File \u001b[0;32m~/.local/lib/python3.10/site-packages/subgrounds/subgrounds.py:274\u001b[0m, in \u001b[0;36mSubgrounds.query_json\u001b[0;34m(self, fpaths, pagination_strategy)\u001b[0m\n\u001b[1;32m    267\u001b[0m fpaths \u001b[39m=\u001b[39m \u001b[39mlist\u001b[39m(\n\u001b[1;32m    268\u001b[0m   [fpaths]\n\u001b[1;32m    269\u001b[0m   \u001b[39m|\u001b[39m traverse\n\u001b[1;32m    270\u001b[0m   \u001b[39m|\u001b[39m \u001b[39mmap\u001b[39m(FieldPath\u001b[39m.\u001b[39m_auto_select)\n\u001b[1;32m    271\u001b[0m   \u001b[39m|\u001b[39m traverse\n\u001b[1;32m    272\u001b[0m )\n\u001b[1;32m    273\u001b[0m req \u001b[39m=\u001b[39m \u001b[39mself\u001b[39m\u001b[39m.\u001b[39mmk_request(fpaths)\n\u001b[0;32m--> 274\u001b[0m \u001b[39mreturn\u001b[39;00m \u001b[39mself\u001b[39;49m\u001b[39m.\u001b[39;49mexecute(req, pagination_strategy\u001b[39m=\u001b[39;49mpagination_strategy)\n",
      "File \u001b[0;32m~/.local/lib/python3.10/site-packages/subgrounds/subgrounds.py:199\u001b[0m, in \u001b[0;36mSubgrounds.execute\u001b[0;34m(self, req, pagination_strategy)\u001b[0m\n\u001b[1;32m    189\u001b[0m   \u001b[39mmatch\u001b[39;00m transforms:\n\u001b[1;32m    190\u001b[0m     \u001b[39mcase\u001b[39;00m []:\n\u001b[1;32m    191\u001b[0m       \u001b[39mreturn\u001b[39;00m \u001b[39mlist\u001b[39m(req\u001b[39m.\u001b[39mdocuments \u001b[39m|\u001b[39m \u001b[39mmap\u001b[39m(\u001b[39mlambda\u001b[39;00m doc: transform_doc(\u001b[39mself\u001b[39m\u001b[39m.\u001b[39msubgraphs[doc\u001b[39m.\u001b[39murl]\u001b[39m.\u001b[39m_transforms, doc)))\n\u001b[0;32m   (...)\u001b[0m\n\u001b[1;32m    194\u001b[0m       data \u001b[39m=\u001b[39m transform_req(rest, new_req)\n\u001b[1;32m    195\u001b[0m       \u001b[39mreturn\u001b[39;00m transform\u001b[39m.\u001b[39mtransform_response(req, data)\n\u001b[1;32m    197\u001b[0m   \u001b[39massert\u001b[39;00m \u001b[39mFalse\u001b[39;00m  \u001b[39m# Suppress mypy missing return statement warning\u001b[39;00m\n\u001b[0;32m--> 199\u001b[0m \u001b[39mreturn\u001b[39;00m transform_req(\u001b[39mself\u001b[39;49m\u001b[39m.\u001b[39;49mglobal_transforms, req)\n",
      "File \u001b[0;32m~/.local/lib/python3.10/site-packages/subgrounds/subgrounds.py:191\u001b[0m, in \u001b[0;36mSubgrounds.execute.<locals>.transform_req\u001b[0;34m(transforms, req)\u001b[0m\n\u001b[1;32m    188\u001b[0m \u001b[39mdef\u001b[39;00m \u001b[39mtransform_req\u001b[39m(transforms: \u001b[39mlist\u001b[39m[RequestTransform], req: DataRequest) \u001b[39m-\u001b[39m\u001b[39m>\u001b[39m \u001b[39mlist\u001b[39m[\u001b[39mdict\u001b[39m]:\n\u001b[1;32m    189\u001b[0m   \u001b[39mmatch\u001b[39;00m transforms:\n\u001b[1;32m    190\u001b[0m     \u001b[39mcase\u001b[39;00m []:\n\u001b[0;32m--> 191\u001b[0m       \u001b[39mreturn\u001b[39;00m \u001b[39mlist\u001b[39;49m(req\u001b[39m.\u001b[39;49mdocuments \u001b[39m|\u001b[39;49m \u001b[39mmap\u001b[39;49m(\u001b[39mlambda\u001b[39;49;00m doc: transform_doc(\u001b[39mself\u001b[39;49m\u001b[39m.\u001b[39;49msubgraphs[doc\u001b[39m.\u001b[39;49murl]\u001b[39m.\u001b[39;49m_transforms, doc)))\n\u001b[1;32m    192\u001b[0m     \u001b[39mcase\u001b[39;00m [transform, \u001b[39m*\u001b[39mrest]:\n\u001b[1;32m    193\u001b[0m       new_req \u001b[39m=\u001b[39m transform\u001b[39m.\u001b[39mtransform_request(req)\n\u001b[1;32m    194\u001b[0m       data \u001b[39m=\u001b[39m transform_req(rest, new_req)\n\u001b[1;32m    195\u001b[0m       \u001b[39mreturn\u001b[39;00m transform\u001b[39m.\u001b[39mtransform_response(req, data)\n\u001b[1;32m    197\u001b[0m   \u001b[39massert\u001b[39;00m \u001b[39mFalse\u001b[39;00m\n",
      "File \u001b[0;32m~/.local/lib/python3.10/site-packages/subgrounds/subgrounds.py:191\u001b[0m, in \u001b[0;36mSubgrounds.execute.<locals>.transform_req.<locals>.<lambda>\u001b[0;34m(doc)\u001b[0m\n\u001b[1;32m    188\u001b[0m \u001b[39mdef\u001b[39;00m \u001b[39mtransform_req\u001b[39m(transforms: \u001b[39mlist\u001b[39m[RequestTransform], req: DataRequest) \u001b[39m-\u001b[39m\u001b[39m>\u001b[39m \u001b[39mlist\u001b[39m[\u001b[39mdict\u001b[39m]:\n\u001b[1;32m    189\u001b[0m   \u001b[39mmatch\u001b[39;00m transforms:\n\u001b[1;32m    190\u001b[0m     \u001b[39mcase\u001b[39;00m []:\n\u001b[0;32m--> 191\u001b[0m       \u001b[39mreturn\u001b[39;00m \u001b[39mlist\u001b[39m(req\u001b[39m.\u001b[39mdocuments \u001b[39m|\u001b[39m \u001b[39mmap\u001b[39m(\u001b[39mlambda\u001b[39;00m doc: transform_doc(\u001b[39mself\u001b[39;49m\u001b[39m.\u001b[39;49msubgraphs[doc\u001b[39m.\u001b[39;49murl]\u001b[39m.\u001b[39;49m_transforms, doc)))\n\u001b[1;32m    192\u001b[0m     \u001b[39mcase\u001b[39;00m [transform, \u001b[39m*\u001b[39mrest]:\n\u001b[1;32m    193\u001b[0m       new_req \u001b[39m=\u001b[39m transform\u001b[39m.\u001b[39mtransform_request(req)\n\u001b[1;32m    194\u001b[0m       data \u001b[39m=\u001b[39m transform_req(rest, new_req)\n\u001b[1;32m    195\u001b[0m       \u001b[39mreturn\u001b[39;00m transform\u001b[39m.\u001b[39mtransform_response(req, data)\n\u001b[1;32m    197\u001b[0m   \u001b[39massert\u001b[39;00m \u001b[39mFalse\u001b[39;00m\n",
      "File \u001b[0;32m~/.local/lib/python3.10/site-packages/subgrounds/subgrounds.py:183\u001b[0m, in \u001b[0;36mSubgrounds.execute.<locals>.transform_doc\u001b[0;34m(transforms, doc)\u001b[0m\n\u001b[1;32m    176\u001b[0m \u001b[39mdef\u001b[39;00m \u001b[39mtransform_doc\u001b[39m(transforms: \u001b[39mlist\u001b[39m[DocumentTransform], doc: Document) \u001b[39m-\u001b[39m\u001b[39m>\u001b[39m \u001b[39mdict\u001b[39m:\n\u001b[1;32m    177\u001b[0m   logger\u001b[39m.\u001b[39mdebug(\u001b[39mf\u001b[39m\u001b[39m'\u001b[39m\u001b[39mexecute.transform_doc: doc = \u001b[39m\u001b[39m\\n\u001b[39;00m\u001b[39m{\u001b[39;00mdoc\u001b[39m.\u001b[39mgraphql\u001b[39m}\u001b[39;00m\u001b[39m'\u001b[39m)\n\u001b[1;32m    178\u001b[0m   \u001b[39mmatch\u001b[39;00m transforms:\n\u001b[1;32m    179\u001b[0m     \u001b[39mcase\u001b[39;00m []:\n\u001b[1;32m    180\u001b[0m       \u001b[39mreturn\u001b[39;00m execute_document(doc)\n\u001b[1;32m    181\u001b[0m     \u001b[39mcase\u001b[39;00m [transform, \u001b[39m*\u001b[39mrest]:\n\u001b[1;32m    182\u001b[0m       new_doc \u001b[39m=\u001b[39m transform\u001b[39m.\u001b[39mtransform_document(doc)\n\u001b[0;32m--> 183\u001b[0m       data \u001b[39m=\u001b[39m transform_doc(rest, new_doc)\n\u001b[1;32m    184\u001b[0m       \u001b[39mreturn\u001b[39;00m transform\u001b[39m.\u001b[39mtransform_response(doc, data)\n\u001b[1;32m    186\u001b[0m   \u001b[39massert\u001b[39;00m \u001b[39mFalse\u001b[39;00m\n",
      "File \u001b[0;32m~/.local/lib/python3.10/site-packages/subgrounds/subgrounds.py:183\u001b[0m, in \u001b[0;36mSubgrounds.execute.<locals>.transform_doc\u001b[0;34m(transforms, doc)\u001b[0m\n\u001b[1;32m    176\u001b[0m \u001b[39mdef\u001b[39;00m \u001b[39mtransform_doc\u001b[39m(transforms: \u001b[39mlist\u001b[39m[DocumentTransform], doc: Document) \u001b[39m-\u001b[39m\u001b[39m>\u001b[39m \u001b[39mdict\u001b[39m:\n\u001b[1;32m    177\u001b[0m   logger\u001b[39m.\u001b[39mdebug(\u001b[39mf\u001b[39m\u001b[39m'\u001b[39m\u001b[39mexecute.transform_doc: doc = \u001b[39m\u001b[39m\\n\u001b[39;00m\u001b[39m{\u001b[39;00mdoc\u001b[39m.\u001b[39mgraphql\u001b[39m}\u001b[39;00m\u001b[39m'\u001b[39m)\n\u001b[1;32m    178\u001b[0m   \u001b[39mmatch\u001b[39;00m transforms:\n\u001b[1;32m    179\u001b[0m     \u001b[39mcase\u001b[39;00m []:\n\u001b[1;32m    180\u001b[0m       \u001b[39mreturn\u001b[39;00m execute_document(doc)\n\u001b[1;32m    181\u001b[0m     \u001b[39mcase\u001b[39;00m [transform, \u001b[39m*\u001b[39mrest]:\n\u001b[1;32m    182\u001b[0m       new_doc \u001b[39m=\u001b[39m transform\u001b[39m.\u001b[39mtransform_document(doc)\n\u001b[0;32m--> 183\u001b[0m       data \u001b[39m=\u001b[39m transform_doc(rest, new_doc)\n\u001b[1;32m    184\u001b[0m       \u001b[39mreturn\u001b[39;00m transform\u001b[39m.\u001b[39mtransform_response(doc, data)\n\u001b[1;32m    186\u001b[0m   \u001b[39massert\u001b[39;00m \u001b[39mFalse\u001b[39;00m\n",
      "File \u001b[0;32m~/.local/lib/python3.10/site-packages/subgrounds/subgrounds.py:180\u001b[0m, in \u001b[0;36mSubgrounds.execute.<locals>.transform_doc\u001b[0;34m(transforms, doc)\u001b[0m\n\u001b[1;32m    176\u001b[0m \u001b[39mdef\u001b[39;00m \u001b[39mtransform_doc\u001b[39m(transforms: \u001b[39mlist\u001b[39m[DocumentTransform], doc: Document) \u001b[39m-\u001b[39m\u001b[39m>\u001b[39m \u001b[39mdict\u001b[39m:\n\u001b[1;32m    177\u001b[0m   logger\u001b[39m.\u001b[39mdebug(\u001b[39mf\u001b[39m\u001b[39m'\u001b[39m\u001b[39mexecute.transform_doc: doc = \u001b[39m\u001b[39m\\n\u001b[39;00m\u001b[39m{\u001b[39;00mdoc\u001b[39m.\u001b[39mgraphql\u001b[39m}\u001b[39;00m\u001b[39m'\u001b[39m)\n\u001b[1;32m    178\u001b[0m   \u001b[39mmatch\u001b[39;00m transforms:\n\u001b[1;32m    179\u001b[0m     \u001b[39mcase\u001b[39;00m []:\n\u001b[0;32m--> 180\u001b[0m       \u001b[39mreturn\u001b[39;00m execute_document(doc)\n\u001b[1;32m    181\u001b[0m     \u001b[39mcase\u001b[39;00m [transform, \u001b[39m*\u001b[39mrest]:\n\u001b[1;32m    182\u001b[0m       new_doc \u001b[39m=\u001b[39m transform\u001b[39m.\u001b[39mtransform_document(doc)\n\u001b[1;32m    183\u001b[0m       data \u001b[39m=\u001b[39m transform_doc(rest, new_doc)\n\u001b[1;32m    184\u001b[0m       \u001b[39mreturn\u001b[39;00m transform\u001b[39m.\u001b[39mtransform_response(doc, data)\n\u001b[1;32m    186\u001b[0m   \u001b[39massert\u001b[39;00m \u001b[39mFalse\u001b[39;00m\n",
      "File \u001b[0;32m~/.local/lib/python3.10/site-packages/subgrounds/subgrounds.py:172\u001b[0m, in \u001b[0;36mSubgrounds.execute.<locals>.execute_document\u001b[0;34m(doc)\u001b[0m\n\u001b[1;32m    167\u001b[0m subgraph: Subgraph \u001b[39m=\u001b[39m \u001b[39mnext\u001b[39m(\n\u001b[1;32m    168\u001b[0m   \u001b[39mself\u001b[39m\u001b[39m.\u001b[39msubgraphs\u001b[39m.\u001b[39mvalues()\n\u001b[1;32m    169\u001b[0m   \u001b[39m|\u001b[39m where(\u001b[39mlambda\u001b[39;00m sg: sg\u001b[39m.\u001b[39m_url \u001b[39m==\u001b[39m doc\u001b[39m.\u001b[39murl)\n\u001b[1;32m    170\u001b[0m )\n\u001b[1;32m    171\u001b[0m \u001b[39mif\u001b[39;00m pagination_strategy \u001b[39mis\u001b[39;00m \u001b[39mnot\u001b[39;00m \u001b[39mNone\u001b[39;00m \u001b[39mand\u001b[39;00m subgraph\u001b[39m.\u001b[39m_is_subgraph:\n\u001b[0;32m--> 172\u001b[0m   \u001b[39mreturn\u001b[39;00m paginate(subgraph\u001b[39m.\u001b[39;49m_schema, doc, pagination_strategy\u001b[39m=\u001b[39;49mpagination_strategy)\n\u001b[1;32m    173\u001b[0m \u001b[39melse\u001b[39;00m:\n\u001b[1;32m    174\u001b[0m   \u001b[39mreturn\u001b[39;00m client\u001b[39m.\u001b[39mquery(doc\u001b[39m.\u001b[39murl, doc\u001b[39m.\u001b[39mgraphql, variables\u001b[39m=\u001b[39mdoc\u001b[39m.\u001b[39mvariables)\n",
      "File \u001b[0;32m~/.local/lib/python3.10/site-packages/subgrounds/pagination/pagination.py:89\u001b[0m, in \u001b[0;36mpaginate\u001b[0;34m(schema, doc, pagination_strategy)\u001b[0m\n\u001b[1;32m     87\u001b[0m       \u001b[39mbreak\u001b[39;00m\n\u001b[1;32m     88\u001b[0m     \u001b[39mexcept\u001b[39;00m \u001b[39mException\u001b[39;00m \u001b[39mas\u001b[39;00m exn:\n\u001b[0;32m---> 89\u001b[0m       \u001b[39mraise\u001b[39;00m PaginationError(exn\u001b[39m.\u001b[39margs[\u001b[39m0\u001b[39m], strategy)\n\u001b[1;32m     91\u001b[0m   \u001b[39mreturn\u001b[39;00m data\n\u001b[1;32m     93\u001b[0m \u001b[39mexcept\u001b[39;00m SkipPagination:\n",
      "\u001b[0;31mPaginationError\u001b[0m: Expecting value: line 1 column 1 (char 0)"
     ]
    }
   ],
   "source": [
    "for query in query_list:\n",
    "    print(query)\n",
    "    data = ds.runQuery(query, query_size=100000000)\n",
    "    "
   ]
  },
  {
   "cell_type": "code",
   "execution_count": 40,
   "metadata": {},
   "outputs": [
    {
     "name": "stdout",
     "output_type": "stream",
     "text": [
      "FIELD - trades\n",
      "FIELD - users\n",
      "17 queries, parallelized 8 cores: 6421.02 seconds. Largest df is 439184\n",
      "\n"
     ]
    },
    {
     "name": "stderr",
     "output_type": "stream",
     "text": [
      "sys:1: ResourceWarning: unclosed socket <zmq.Socket(zmq.PUSH) at 0x7ff579b79600>\n",
      "ResourceWarning: Enable tracemalloc to get the object allocation traceback\n"
     ]
    }
   ],
   "source": [
    "df_data_list_parallel = ds.runStreamerLoopParallel(query_list=query_list, query_size=100000000)"
   ]
  },
  {
   "cell_type": "code",
   "execution_count": 42,
   "metadata": {},
   "outputs": [
    {
     "data": {
      "text/html": [
       "<div>\n",
       "<style scoped>\n",
       "    .dataframe tbody tr th:only-of-type {\n",
       "        vertical-align: middle;\n",
       "    }\n",
       "\n",
       "    .dataframe tbody tr th {\n",
       "        vertical-align: top;\n",
       "    }\n",
       "\n",
       "    .dataframe thead th {\n",
       "        text-align: right;\n",
       "    }\n",
       "</style>\n",
       "<table border=\"1\" class=\"dataframe\">\n",
       "  <thead>\n",
       "    <tr style=\"text-align: right;\">\n",
       "      <th></th>\n",
       "      <th>trades_id</th>\n",
       "      <th>trades_timestamp</th>\n",
       "      <th>trades_gasPrice</th>\n",
       "      <th>trades_feeAmount</th>\n",
       "      <th>trades_txHash</th>\n",
       "      <th>trades_settlement_id</th>\n",
       "      <th>trades_buyAmount</th>\n",
       "      <th>trades_sellAmount</th>\n",
       "      <th>trades_sellToken_id</th>\n",
       "      <th>trades_buyToken_id</th>\n",
       "      <th>trades_order_id</th>\n",
       "      <th>trades_buyAmountEth</th>\n",
       "      <th>trades_sellAmountEth</th>\n",
       "      <th>trades_buyAmountUsd</th>\n",
       "      <th>trades_sellAmountUsd</th>\n",
       "    </tr>\n",
       "  </thead>\n",
       "  <tbody>\n",
       "    <tr>\n",
       "      <th>0</th>\n",
       "      <td>0x000050299d2697ae6d93d9ccec7b55dbe79c920596927402db5784e8e7ef1c9d961eed3b7d4b7c261ee5b023e5f857af5af1e700632d3cf0|0x0454b81f9e497fe91fc2df0e1e7420b9a5e20439b065132daab91c09de8512cf|59</td>\n",
       "      <td>1663907363</td>\n",
       "      <td>6062637482</td>\n",
       "      <td>1344622</td>\n",
       "      <td>0x0454b81f9e497fe91fc2df0e1e7420b9a5e20439b065132daab91c09de8512cf</td>\n",
       "      <td>0x0454b81f9e497fe91fc2df0e1e7420b9a5e20439b065132daab91c09de8512cf</td>\n",
       "      <td>917011543008284856417</td>\n",
       "      <td>4093394367</td>\n",
       "      <td>0xa0b86991c6218b36c1d19d4a2e9eb0ce3606eb48</td>\n",
       "      <td>0x3432b6a60d23ca0dfca7761b7ab56459d9c964d0</td>\n",
       "      <td>0x000050299d2697ae6d93d9ccec7b55dbe79c920596927402db5784e8e7ef1c9d961eed3b7d4b7c261ee5b023e5f857af5af1e700632d3cf0</td>\n",
       "      <td>3.047480</td>\n",
       "      <td>3.049075</td>\n",
       "      <td>4087.560206</td>\n",
       "      <td>4093.394367</td>\n",
       "    </tr>\n",
       "    <tr>\n",
       "      <th>1</th>\n",
       "      <td>0x0000543dbe9253542d4c3020c5ed40fefd3520dcf5ea9c16e71d611031629c50a85f11d4d6119848a0d2b2b8e270a6846383f39f6199100a|0x8ed73664124b6683be7064af365ce972679b94964680ccb79056ed5192e1a9af|1</td>\n",
       "      <td>1637419389</td>\n",
       "      <td>96392802490</td>\n",
       "      <td>7508432409899440</td>\n",
       "      <td>0x8ed73664124b6683be7064af365ce972679b94964680ccb79056ed5192e1a9af</td>\n",
       "      <td>0x8ed73664124b6683be7064af365ce972679b94964680ccb79056ed5192e1a9af</td>\n",
       "      <td>20887903</td>\n",
       "      <td>5403161965640052848</td>\n",
       "      <td>0xc02aaa39b223fe8d0a0e5c4f27ead9083c756cc2</td>\n",
       "      <td>0x21ad647b8f4fe333212e735bfc1f36b4941e6ad2</td>\n",
       "      <td>0x0000543dbe9253542d4c3020c5ed40fefd3520dcf5ea9c16e71d611031629c50a85f11d4d6119848a0d2b2b8e270a6846383f39f6199100a</td>\n",
       "      <td>0.000000</td>\n",
       "      <td>5.403162</td>\n",
       "      <td>0.000000</td>\n",
       "      <td>23288.207524</td>\n",
       "    </tr>\n",
       "    <tr>\n",
       "      <th>2</th>\n",
       "      <td>0x00006f4028421299b3bf398dace422a6230beca51223a47b407ad0038351bd07a4d0b8a5cf2fcb72abec58bf9be156a2e0a58b7e62555649|0x1759c9e55bed47c03ca02f78a63ed674815d35ee971cd81d0733737cdd528257|3</td>\n",
       "      <td>1649758670</td>\n",
       "      <td>37462722322</td>\n",
       "      <td>231083551837426720</td>\n",
       "      <td>0x1759c9e55bed47c03ca02f78a63ed674815d35ee971cd81d0733737cdd528257</td>\n",
       "      <td>0x1759c9e55bed47c03ca02f78a63ed674815d35ee971cd81d0733737cdd528257</td>\n",
       "      <td>83488515439092675372</td>\n",
       "      <td>50512108780891254932</td>\n",
       "      <td>0x0d438f3b5175bebc262bf23753c1e53d03432bde</td>\n",
       "      <td>0xba100000625a3754423978a60c9317c58a424e3d</td>\n",
       "      <td>0x00006f4028421299b3bf398dace422a6230beca51223a47b407ad0038351bd07a4d0b8a5cf2fcb72abec58bf9be156a2e0a58b7e62555649</td>\n",
       "      <td>0.000000</td>\n",
       "      <td>0.431026</td>\n",
       "      <td>0.000000</td>\n",
       "      <td>1301.451984</td>\n",
       "    </tr>\n",
       "    <tr>\n",
       "      <th>3</th>\n",
       "      <td>0x0000a7abab226d1435769463bd69f908f97f6fa9f0d43e562c7ab1e53254f547a6ab7dc66dbeff529232d817f0f5a8026324bde66121daf9|0xa57b75307095f920b3195ae6365c234ed294c117032df91b6670edd0ce89e430|166</td>\n",
       "      <td>1629606920</td>\n",
       "      <td>30784014397</td>\n",
       "      <td>4120031304160000</td>\n",
       "      <td>0xa57b75307095f920b3195ae6365c234ed294c117032df91b6670edd0ce89e430</td>\n",
       "      <td>0xa57b75307095f920b3195ae6365c234ed294c117032df91b6670edd0ce89e430</td>\n",
       "      <td>631309430</td>\n",
       "      <td>200000000000000000</td>\n",
       "      <td>0xc02aaa39b223fe8d0a0e5c4f27ead9083c756cc2</td>\n",
       "      <td>0xdac17f958d2ee523a2206206994597c13d831ec7</td>\n",
       "      <td>0x0000a7abab226d1435769463bd69f908f97f6fa9f0d43e562c7ab1e53254f547a6ab7dc66dbeff529232d817f0f5a8026324bde66121daf9</td>\n",
       "      <td>0.195200</td>\n",
       "      <td>0.200000</td>\n",
       "      <td>631.309430</td>\n",
       "      <td>646.833378</td>\n",
       "    </tr>\n",
       "    <tr>\n",
       "      <th>4</th>\n",
       "      <td>0x0000cee52fa9bb7d59a5693b9ad3204eba530e70d0e4e89849d08f5dba11aafdb0e3f1c86bcb05fef30b5082da5e50e041dc154a6386af77|0x75e7950b08f7e5e42b8fa5855a495794497b3e41fdd2467e8e3a87c1c6e7055f|9</td>\n",
       "      <td>1669769399</td>\n",
       "      <td>26561817760</td>\n",
       "      <td>11048886</td>\n",
       "      <td>0x75e7950b08f7e5e42b8fa5855a495794497b3e41fdd2467e8e3a87c1c6e7055f</td>\n",
       "      <td>0x75e7950b08f7e5e42b8fa5855a495794497b3e41fdd2467e8e3a87c1c6e7055f</td>\n",
       "      <td>2486248136801875184</td>\n",
       "      <td>3182358586</td>\n",
       "      <td>0xa0b86991c6218b36c1d19d4a2e9eb0ce3606eb48</td>\n",
       "      <td>0xc02aaa39b223fe8d0a0e5c4f27ead9083c756cc2</td>\n",
       "      <td>0x0000cee52fa9bb7d59a5693b9ad3204eba530e70d0e4e89849d08f5dba11aafdb0e3f1c86bcb05fef30b5082da5e50e041dc154a6386af77</td>\n",
       "      <td>2.486248</td>\n",
       "      <td>2.495714</td>\n",
       "      <td>3170.288616</td>\n",
       "      <td>3182.358586</td>\n",
       "    </tr>\n",
       "    <tr>\n",
       "      <th>...</th>\n",
       "      <td>...</td>\n",
       "      <td>...</td>\n",
       "      <td>...</td>\n",
       "      <td>...</td>\n",
       "      <td>...</td>\n",
       "      <td>...</td>\n",
       "      <td>...</td>\n",
       "      <td>...</td>\n",
       "      <td>...</td>\n",
       "      <td>...</td>\n",
       "      <td>...</td>\n",
       "      <td>...</td>\n",
       "      <td>...</td>\n",
       "      <td>...</td>\n",
       "      <td>...</td>\n",
       "    </tr>\n",
       "    <tr>\n",
       "      <th>439179</th>\n",
       "      <td>0xffff3cb92163ceec943a21959333b75460bb63270dbc4a2ec1a447116f719ee57121eab1d2d15e3929b19f9b4398d4d808b8c29d6162aff8|0x06d571fdf05093e752cdefbd23135b1bc352952af8e98ef5c1bf1145e611b1fd|66</td>\n",
       "      <td>1633855781</td>\n",
       "      <td>75265898388</td>\n",
       "      <td>55793356</td>\n",
       "      <td>0x06d571fdf05093e752cdefbd23135b1bc352952af8e98ef5c1bf1145e611b1fd</td>\n",
       "      <td>0x06d571fdf05093e752cdefbd23135b1bc352952af8e98ef5c1bf1145e611b1fd</td>\n",
       "      <td>10941669570</td>\n",
       "      <td>11000000000</td>\n",
       "      <td>0xdac17f958d2ee523a2206206994597c13d831ec7</td>\n",
       "      <td>0xa0b86991c6218b36c1d19d4a2e9eb0ce3606eb48</td>\n",
       "      <td>0xffff3cb92163ceec943a21959333b75460bb63270dbc4a2ec1a447116f719ee57121eab1d2d15e3929b19f9b4398d4d808b8c29d6162aff8</td>\n",
       "      <td>3.051157</td>\n",
       "      <td>3.067423</td>\n",
       "      <td>10941.669570</td>\n",
       "      <td>11000.000000</td>\n",
       "    </tr>\n",
       "    <tr>\n",
       "      <th>439180</th>\n",
       "      <td>0xffff436fef85c6d9a0c880a7e5fc563a46bb58577f1b95a89ce7b2878a799ee586f6ce40e125a4137aa9a9d1e1bec0d65fdef41c62ea3887|0x0df373485bfcbe0fbcc88817059b064c7c3e6388f5ab447a8911b034ce107b35|15</td>\n",
       "      <td>1659515352</td>\n",
       "      <td>11986374318</td>\n",
       "      <td>312289710806431956992</td>\n",
       "      <td>0x0df373485bfcbe0fbcc88817059b064c7c3e6388f5ab447a8911b034ce107b35</td>\n",
       "      <td>0x0df373485bfcbe0fbcc88817059b064c7c3e6388f5ab447a8911b034ce107b35</td>\n",
       "      <td>1251381263</td>\n",
       "      <td>76381209288651082495111</td>\n",
       "      <td>0xf1a91c7d44768070f711c68f33a7ca25c8d30268</td>\n",
       "      <td>0xa0b86991c6218b36c1d19d4a2e9eb0ce3606eb48</td>\n",
       "      <td>0xffff436fef85c6d9a0c880a7e5fc563a46bb58577f1b95a89ce7b2878a799ee586f6ce40e125a4137aa9a9d1e1bec0d65fdef41c62ea3887</td>\n",
       "      <td>0.765121</td>\n",
       "      <td>0.000000</td>\n",
       "      <td>1251.381263</td>\n",
       "      <td>0.000000</td>\n",
       "    </tr>\n",
       "    <tr>\n",
       "      <th>439181</th>\n",
       "      <td>0xffff69dea911b289f9b76e26b681a55ff59b342e9ea92702df0a2a5f06c1b76015962221e0e7a41de9da1615f9cb64cbfff8340863a5e793|0xd19001f8b0d4800e4ec4c769c284deb9ca70d424d0ef091ac27542029d17259f|33</td>\n",
       "      <td>1671815363</td>\n",
       "      <td>22826586002</td>\n",
       "      <td>75448128685131808768</td>\n",
       "      <td>0xd19001f8b0d4800e4ec4c769c284deb9ca70d424d0ef091ac27542029d17259f</td>\n",
       "      <td>0xd19001f8b0d4800e4ec4c769c284deb9ca70d424d0ef091ac27542029d17259f</td>\n",
       "      <td>10008394730012025762261</td>\n",
       "      <td>48947363920629143866523</td>\n",
       "      <td>0x4e15361fd6b4bb609fa63c81a2be19d873717870</td>\n",
       "      <td>0x6b175474e89094c44da98b954eedeac495271d0f</td>\n",
       "      <td>0xffff69dea911b289f9b76e26b681a55ff59b342e9ea92702df0a2a5f06c1b76015962221e0e7a41de9da1615f9cb64cbfff8340863a5e793</td>\n",
       "      <td>8.204308</td>\n",
       "      <td>8.180539</td>\n",
       "      <td>10008.394730</td>\n",
       "      <td>9979.399246</td>\n",
       "    </tr>\n",
       "    <tr>\n",
       "      <th>439182</th>\n",
       "      <td>0xffffc13d3fd610a2b7ef381e66cf7ec264dee1c49b94007f32114514b0defefaceadfdccd0e8e370d985c49ed3117b2572243a4a61175f35|0x606641cfe0ccf9a5afd92ba48a30ebd0cbf2df7ad6a9ad03029669fc57490fc0|94</td>\n",
       "      <td>1628920475</td>\n",
       "      <td>37744927099</td>\n",
       "      <td>30469637</td>\n",
       "      <td>0x606641cfe0ccf9a5afd92ba48a30ebd0cbf2df7ad6a9ad03029669fc57490fc0</td>\n",
       "      <td>0x606641cfe0ccf9a5afd92ba48a30ebd0cbf2df7ad6a9ad03029669fc57490fc0</td>\n",
       "      <td>138592348985873266424</td>\n",
       "      <td>784695026</td>\n",
       "      <td>0xdac17f958d2ee523a2206206994597c13d831ec7</td>\n",
       "      <td>0x25f8087ead173b73d6e8b84329989a8eea16cf73</td>\n",
       "      <td>0xffffc13d3fd610a2b7ef381e66cf7ec264dee1c49b94007f32114514b0defefaceadfdccd0e8e370d985c49ed3117b2572243a4a61175f35</td>\n",
       "      <td>0.227117</td>\n",
       "      <td>0.238369</td>\n",
       "      <td>747.654917</td>\n",
       "      <td>784.695026</td>\n",
       "    </tr>\n",
       "    <tr>\n",
       "      <th>439183</th>\n",
       "      <td>0xfffff303e98c2131495e4e4a432d94890479a4877ee197b73116044207f9271640685478edae64f262cb1f8b71b4721f668954f962f781c9|0x661d57714871ccadbec6629b697b75c58ab4f796667892909df596bfca1f4aaf|155</td>\n",
       "      <td>1660386623</td>\n",
       "      <td>9658777814</td>\n",
       "      <td>16619736661392842752</td>\n",
       "      <td>0x661d57714871ccadbec6629b697b75c58ab4f796667892909df596bfca1f4aaf</td>\n",
       "      <td>0x661d57714871ccadbec6629b697b75c58ab4f796667892909df596bfca1f4aaf</td>\n",
       "      <td>78064584090</td>\n",
       "      <td>78213999999999999999999</td>\n",
       "      <td>0x99d8a9c45b2eca8864373a26d1459e3dff1e17f3</td>\n",
       "      <td>0xdac17f958d2ee523a2206206994597c13d831ec7</td>\n",
       "      <td>0xfffff303e98c2131495e4e4a432d94890479a4877ee197b73116044207f9271640685478edae64f262cb1f8b71b4721f668954f962f781c9</td>\n",
       "      <td>39.058525</td>\n",
       "      <td>39.001137</td>\n",
       "      <td>78064.584090</td>\n",
       "      <td>78107.108363</td>\n",
       "    </tr>\n",
       "  </tbody>\n",
       "</table>\n",
       "<p>439184 rows × 15 columns</p>\n",
       "</div>"
      ],
      "text/plain": [
       "                                                                                                                                                                                        trades_id  trades_timestamp  trades_gasPrice       trades_feeAmount                                                       trades_txHash                                                trades_settlement_id         trades_buyAmount        trades_sellAmount                         trades_sellToken_id                          trades_buyToken_id                                                                                                     trades_order_id  trades_buyAmountEth  trades_sellAmountEth  trades_buyAmountUsd  trades_sellAmountUsd\n",
       "0        0x000050299d2697ae6d93d9ccec7b55dbe79c920596927402db5784e8e7ef1c9d961eed3b7d4b7c261ee5b023e5f857af5af1e700632d3cf0|0x0454b81f9e497fe91fc2df0e1e7420b9a5e20439b065132daab91c09de8512cf|59        1663907363       6062637482                1344622  0x0454b81f9e497fe91fc2df0e1e7420b9a5e20439b065132daab91c09de8512cf  0x0454b81f9e497fe91fc2df0e1e7420b9a5e20439b065132daab91c09de8512cf    917011543008284856417               4093394367  0xa0b86991c6218b36c1d19d4a2e9eb0ce3606eb48  0x3432b6a60d23ca0dfca7761b7ab56459d9c964d0  0x000050299d2697ae6d93d9ccec7b55dbe79c920596927402db5784e8e7ef1c9d961eed3b7d4b7c261ee5b023e5f857af5af1e700632d3cf0             3.047480              3.049075          4087.560206           4093.394367\n",
       "1         0x0000543dbe9253542d4c3020c5ed40fefd3520dcf5ea9c16e71d611031629c50a85f11d4d6119848a0d2b2b8e270a6846383f39f6199100a|0x8ed73664124b6683be7064af365ce972679b94964680ccb79056ed5192e1a9af|1        1637419389      96392802490       7508432409899440  0x8ed73664124b6683be7064af365ce972679b94964680ccb79056ed5192e1a9af  0x8ed73664124b6683be7064af365ce972679b94964680ccb79056ed5192e1a9af                 20887903      5403161965640052848  0xc02aaa39b223fe8d0a0e5c4f27ead9083c756cc2  0x21ad647b8f4fe333212e735bfc1f36b4941e6ad2  0x0000543dbe9253542d4c3020c5ed40fefd3520dcf5ea9c16e71d611031629c50a85f11d4d6119848a0d2b2b8e270a6846383f39f6199100a             0.000000              5.403162             0.000000          23288.207524\n",
       "2         0x00006f4028421299b3bf398dace422a6230beca51223a47b407ad0038351bd07a4d0b8a5cf2fcb72abec58bf9be156a2e0a58b7e62555649|0x1759c9e55bed47c03ca02f78a63ed674815d35ee971cd81d0733737cdd528257|3        1649758670      37462722322     231083551837426720  0x1759c9e55bed47c03ca02f78a63ed674815d35ee971cd81d0733737cdd528257  0x1759c9e55bed47c03ca02f78a63ed674815d35ee971cd81d0733737cdd528257     83488515439092675372     50512108780891254932  0x0d438f3b5175bebc262bf23753c1e53d03432bde  0xba100000625a3754423978a60c9317c58a424e3d  0x00006f4028421299b3bf398dace422a6230beca51223a47b407ad0038351bd07a4d0b8a5cf2fcb72abec58bf9be156a2e0a58b7e62555649             0.000000              0.431026             0.000000           1301.451984\n",
       "3       0x0000a7abab226d1435769463bd69f908f97f6fa9f0d43e562c7ab1e53254f547a6ab7dc66dbeff529232d817f0f5a8026324bde66121daf9|0xa57b75307095f920b3195ae6365c234ed294c117032df91b6670edd0ce89e430|166        1629606920      30784014397       4120031304160000  0xa57b75307095f920b3195ae6365c234ed294c117032df91b6670edd0ce89e430  0xa57b75307095f920b3195ae6365c234ed294c117032df91b6670edd0ce89e430                631309430       200000000000000000  0xc02aaa39b223fe8d0a0e5c4f27ead9083c756cc2  0xdac17f958d2ee523a2206206994597c13d831ec7  0x0000a7abab226d1435769463bd69f908f97f6fa9f0d43e562c7ab1e53254f547a6ab7dc66dbeff529232d817f0f5a8026324bde66121daf9             0.195200              0.200000           631.309430            646.833378\n",
       "4         0x0000cee52fa9bb7d59a5693b9ad3204eba530e70d0e4e89849d08f5dba11aafdb0e3f1c86bcb05fef30b5082da5e50e041dc154a6386af77|0x75e7950b08f7e5e42b8fa5855a495794497b3e41fdd2467e8e3a87c1c6e7055f|9        1669769399      26561817760               11048886  0x75e7950b08f7e5e42b8fa5855a495794497b3e41fdd2467e8e3a87c1c6e7055f  0x75e7950b08f7e5e42b8fa5855a495794497b3e41fdd2467e8e3a87c1c6e7055f      2486248136801875184               3182358586  0xa0b86991c6218b36c1d19d4a2e9eb0ce3606eb48  0xc02aaa39b223fe8d0a0e5c4f27ead9083c756cc2  0x0000cee52fa9bb7d59a5693b9ad3204eba530e70d0e4e89849d08f5dba11aafdb0e3f1c86bcb05fef30b5082da5e50e041dc154a6386af77             2.486248              2.495714          3170.288616           3182.358586\n",
       "...                                                                                                                                                                                           ...               ...              ...                    ...                                                                 ...                                                                 ...                      ...                      ...                                         ...                                         ...                                                                                                                 ...                  ...                   ...                  ...                   ...\n",
       "439179   0xffff3cb92163ceec943a21959333b75460bb63270dbc4a2ec1a447116f719ee57121eab1d2d15e3929b19f9b4398d4d808b8c29d6162aff8|0x06d571fdf05093e752cdefbd23135b1bc352952af8e98ef5c1bf1145e611b1fd|66        1633855781      75265898388               55793356  0x06d571fdf05093e752cdefbd23135b1bc352952af8e98ef5c1bf1145e611b1fd  0x06d571fdf05093e752cdefbd23135b1bc352952af8e98ef5c1bf1145e611b1fd              10941669570              11000000000  0xdac17f958d2ee523a2206206994597c13d831ec7  0xa0b86991c6218b36c1d19d4a2e9eb0ce3606eb48  0xffff3cb92163ceec943a21959333b75460bb63270dbc4a2ec1a447116f719ee57121eab1d2d15e3929b19f9b4398d4d808b8c29d6162aff8             3.051157              3.067423         10941.669570          11000.000000\n",
       "439180   0xffff436fef85c6d9a0c880a7e5fc563a46bb58577f1b95a89ce7b2878a799ee586f6ce40e125a4137aa9a9d1e1bec0d65fdef41c62ea3887|0x0df373485bfcbe0fbcc88817059b064c7c3e6388f5ab447a8911b034ce107b35|15        1659515352      11986374318  312289710806431956992  0x0df373485bfcbe0fbcc88817059b064c7c3e6388f5ab447a8911b034ce107b35  0x0df373485bfcbe0fbcc88817059b064c7c3e6388f5ab447a8911b034ce107b35               1251381263  76381209288651082495111  0xf1a91c7d44768070f711c68f33a7ca25c8d30268  0xa0b86991c6218b36c1d19d4a2e9eb0ce3606eb48  0xffff436fef85c6d9a0c880a7e5fc563a46bb58577f1b95a89ce7b2878a799ee586f6ce40e125a4137aa9a9d1e1bec0d65fdef41c62ea3887             0.765121              0.000000          1251.381263              0.000000\n",
       "439181   0xffff69dea911b289f9b76e26b681a55ff59b342e9ea92702df0a2a5f06c1b76015962221e0e7a41de9da1615f9cb64cbfff8340863a5e793|0xd19001f8b0d4800e4ec4c769c284deb9ca70d424d0ef091ac27542029d17259f|33        1671815363      22826586002   75448128685131808768  0xd19001f8b0d4800e4ec4c769c284deb9ca70d424d0ef091ac27542029d17259f  0xd19001f8b0d4800e4ec4c769c284deb9ca70d424d0ef091ac27542029d17259f  10008394730012025762261  48947363920629143866523  0x4e15361fd6b4bb609fa63c81a2be19d873717870  0x6b175474e89094c44da98b954eedeac495271d0f  0xffff69dea911b289f9b76e26b681a55ff59b342e9ea92702df0a2a5f06c1b76015962221e0e7a41de9da1615f9cb64cbfff8340863a5e793             8.204308              8.180539         10008.394730           9979.399246\n",
       "439182   0xffffc13d3fd610a2b7ef381e66cf7ec264dee1c49b94007f32114514b0defefaceadfdccd0e8e370d985c49ed3117b2572243a4a61175f35|0x606641cfe0ccf9a5afd92ba48a30ebd0cbf2df7ad6a9ad03029669fc57490fc0|94        1628920475      37744927099               30469637  0x606641cfe0ccf9a5afd92ba48a30ebd0cbf2df7ad6a9ad03029669fc57490fc0  0x606641cfe0ccf9a5afd92ba48a30ebd0cbf2df7ad6a9ad03029669fc57490fc0    138592348985873266424                784695026  0xdac17f958d2ee523a2206206994597c13d831ec7  0x25f8087ead173b73d6e8b84329989a8eea16cf73  0xffffc13d3fd610a2b7ef381e66cf7ec264dee1c49b94007f32114514b0defefaceadfdccd0e8e370d985c49ed3117b2572243a4a61175f35             0.227117              0.238369           747.654917            784.695026\n",
       "439183  0xfffff303e98c2131495e4e4a432d94890479a4877ee197b73116044207f9271640685478edae64f262cb1f8b71b4721f668954f962f781c9|0x661d57714871ccadbec6629b697b75c58ab4f796667892909df596bfca1f4aaf|155        1660386623       9658777814   16619736661392842752  0x661d57714871ccadbec6629b697b75c58ab4f796667892909df596bfca1f4aaf  0x661d57714871ccadbec6629b697b75c58ab4f796667892909df596bfca1f4aaf              78064584090  78213999999999999999999  0x99d8a9c45b2eca8864373a26d1459e3dff1e17f3  0xdac17f958d2ee523a2206206994597c13d831ec7  0xfffff303e98c2131495e4e4a432d94890479a4877ee197b73116044207f9271640685478edae64f262cb1f8b71b4721f668954f962f781c9            39.058525             39.001137         78064.584090          78107.108363\n",
       "\n",
       "[439184 rows x 15 columns]"
      ]
     },
     "execution_count": 42,
     "metadata": {},
     "output_type": "execute_result"
    }
   ],
   "source": [
    "df_data_list_parallel[0]"
   ]
  },
  {
   "cell_type": "code",
   "execution_count": 44,
   "metadata": {},
   "outputs": [],
   "source": [
    "# save df_data_list_parallel to csvs in a folder\n",
    "for i in range(len(df_data_list_parallel)):\n",
    "    df_data_list_parallel[i].to_csv(f'cow_{i}.csv', index=False)\n",
    "    "
   ]
  }
 ],
 "metadata": {
  "kernelspec": {
   "display_name": "ds",
   "language": "python",
   "name": "python3"
  },
  "language_info": {
   "codemirror_mode": {
    "name": "ipython",
    "version": 3
   },
   "file_extension": ".py",
   "mimetype": "text/x-python",
   "name": "python",
   "nbconvert_exporter": "python",
   "pygments_lexer": "ipython3",
   "version": "3.10.6 (main, Nov 14 2022, 16:10:14) [GCC 11.3.0]"
  },
  "orig_nbformat": 4,
  "vscode": {
   "interpreter": {
    "hash": "6e4771a491a32973a3d91a7498ed105fbed006d0c3342348d97c77c956876e4a"
   }
  }
 },
 "nbformat": 4,
 "nbformat_minor": 2
}

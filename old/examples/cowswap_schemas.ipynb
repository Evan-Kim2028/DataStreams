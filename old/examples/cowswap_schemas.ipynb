{
 "cells": [
  {
   "cell_type": "code",
   "execution_count": 1,
   "metadata": {},
   "outputs": [
    {
     "name": "stdout",
     "output_type": "stream",
     "text": [
      "Defaulting to user installation because normal site-packages is not writeable\n",
      "Collecting git+https://github.com/Evan-Kim2028/DataStreams.git\n",
      "  Cloning https://github.com/Evan-Kim2028/DataStreams.git to /tmp/pip-req-build-1lewo2e2\n",
      "  Running command git clone --filter=blob:none --quiet https://github.com/Evan-Kim2028/DataStreams.git /tmp/pip-req-build-1lewo2e2\n",
      "  Resolved https://github.com/Evan-Kim2028/DataStreams.git to commit 79b462edeab2b3c502c8ec74aa2ffc85abc9bc0f\n",
      "  Installing build dependencies ... \u001b[?25ldone\n",
      "\u001b[?25h  Getting requirements to build wheel ... \u001b[?25ldone\n",
      "\u001b[?25h  Installing backend dependencies ... \u001b[?25ldone\n",
      "\u001b[?25h  Preparing metadata (pyproject.toml) ... \u001b[?25ldone\n",
      "\u001b[?25hRequirement already satisfied: subgrounds>=1.0.3 in /home/evan/.local/lib/python3.10/site-packages (from DataStreams==0.0.post1.dev47+g79b462e) (1.0.3)\n",
      "Requirement already satisfied: pandas>=1.5.0 in /home/evan/.local/lib/python3.10/site-packages (from DataStreams==0.0.post1.dev47+g79b462e) (1.5.0)\n",
      "Requirement already satisfied: python-dateutil>=2.8.1 in /home/evan/.local/lib/python3.10/site-packages (from pandas>=1.5.0->DataStreams==0.0.post1.dev47+g79b462e) (2.8.2)\n",
      "Requirement already satisfied: numpy>=1.21.0 in /home/evan/.local/lib/python3.10/site-packages (from pandas>=1.5.0->DataStreams==0.0.post1.dev47+g79b462e) (1.23.5)\n",
      "Requirement already satisfied: pytz>=2020.1 in /home/evan/.local/lib/python3.10/site-packages (from pandas>=1.5.0->DataStreams==0.0.post1.dev47+g79b462e) (2021.3)\n",
      "Requirement already satisfied: requests<3.0.0,>=2.27.1 in /home/evan/.local/lib/python3.10/site-packages (from subgrounds>=1.0.3->DataStreams==0.0.post1.dev47+g79b462e) (2.28.1)\n",
      "Requirement already satisfied: pathlib<2.0.0,>=1.0.1 in /home/evan/.local/lib/python3.10/site-packages (from subgrounds>=1.0.3->DataStreams==0.0.post1.dev47+g79b462e) (1.0.1)\n",
      "Requirement already satisfied: pydantic<2.0.0,>=1.10.2 in /home/evan/.local/lib/python3.10/site-packages (from subgrounds>=1.0.3->DataStreams==0.0.post1.dev47+g79b462e) (1.10.2)\n",
      "Requirement already satisfied: pipe<3.0,>=2.0 in /home/evan/.local/lib/python3.10/site-packages (from subgrounds>=1.0.3->DataStreams==0.0.post1.dev47+g79b462e) (2.0)\n",
      "Requirement already satisfied: typing-extensions>=4.1.0 in /home/evan/.local/lib/python3.10/site-packages (from pydantic<2.0.0,>=1.10.2->subgrounds>=1.0.3->DataStreams==0.0.post1.dev47+g79b462e) (4.4.0)\n",
      "Requirement already satisfied: six>=1.5 in /usr/local/lib/python3.10/dist-packages (from python-dateutil>=2.8.1->pandas>=1.5.0->DataStreams==0.0.post1.dev47+g79b462e) (1.16.0)\n",
      "Requirement already satisfied: idna<4,>=2.5 in /home/evan/.local/lib/python3.10/site-packages (from requests<3.0.0,>=2.27.1->subgrounds>=1.0.3->DataStreams==0.0.post1.dev47+g79b462e) (2.10)\n",
      "Requirement already satisfied: urllib3<1.27,>=1.21.1 in /usr/local/lib/python3.10/dist-packages (from requests<3.0.0,>=2.27.1->subgrounds>=1.0.3->DataStreams==0.0.post1.dev47+g79b462e) (1.26.9)\n",
      "Requirement already satisfied: certifi>=2017.4.17 in /usr/local/lib/python3.10/dist-packages (from requests<3.0.0,>=2.27.1->subgrounds>=1.0.3->DataStreams==0.0.post1.dev47+g79b462e) (2022.6.15)\n",
      "Requirement already satisfied: charset-normalizer<3,>=2 in /usr/local/lib/python3.10/dist-packages (from requests<3.0.0,>=2.27.1->subgrounds>=1.0.3->DataStreams==0.0.post1.dev47+g79b462e) (2.1.0)\n",
      "Building wheels for collected packages: DataStreams\n",
      "  Building wheel for DataStreams (pyproject.toml) ... \u001b[?25ldone\n",
      "\u001b[?25h  Created wheel for DataStreams: filename=DataStreams-0.0.post1.dev47+g79b462e-py3-none-any.whl size=7291 sha256=95ed0287beed752dc09648590806a0bdd3c51ae1ffa6702a496ca1ed4b34818a\n",
      "  Stored in directory: /tmp/pip-ephem-wheel-cache-mov9w98n/wheels/06/e7/63/91de055318e05be20cb8ce687f960fcb1ae3a9e77f754cda6c\n",
      "Successfully built DataStreams\n",
      "Installing collected packages: DataStreams\n",
      "  Attempting uninstall: DataStreams\n",
      "    Found existing installation: DataStreams 0.0.post1.dev46+ged97dc0\n",
      "    Uninstalling DataStreams-0.0.post1.dev46+ged97dc0:\n",
      "      Successfully uninstalled DataStreams-0.0.post1.dev46+ged97dc0\n",
      "Successfully installed DataStreams-0.0.post1.dev47+g79b462e\n"
     ]
    }
   ],
   "source": [
    "!pip install git+https://github.com/Evan-Kim2028/DataStreams.git"
   ]
  },
  {
   "cell_type": "code",
   "execution_count": 2,
   "metadata": {},
   "outputs": [],
   "source": [
    "import os\n",
    "import pandas as pd\n",
    "\n",
    "from datastreams.datastream import Streamer"
   ]
  },
  {
   "cell_type": "code",
   "execution_count": 3,
   "metadata": {},
   "outputs": [],
   "source": [
    "pd.set_option('display.max_columns', None)\n",
    "pd.set_option('display.expand_frame_repr', False)\n",
    "pd.set_option('max_colwidth', None)"
   ]
  },
  {
   "cell_type": "code",
   "execution_count": 4,
   "metadata": {},
   "outputs": [],
   "source": [
    "endpoint = 'https://api.thegraph.com/subgraphs/name/cowprotocol/cow'\n",
    "# endpoint = 'https://api.thegraph.com/subgraphs/name/messari/uniswap-v3-arbitrum'"
   ]
  },
  {
   "cell_type": "code",
   "execution_count": 5,
   "metadata": {},
   "outputs": [],
   "source": [
    "ds = Streamer(endpoint)"
   ]
  },
  {
   "cell_type": "code",
   "execution_count": 6,
   "metadata": {},
   "outputs": [
    {
     "data": {
      "text/plain": [
       "{'users': FieldPath(https://api.thegraph.com/subgraphs/name/cowprotocol/cow, Query, ['users']),\n",
       " 'tokens': FieldPath(https://api.thegraph.com/subgraphs/name/cowprotocol/cow, Query, ['tokens']),\n",
       " 'orders': FieldPath(https://api.thegraph.com/subgraphs/name/cowprotocol/cow, Query, ['orders']),\n",
       " 'trades': FieldPath(https://api.thegraph.com/subgraphs/name/cowprotocol/cow, Query, ['trades']),\n",
       " 'settlements': FieldPath(https://api.thegraph.com/subgraphs/name/cowprotocol/cow, Query, ['settlements']),\n",
       " 'bundles': FieldPath(https://api.thegraph.com/subgraphs/name/cowprotocol/cow, Query, ['bundles']),\n",
       " 'uniswapPools': FieldPath(https://api.thegraph.com/subgraphs/name/cowprotocol/cow, Query, ['uniswapPools']),\n",
       " 'uniswapTokens': FieldPath(https://api.thegraph.com/subgraphs/name/cowprotocol/cow, Query, ['uniswapTokens']),\n",
       " 'totals': FieldPath(https://api.thegraph.com/subgraphs/name/cowprotocol/cow, Query, ['totals']),\n",
       " 'dailyTotals': FieldPath(https://api.thegraph.com/subgraphs/name/cowprotocol/cow, Query, ['dailyTotals']),\n",
       " 'hourlyTotals': FieldPath(https://api.thegraph.com/subgraphs/name/cowprotocol/cow, Query, ['hourlyTotals']),\n",
       " 'tokenDailyTotals': FieldPath(https://api.thegraph.com/subgraphs/name/cowprotocol/cow, Query, ['tokenDailyTotals']),\n",
       " 'tokenHourlyTotals': FieldPath(https://api.thegraph.com/subgraphs/name/cowprotocol/cow, Query, ['tokenHourlyTotals']),\n",
       " 'tokenTradingEvents': FieldPath(https://api.thegraph.com/subgraphs/name/cowprotocol/cow, Query, ['tokenTradingEvents']),\n",
       " 'pairs': FieldPath(https://api.thegraph.com/subgraphs/name/cowprotocol/cow, Query, ['pairs']),\n",
       " 'pairDailies': FieldPath(https://api.thegraph.com/subgraphs/name/cowprotocol/cow, Query, ['pairDailies']),\n",
       " 'pairHourlies': FieldPath(https://api.thegraph.com/subgraphs/name/cowprotocol/cow, Query, ['pairHourlies'])}"
      ]
     },
     "execution_count": 6,
     "metadata": {},
     "output_type": "execute_result"
    }
   ],
   "source": [
    "# Search for queryable fields in queryDict, which has a format {str: FieldPath}\n",
    "ds.queryDict"
   ]
  },
  {
   "attachments": {},
   "cell_type": "markdown",
   "metadata": {},
   "source": [
    "### Execute a single query with runQuery()"
   ]
  },
  {
   "cell_type": "code",
   "execution_count": 9,
   "metadata": {},
   "outputs": [
    {
     "name": "stdout",
     "output_type": "stream",
     "text": [
      "FIELD - trades\n"
     ]
    },
    {
     "data": {
      "text/html": [
       "<div>\n",
       "<style scoped>\n",
       "    .dataframe tbody tr th:only-of-type {\n",
       "        vertical-align: middle;\n",
       "    }\n",
       "\n",
       "    .dataframe tbody tr th {\n",
       "        vertical-align: top;\n",
       "    }\n",
       "\n",
       "    .dataframe thead th {\n",
       "        text-align: right;\n",
       "    }\n",
       "</style>\n",
       "<table border=\"1\" class=\"dataframe\">\n",
       "  <thead>\n",
       "    <tr style=\"text-align: right;\">\n",
       "      <th></th>\n",
       "      <th>trades_id</th>\n",
       "      <th>trades_timestamp</th>\n",
       "      <th>trades_gasPrice</th>\n",
       "      <th>trades_feeAmount</th>\n",
       "      <th>trades_txHash</th>\n",
       "      <th>trades_settlement_id</th>\n",
       "      <th>trades_buyAmount</th>\n",
       "      <th>trades_sellAmount</th>\n",
       "      <th>trades_sellToken_id</th>\n",
       "      <th>trades_buyToken_id</th>\n",
       "      <th>trades_order_id</th>\n",
       "      <th>trades_buyAmountEth</th>\n",
       "      <th>trades_sellAmountEth</th>\n",
       "      <th>trades_buyAmountUsd</th>\n",
       "      <th>trades_sellAmountUsd</th>\n",
       "    </tr>\n",
       "  </thead>\n",
       "  <tbody>\n",
       "    <tr>\n",
       "      <th>0</th>\n",
       "      <td>0x000050299d2697ae6d93d9ccec7b55dbe79c920596927402db5784e8e7ef1c9d961eed3b7d4b7c261ee5b023e5f857af5af1e700632d3cf0|0x0454b81f9e497fe91fc2df0e1e7420b9a5e20439b065132daab91c09de8512cf|59</td>\n",
       "      <td>1663907363</td>\n",
       "      <td>6062637482</td>\n",
       "      <td>1344622</td>\n",
       "      <td>0x0454b81f9e497fe91fc2df0e1e7420b9a5e20439b065132daab91c09de8512cf</td>\n",
       "      <td>0x0454b81f9e497fe91fc2df0e1e7420b9a5e20439b065132daab91c09de8512cf</td>\n",
       "      <td>917011543008284856417</td>\n",
       "      <td>4093394367</td>\n",
       "      <td>0xa0b86991c6218b36c1d19d4a2e9eb0ce3606eb48</td>\n",
       "      <td>0x3432b6a60d23ca0dfca7761b7ab56459d9c964d0</td>\n",
       "      <td>0x000050299d2697ae6d93d9ccec7b55dbe79c920596927402db5784e8e7ef1c9d961eed3b7d4b7c261ee5b023e5f857af5af1e700632d3cf0</td>\n",
       "      <td>3.047480</td>\n",
       "      <td>3.049075</td>\n",
       "      <td>4087.560206</td>\n",
       "      <td>4093.394367</td>\n",
       "    </tr>\n",
       "    <tr>\n",
       "      <th>1</th>\n",
       "      <td>0x0000543dbe9253542d4c3020c5ed40fefd3520dcf5ea9c16e71d611031629c50a85f11d4d6119848a0d2b2b8e270a6846383f39f6199100a|0x8ed73664124b6683be7064af365ce972679b94964680ccb79056ed5192e1a9af|1</td>\n",
       "      <td>1637419389</td>\n",
       "      <td>96392802490</td>\n",
       "      <td>7508432409899440</td>\n",
       "      <td>0x8ed73664124b6683be7064af365ce972679b94964680ccb79056ed5192e1a9af</td>\n",
       "      <td>0x8ed73664124b6683be7064af365ce972679b94964680ccb79056ed5192e1a9af</td>\n",
       "      <td>20887903</td>\n",
       "      <td>5403161965640052848</td>\n",
       "      <td>0xc02aaa39b223fe8d0a0e5c4f27ead9083c756cc2</td>\n",
       "      <td>0x21ad647b8f4fe333212e735bfc1f36b4941e6ad2</td>\n",
       "      <td>0x0000543dbe9253542d4c3020c5ed40fefd3520dcf5ea9c16e71d611031629c50a85f11d4d6119848a0d2b2b8e270a6846383f39f6199100a</td>\n",
       "      <td>0.000000</td>\n",
       "      <td>5.403162</td>\n",
       "      <td>0.000000</td>\n",
       "      <td>23288.207524</td>\n",
       "    </tr>\n",
       "    <tr>\n",
       "      <th>2</th>\n",
       "      <td>0x00006f4028421299b3bf398dace422a6230beca51223a47b407ad0038351bd07a4d0b8a5cf2fcb72abec58bf9be156a2e0a58b7e62555649|0x1759c9e55bed47c03ca02f78a63ed674815d35ee971cd81d0733737cdd528257|3</td>\n",
       "      <td>1649758670</td>\n",
       "      <td>37462722322</td>\n",
       "      <td>231083551837426720</td>\n",
       "      <td>0x1759c9e55bed47c03ca02f78a63ed674815d35ee971cd81d0733737cdd528257</td>\n",
       "      <td>0x1759c9e55bed47c03ca02f78a63ed674815d35ee971cd81d0733737cdd528257</td>\n",
       "      <td>83488515439092675372</td>\n",
       "      <td>50512108780891254932</td>\n",
       "      <td>0x0d438f3b5175bebc262bf23753c1e53d03432bde</td>\n",
       "      <td>0xba100000625a3754423978a60c9317c58a424e3d</td>\n",
       "      <td>0x00006f4028421299b3bf398dace422a6230beca51223a47b407ad0038351bd07a4d0b8a5cf2fcb72abec58bf9be156a2e0a58b7e62555649</td>\n",
       "      <td>0.000000</td>\n",
       "      <td>0.431026</td>\n",
       "      <td>0.000000</td>\n",
       "      <td>1301.451984</td>\n",
       "    </tr>\n",
       "    <tr>\n",
       "      <th>3</th>\n",
       "      <td>0x0000a7abab226d1435769463bd69f908f97f6fa9f0d43e562c7ab1e53254f547a6ab7dc66dbeff529232d817f0f5a8026324bde66121daf9|0xa57b75307095f920b3195ae6365c234ed294c117032df91b6670edd0ce89e430|166</td>\n",
       "      <td>1629606920</td>\n",
       "      <td>30784014397</td>\n",
       "      <td>4120031304160000</td>\n",
       "      <td>0xa57b75307095f920b3195ae6365c234ed294c117032df91b6670edd0ce89e430</td>\n",
       "      <td>0xa57b75307095f920b3195ae6365c234ed294c117032df91b6670edd0ce89e430</td>\n",
       "      <td>631309430</td>\n",
       "      <td>200000000000000000</td>\n",
       "      <td>0xc02aaa39b223fe8d0a0e5c4f27ead9083c756cc2</td>\n",
       "      <td>0xdac17f958d2ee523a2206206994597c13d831ec7</td>\n",
       "      <td>0x0000a7abab226d1435769463bd69f908f97f6fa9f0d43e562c7ab1e53254f547a6ab7dc66dbeff529232d817f0f5a8026324bde66121daf9</td>\n",
       "      <td>0.195200</td>\n",
       "      <td>0.200000</td>\n",
       "      <td>631.309430</td>\n",
       "      <td>646.833378</td>\n",
       "    </tr>\n",
       "    <tr>\n",
       "      <th>4</th>\n",
       "      <td>0x0000cee52fa9bb7d59a5693b9ad3204eba530e70d0e4e89849d08f5dba11aafdb0e3f1c86bcb05fef30b5082da5e50e041dc154a6386af77|0x75e7950b08f7e5e42b8fa5855a495794497b3e41fdd2467e8e3a87c1c6e7055f|9</td>\n",
       "      <td>1669769399</td>\n",
       "      <td>26561817760</td>\n",
       "      <td>11048886</td>\n",
       "      <td>0x75e7950b08f7e5e42b8fa5855a495794497b3e41fdd2467e8e3a87c1c6e7055f</td>\n",
       "      <td>0x75e7950b08f7e5e42b8fa5855a495794497b3e41fdd2467e8e3a87c1c6e7055f</td>\n",
       "      <td>2486248136801875184</td>\n",
       "      <td>3182358586</td>\n",
       "      <td>0xa0b86991c6218b36c1d19d4a2e9eb0ce3606eb48</td>\n",
       "      <td>0xc02aaa39b223fe8d0a0e5c4f27ead9083c756cc2</td>\n",
       "      <td>0x0000cee52fa9bb7d59a5693b9ad3204eba530e70d0e4e89849d08f5dba11aafdb0e3f1c86bcb05fef30b5082da5e50e041dc154a6386af77</td>\n",
       "      <td>2.486248</td>\n",
       "      <td>2.495714</td>\n",
       "      <td>3170.288616</td>\n",
       "      <td>3182.358586</td>\n",
       "    </tr>\n",
       "    <tr>\n",
       "      <th>...</th>\n",
       "      <td>...</td>\n",
       "      <td>...</td>\n",
       "      <td>...</td>\n",
       "      <td>...</td>\n",
       "      <td>...</td>\n",
       "      <td>...</td>\n",
       "      <td>...</td>\n",
       "      <td>...</td>\n",
       "      <td>...</td>\n",
       "      <td>...</td>\n",
       "      <td>...</td>\n",
       "      <td>...</td>\n",
       "      <td>...</td>\n",
       "      <td>...</td>\n",
       "      <td>...</td>\n",
       "    </tr>\n",
       "    <tr>\n",
       "      <th>145</th>\n",
       "      <td>0x00167f051b227daa2886e7b606b4c2d39ddc33924c7cc8993fa37a7f954dce5d22fa3239c4bf43d05cc587ff40ea3ba5841c670961ee226b|0x4bf4a869a3ec4f7471d8a4f340e4a2105c417fec2397d75f1f9c63c9948e89fa|0</td>\n",
       "      <td>1642995223</td>\n",
       "      <td>142011550279</td>\n",
       "      <td>82100751</td>\n",
       "      <td>0x4bf4a869a3ec4f7471d8a4f340e4a2105c417fec2397d75f1f9c63c9948e89fa</td>\n",
       "      <td>0x4bf4a869a3ec4f7471d8a4f340e4a2105c417fec2397d75f1f9c63c9948e89fa</td>\n",
       "      <td>20000000000000000000000</td>\n",
       "      <td>18847017299</td>\n",
       "      <td>0xa0b86991c6218b36c1d19d4a2e9eb0ce3606eb48</td>\n",
       "      <td>0x970b9bb2c0444f5e81e9d0efb84c8ccdcdcaf84d</td>\n",
       "      <td>0x00167f051b227daa2886e7b606b4c2d39ddc33924c7cc8993fa37a7f954dce5d22fa3239c4bf43d05cc587ff40ea3ba5841c670961ee226b</td>\n",
       "      <td>7.503115</td>\n",
       "      <td>7.700582</td>\n",
       "      <td>18333.904511</td>\n",
       "      <td>18847.017299</td>\n",
       "    </tr>\n",
       "    <tr>\n",
       "      <th>146</th>\n",
       "      <td>0x00168940cc891ce325a815fce56ae6d353c8e7ed6c53805a88b6f10ae61b8e36b94c6c822d728e77dbc4c4e77cf4811e04f39c1b615757dc|0x5b6a4eb513eb4491d47f584ce05e71705077653450008481a032710439eaf555|7</td>\n",
       "      <td>1633112319</td>\n",
       "      <td>103358952122</td>\n",
       "      <td>7002506659074003</td>\n",
       "      <td>0x5b6a4eb513eb4491d47f584ce05e71705077653450008481a032710439eaf555</td>\n",
       "      <td>0x5b6a4eb513eb4491d47f584ce05e71705077653450008481a032710439eaf555</td>\n",
       "      <td>250972876131241652209</td>\n",
       "      <td>410000000000000000</td>\n",
       "      <td>0xc02aaa39b223fe8d0a0e5c4f27ead9083c756cc2</td>\n",
       "      <td>0x491e136ff7ff03e6ab097e54734697bb5802fc1c</td>\n",
       "      <td>0x00168940cc891ce325a815fce56ae6d353c8e7ed6c53805a88b6f10ae61b8e36b94c6c822d728e77dbc4c4e77cf4811e04f39c1b615757dc</td>\n",
       "      <td>0.000000</td>\n",
       "      <td>0.410000</td>\n",
       "      <td>0.000000</td>\n",
       "      <td>1340.496439</td>\n",
       "    </tr>\n",
       "    <tr>\n",
       "      <th>147</th>\n",
       "      <td>0x0016b34fb4bbd64bc1f953f1fc5acf8c183f11a91d2fa8a2043041e3b719e948e519f4cd2803ba53a40e6377e82406e5484186606147d7a1|0x70b72c81eb2ad2da677e68e4b65aebae30d9fa11f7c958b86d186c283c024b20|58</td>\n",
       "      <td>1632097036</td>\n",
       "      <td>74153243528</td>\n",
       "      <td>93366801673489891328</td>\n",
       "      <td>0x70b72c81eb2ad2da677e68e4b65aebae30d9fa11f7c958b86d186c283c024b20</td>\n",
       "      <td>0x70b72c81eb2ad2da677e68e4b65aebae30d9fa11f7c958b86d186c283c024b20</td>\n",
       "      <td>1276854661860560972</td>\n",
       "      <td>14096924365369418358468</td>\n",
       "      <td>0x3ebb4a4e91ad83be51f8d596533818b246f4bee1</td>\n",
       "      <td>0xeeeeeeeeeeeeeeeeeeeeeeeeeeeeeeeeeeeeeeee</td>\n",
       "      <td>0x0016b34fb4bbd64bc1f953f1fc5acf8c183f11a91d2fa8a2043041e3b719e948e519f4cd2803ba53a40e6377e82406e5484186606147d7a1</td>\n",
       "      <td>1.276855</td>\n",
       "      <td>0.000000</td>\n",
       "      <td>4238.078072</td>\n",
       "      <td>0.000000</td>\n",
       "    </tr>\n",
       "    <tr>\n",
       "      <th>148</th>\n",
       "      <td>0x0016cdc37c806bc682470882fed476881741c124688606bc38ad954496bfff112c01b4ad51a67e2d8f02208f54df9ac4c0b778b663a1abc1|0xcfb25d5c5a73710195023fd36b591410bb1dfeba8bdf1fd408c9bb63e8560c0c|0</td>\n",
       "      <td>1671496775</td>\n",
       "      <td>12004544135</td>\n",
       "      <td>7673172592112181444608</td>\n",
       "      <td>0xcfb25d5c5a73710195023fd36b591410bb1dfeba8bdf1fd408c9bb63e8560c0c</td>\n",
       "      <td>0xcfb25d5c5a73710195023fd36b591410bb1dfeba8bdf1fd408c9bb63e8560c0c</td>\n",
       "      <td>10063793910798331029132</td>\n",
       "      <td>10000000000000000000000000</td>\n",
       "      <td>0x090185f2135308bad17527004364ebcc2d37e5f6</td>\n",
       "      <td>0xfcc5c47be19d06bf83eb04298b026f81069ff65b</td>\n",
       "      <td>0x0016cdc37c806bc682470882fed476881741c124688606bc38ad954496bfff112c01b4ad51a67e2d8f02208f54df9ac4c0b778b663a1abc1</td>\n",
       "      <td>0.000000</td>\n",
       "      <td>4.522239</td>\n",
       "      <td>0.000000</td>\n",
       "      <td>5298.194595</td>\n",
       "    </tr>\n",
       "    <tr>\n",
       "      <th>149</th>\n",
       "      <td>0x0016dcbf5e6e4fa425ce57e57eb4b9c43a4627d370727aef0131642f1aef0e0c610bb423d080dbbb9ea5fb8bab100aad2d81bca463048acb|0x0b8fa868afb16aea8d916fd55e60393d72149de9ba03653cdbf05f879e987d63|41</td>\n",
       "      <td>1661240307</td>\n",
       "      <td>7959514085</td>\n",
       "      <td>6792209</td>\n",
       "      <td>0x0b8fa868afb16aea8d916fd55e60393d72149de9ba03653cdbf05f879e987d63</td>\n",
       "      <td>0x0b8fa868afb16aea8d916fd55e60393d72149de9ba03653cdbf05f879e987d63</td>\n",
       "      <td>434650349873055944871728</td>\n",
       "      <td>100000000000</td>\n",
       "      <td>0xa0b86991c6218b36c1d19d4a2e9eb0ce3606eb48</td>\n",
       "      <td>0xc7283b66eb1eb5fb86327f08e1b5816b0720212b</td>\n",
       "      <td>0x0016dcbf5e6e4fa425ce57e57eb4b9c43a4627d370727aef0131642f1aef0e0c610bb423d080dbbb9ea5fb8bab100aad2d81bca463048acb</td>\n",
       "      <td>61.437267</td>\n",
       "      <td>62.962988</td>\n",
       "      <td>96611.894542</td>\n",
       "      <td>100000.000000</td>\n",
       "    </tr>\n",
       "  </tbody>\n",
       "</table>\n",
       "<p>150 rows × 15 columns</p>\n",
       "</div>"
      ],
      "text/plain": [
       "                                                                                                                                                                                     trades_id  trades_timestamp  trades_gasPrice        trades_feeAmount                                                       trades_txHash                                                trades_settlement_id          trades_buyAmount           trades_sellAmount                         trades_sellToken_id                          trades_buyToken_id                                                                                                     trades_order_id  trades_buyAmountEth  trades_sellAmountEth  trades_buyAmountUsd  trades_sellAmountUsd\n",
       "0     0x000050299d2697ae6d93d9ccec7b55dbe79c920596927402db5784e8e7ef1c9d961eed3b7d4b7c261ee5b023e5f857af5af1e700632d3cf0|0x0454b81f9e497fe91fc2df0e1e7420b9a5e20439b065132daab91c09de8512cf|59        1663907363       6062637482                 1344622  0x0454b81f9e497fe91fc2df0e1e7420b9a5e20439b065132daab91c09de8512cf  0x0454b81f9e497fe91fc2df0e1e7420b9a5e20439b065132daab91c09de8512cf     917011543008284856417                  4093394367  0xa0b86991c6218b36c1d19d4a2e9eb0ce3606eb48  0x3432b6a60d23ca0dfca7761b7ab56459d9c964d0  0x000050299d2697ae6d93d9ccec7b55dbe79c920596927402db5784e8e7ef1c9d961eed3b7d4b7c261ee5b023e5f857af5af1e700632d3cf0             3.047480              3.049075          4087.560206           4093.394367\n",
       "1      0x0000543dbe9253542d4c3020c5ed40fefd3520dcf5ea9c16e71d611031629c50a85f11d4d6119848a0d2b2b8e270a6846383f39f6199100a|0x8ed73664124b6683be7064af365ce972679b94964680ccb79056ed5192e1a9af|1        1637419389      96392802490        7508432409899440  0x8ed73664124b6683be7064af365ce972679b94964680ccb79056ed5192e1a9af  0x8ed73664124b6683be7064af365ce972679b94964680ccb79056ed5192e1a9af                  20887903         5403161965640052848  0xc02aaa39b223fe8d0a0e5c4f27ead9083c756cc2  0x21ad647b8f4fe333212e735bfc1f36b4941e6ad2  0x0000543dbe9253542d4c3020c5ed40fefd3520dcf5ea9c16e71d611031629c50a85f11d4d6119848a0d2b2b8e270a6846383f39f6199100a             0.000000              5.403162             0.000000          23288.207524\n",
       "2      0x00006f4028421299b3bf398dace422a6230beca51223a47b407ad0038351bd07a4d0b8a5cf2fcb72abec58bf9be156a2e0a58b7e62555649|0x1759c9e55bed47c03ca02f78a63ed674815d35ee971cd81d0733737cdd528257|3        1649758670      37462722322      231083551837426720  0x1759c9e55bed47c03ca02f78a63ed674815d35ee971cd81d0733737cdd528257  0x1759c9e55bed47c03ca02f78a63ed674815d35ee971cd81d0733737cdd528257      83488515439092675372        50512108780891254932  0x0d438f3b5175bebc262bf23753c1e53d03432bde  0xba100000625a3754423978a60c9317c58a424e3d  0x00006f4028421299b3bf398dace422a6230beca51223a47b407ad0038351bd07a4d0b8a5cf2fcb72abec58bf9be156a2e0a58b7e62555649             0.000000              0.431026             0.000000           1301.451984\n",
       "3    0x0000a7abab226d1435769463bd69f908f97f6fa9f0d43e562c7ab1e53254f547a6ab7dc66dbeff529232d817f0f5a8026324bde66121daf9|0xa57b75307095f920b3195ae6365c234ed294c117032df91b6670edd0ce89e430|166        1629606920      30784014397        4120031304160000  0xa57b75307095f920b3195ae6365c234ed294c117032df91b6670edd0ce89e430  0xa57b75307095f920b3195ae6365c234ed294c117032df91b6670edd0ce89e430                 631309430          200000000000000000  0xc02aaa39b223fe8d0a0e5c4f27ead9083c756cc2  0xdac17f958d2ee523a2206206994597c13d831ec7  0x0000a7abab226d1435769463bd69f908f97f6fa9f0d43e562c7ab1e53254f547a6ab7dc66dbeff529232d817f0f5a8026324bde66121daf9             0.195200              0.200000           631.309430            646.833378\n",
       "4      0x0000cee52fa9bb7d59a5693b9ad3204eba530e70d0e4e89849d08f5dba11aafdb0e3f1c86bcb05fef30b5082da5e50e041dc154a6386af77|0x75e7950b08f7e5e42b8fa5855a495794497b3e41fdd2467e8e3a87c1c6e7055f|9        1669769399      26561817760                11048886  0x75e7950b08f7e5e42b8fa5855a495794497b3e41fdd2467e8e3a87c1c6e7055f  0x75e7950b08f7e5e42b8fa5855a495794497b3e41fdd2467e8e3a87c1c6e7055f       2486248136801875184                  3182358586  0xa0b86991c6218b36c1d19d4a2e9eb0ce3606eb48  0xc02aaa39b223fe8d0a0e5c4f27ead9083c756cc2  0x0000cee52fa9bb7d59a5693b9ad3204eba530e70d0e4e89849d08f5dba11aafdb0e3f1c86bcb05fef30b5082da5e50e041dc154a6386af77             2.486248              2.495714          3170.288616           3182.358586\n",
       "..                                                                                                                                                                                         ...               ...              ...                     ...                                                                 ...                                                                 ...                       ...                         ...                                         ...                                         ...                                                                                                                 ...                  ...                   ...                  ...                   ...\n",
       "145    0x00167f051b227daa2886e7b606b4c2d39ddc33924c7cc8993fa37a7f954dce5d22fa3239c4bf43d05cc587ff40ea3ba5841c670961ee226b|0x4bf4a869a3ec4f7471d8a4f340e4a2105c417fec2397d75f1f9c63c9948e89fa|0        1642995223     142011550279                82100751  0x4bf4a869a3ec4f7471d8a4f340e4a2105c417fec2397d75f1f9c63c9948e89fa  0x4bf4a869a3ec4f7471d8a4f340e4a2105c417fec2397d75f1f9c63c9948e89fa   20000000000000000000000                 18847017299  0xa0b86991c6218b36c1d19d4a2e9eb0ce3606eb48  0x970b9bb2c0444f5e81e9d0efb84c8ccdcdcaf84d  0x00167f051b227daa2886e7b606b4c2d39ddc33924c7cc8993fa37a7f954dce5d22fa3239c4bf43d05cc587ff40ea3ba5841c670961ee226b             7.503115              7.700582         18333.904511          18847.017299\n",
       "146    0x00168940cc891ce325a815fce56ae6d353c8e7ed6c53805a88b6f10ae61b8e36b94c6c822d728e77dbc4c4e77cf4811e04f39c1b615757dc|0x5b6a4eb513eb4491d47f584ce05e71705077653450008481a032710439eaf555|7        1633112319     103358952122        7002506659074003  0x5b6a4eb513eb4491d47f584ce05e71705077653450008481a032710439eaf555  0x5b6a4eb513eb4491d47f584ce05e71705077653450008481a032710439eaf555     250972876131241652209          410000000000000000  0xc02aaa39b223fe8d0a0e5c4f27ead9083c756cc2  0x491e136ff7ff03e6ab097e54734697bb5802fc1c  0x00168940cc891ce325a815fce56ae6d353c8e7ed6c53805a88b6f10ae61b8e36b94c6c822d728e77dbc4c4e77cf4811e04f39c1b615757dc             0.000000              0.410000             0.000000           1340.496439\n",
       "147   0x0016b34fb4bbd64bc1f953f1fc5acf8c183f11a91d2fa8a2043041e3b719e948e519f4cd2803ba53a40e6377e82406e5484186606147d7a1|0x70b72c81eb2ad2da677e68e4b65aebae30d9fa11f7c958b86d186c283c024b20|58        1632097036      74153243528    93366801673489891328  0x70b72c81eb2ad2da677e68e4b65aebae30d9fa11f7c958b86d186c283c024b20  0x70b72c81eb2ad2da677e68e4b65aebae30d9fa11f7c958b86d186c283c024b20       1276854661860560972     14096924365369418358468  0x3ebb4a4e91ad83be51f8d596533818b246f4bee1  0xeeeeeeeeeeeeeeeeeeeeeeeeeeeeeeeeeeeeeeee  0x0016b34fb4bbd64bc1f953f1fc5acf8c183f11a91d2fa8a2043041e3b719e948e519f4cd2803ba53a40e6377e82406e5484186606147d7a1             1.276855              0.000000          4238.078072              0.000000\n",
       "148    0x0016cdc37c806bc682470882fed476881741c124688606bc38ad954496bfff112c01b4ad51a67e2d8f02208f54df9ac4c0b778b663a1abc1|0xcfb25d5c5a73710195023fd36b591410bb1dfeba8bdf1fd408c9bb63e8560c0c|0        1671496775      12004544135  7673172592112181444608  0xcfb25d5c5a73710195023fd36b591410bb1dfeba8bdf1fd408c9bb63e8560c0c  0xcfb25d5c5a73710195023fd36b591410bb1dfeba8bdf1fd408c9bb63e8560c0c   10063793910798331029132  10000000000000000000000000  0x090185f2135308bad17527004364ebcc2d37e5f6  0xfcc5c47be19d06bf83eb04298b026f81069ff65b  0x0016cdc37c806bc682470882fed476881741c124688606bc38ad954496bfff112c01b4ad51a67e2d8f02208f54df9ac4c0b778b663a1abc1             0.000000              4.522239             0.000000           5298.194595\n",
       "149   0x0016dcbf5e6e4fa425ce57e57eb4b9c43a4627d370727aef0131642f1aef0e0c610bb423d080dbbb9ea5fb8bab100aad2d81bca463048acb|0x0b8fa868afb16aea8d916fd55e60393d72149de9ba03653cdbf05f879e987d63|41        1661240307       7959514085                 6792209  0x0b8fa868afb16aea8d916fd55e60393d72149de9ba03653cdbf05f879e987d63  0x0b8fa868afb16aea8d916fd55e60393d72149de9ba03653cdbf05f879e987d63  434650349873055944871728                100000000000  0xa0b86991c6218b36c1d19d4a2e9eb0ce3606eb48  0xc7283b66eb1eb5fb86327f08e1b5816b0720212b  0x0016dcbf5e6e4fa425ce57e57eb4b9c43a4627d370727aef0131642f1aef0e0c610bb423d080dbbb9ea5fb8bab100aad2d81bca463048acb            61.437267             62.962988         96611.894542         100000.000000\n",
       "\n",
       "[150 rows x 15 columns]"
      ]
     },
     "execution_count": 9,
     "metadata": {},
     "output_type": "execute_result"
    }
   ],
   "source": [
    "# Run a single query on the \"trades\" schema\n",
    "df = ds.runQuery(ds.queryDict.get('trades'), query_size=150)\n",
    "df"
   ]
  },
  {
   "attachments": {},
   "cell_type": "markdown",
   "metadata": {},
   "source": [
    "### Multi-Schema Query\n",
    "\n",
    "Construct a schema query list and execute with runStreamerLoop(). Returns a list[DataFrame]"
   ]
  },
  {
   "cell_type": "code",
   "execution_count": 12,
   "metadata": {},
   "outputs": [],
   "source": [
    "# define deired schemas to query as strings.\n",
    "my_keys = ['trades', 'orders', 'settlements', 'tokens']\n",
    "\n",
    "# look up string values to get respective FieldPaths\n",
    "schema_query_list = [ds.queryDict.get(key) for key in my_keys]"
   ]
  },
  {
   "cell_type": "code",
   "execution_count": 13,
   "metadata": {},
   "outputs": [
    {
     "name": "stdout",
     "output_type": "stream",
     "text": [
      "\n",
      "\n",
      "selected field values: [FieldPath(https://api.thegraph.com/subgraphs/name/cowprotocol/cow, Query, ['trades']), FieldPath(https://api.thegraph.com/subgraphs/name/cowprotocol/cow, Query, ['orders']), FieldPath(https://api.thegraph.com/subgraphs/name/cowprotocol/cow, Query, ['settlements']), FieldPath(https://api.thegraph.com/subgraphs/name/cowprotocol/cow, Query, ['tokens'])], \n",
      "type: <class 'subgrounds.subgraph.fieldpath.FieldPath'>\n"
     ]
    }
   ],
   "source": [
    "print(f'\\n\\nselected field values: {schema_query_list}, \\ntype: {type(schema_query_list[0])}')"
   ]
  },
  {
   "cell_type": "code",
   "execution_count": 14,
   "metadata": {},
   "outputs": [
    {
     "name": "stdout",
     "output_type": "stream",
     "text": [
      "FIELD - trades\n",
      "FIELD - orders\n",
      "FIELD - settlements\n",
      "FIELD - tokens\n",
      "4 queries, single core: 2.46 seconds. Largest df is 150\n",
      "\n"
     ]
    }
   ],
   "source": [
    "df_data_list = ds.runStreamerLoop(schema_query_list, query_size=150)"
   ]
  },
  {
   "cell_type": "code",
   "execution_count": 16,
   "metadata": {},
   "outputs": [
    {
     "data": {
      "text/html": [
       "<div>\n",
       "<style scoped>\n",
       "    .dataframe tbody tr th:only-of-type {\n",
       "        vertical-align: middle;\n",
       "    }\n",
       "\n",
       "    .dataframe tbody tr th {\n",
       "        vertical-align: top;\n",
       "    }\n",
       "\n",
       "    .dataframe thead th {\n",
       "        text-align: right;\n",
       "    }\n",
       "</style>\n",
       "<table border=\"1\" class=\"dataframe\">\n",
       "  <thead>\n",
       "    <tr style=\"text-align: right;\">\n",
       "      <th></th>\n",
       "      <th>orders_id</th>\n",
       "      <th>orders_owner_id</th>\n",
       "      <th>orders_tradesTimestamp</th>\n",
       "      <th>orders_invalidateTimestamp</th>\n",
       "      <th>orders_presignTimestamp</th>\n",
       "      <th>orders_isSigned</th>\n",
       "      <th>orders_isValid</th>\n",
       "    </tr>\n",
       "  </thead>\n",
       "  <tbody>\n",
       "    <tr>\n",
       "      <th>0</th>\n",
       "      <td>0x000050299d2697ae6d93d9ccec7b55dbe79c920596927402db5784e8e7ef1c9d961eed3b7d4b7c261ee5b023e5f857af5af1e700632d3cf0</td>\n",
       "      <td>0x961eed3b7d4b7c261ee5b023e5f857af5af1e700</td>\n",
       "      <td>1663907363</td>\n",
       "      <td>None</td>\n",
       "      <td>NaN</td>\n",
       "      <td>False</td>\n",
       "      <td>True</td>\n",
       "    </tr>\n",
       "    <tr>\n",
       "      <th>1</th>\n",
       "      <td>0x0000543dbe9253542d4c3020c5ed40fefd3520dcf5ea9c16e71d611031629c50a85f11d4d6119848a0d2b2b8e270a6846383f39f6199100a</td>\n",
       "      <td>0xa85f11d4d6119848a0d2b2b8e270a6846383f39f</td>\n",
       "      <td>1637419389</td>\n",
       "      <td>None</td>\n",
       "      <td>NaN</td>\n",
       "      <td>False</td>\n",
       "      <td>True</td>\n",
       "    </tr>\n",
       "    <tr>\n",
       "      <th>2</th>\n",
       "      <td>0x00006f4028421299b3bf398dace422a6230beca51223a47b407ad0038351bd07a4d0b8a5cf2fcb72abec58bf9be156a2e0a58b7e62555649</td>\n",
       "      <td>0xa4d0b8a5cf2fcb72abec58bf9be156a2e0a58b7e</td>\n",
       "      <td>1649758670</td>\n",
       "      <td>None</td>\n",
       "      <td>NaN</td>\n",
       "      <td>False</td>\n",
       "      <td>True</td>\n",
       "    </tr>\n",
       "    <tr>\n",
       "      <th>3</th>\n",
       "      <td>0x0000a7abab226d1435769463bd69f908f97f6fa9f0d43e562c7ab1e53254f547a6ab7dc66dbeff529232d817f0f5a8026324bde66121daf9</td>\n",
       "      <td>0xa6ab7dc66dbeff529232d817f0f5a8026324bde6</td>\n",
       "      <td>1629606920</td>\n",
       "      <td>None</td>\n",
       "      <td>NaN</td>\n",
       "      <td>False</td>\n",
       "      <td>True</td>\n",
       "    </tr>\n",
       "    <tr>\n",
       "      <th>4</th>\n",
       "      <td>0x0000cee52fa9bb7d59a5693b9ad3204eba530e70d0e4e89849d08f5dba11aafdb0e3f1c86bcb05fef30b5082da5e50e041dc154a6386af77</td>\n",
       "      <td>0xb0e3f1c86bcb05fef30b5082da5e50e041dc154a</td>\n",
       "      <td>1669769399</td>\n",
       "      <td>None</td>\n",
       "      <td>NaN</td>\n",
       "      <td>False</td>\n",
       "      <td>True</td>\n",
       "    </tr>\n",
       "  </tbody>\n",
       "</table>\n",
       "</div>"
      ],
      "text/plain": [
       "                                                                                                            orders_id                             orders_owner_id  orders_tradesTimestamp orders_invalidateTimestamp  orders_presignTimestamp  orders_isSigned  orders_isValid\n",
       "0  0x000050299d2697ae6d93d9ccec7b55dbe79c920596927402db5784e8e7ef1c9d961eed3b7d4b7c261ee5b023e5f857af5af1e700632d3cf0  0x961eed3b7d4b7c261ee5b023e5f857af5af1e700              1663907363                       None                      NaN            False            True\n",
       "1  0x0000543dbe9253542d4c3020c5ed40fefd3520dcf5ea9c16e71d611031629c50a85f11d4d6119848a0d2b2b8e270a6846383f39f6199100a  0xa85f11d4d6119848a0d2b2b8e270a6846383f39f              1637419389                       None                      NaN            False            True\n",
       "2  0x00006f4028421299b3bf398dace422a6230beca51223a47b407ad0038351bd07a4d0b8a5cf2fcb72abec58bf9be156a2e0a58b7e62555649  0xa4d0b8a5cf2fcb72abec58bf9be156a2e0a58b7e              1649758670                       None                      NaN            False            True\n",
       "3  0x0000a7abab226d1435769463bd69f908f97f6fa9f0d43e562c7ab1e53254f547a6ab7dc66dbeff529232d817f0f5a8026324bde66121daf9  0xa6ab7dc66dbeff529232d817f0f5a8026324bde6              1629606920                       None                      NaN            False            True\n",
       "4  0x0000cee52fa9bb7d59a5693b9ad3204eba530e70d0e4e89849d08f5dba11aafdb0e3f1c86bcb05fef30b5082da5e50e041dc154a6386af77  0xb0e3f1c86bcb05fef30b5082da5e50e041dc154a              1669769399                       None                      NaN            False            True"
      ]
     },
     "execution_count": 16,
     "metadata": {},
     "output_type": "execute_result"
    }
   ],
   "source": [
    "# schema dataframe values\n",
    "df_data_list[1].head(5)"
   ]
  },
  {
   "attachments": {},
   "cell_type": "markdown",
   "metadata": {},
   "source": [
    "### Multi-Schema Parallelized Query"
   ]
  },
  {
   "cell_type": "code",
   "execution_count": 17,
   "metadata": {},
   "outputs": [
    {
     "name": "stdout",
     "output_type": "stream",
     "text": [
      "FIELD - trades\n",
      "FIELD - orders\n",
      "FIELD - settlements\n",
      "FIELD - tokens\n",
      "17 queries, parallelized 4 cores: 2.25 seconds. Largest df is 150\n",
      "\n"
     ]
    },
    {
     "name": "stderr",
     "output_type": "stream",
     "text": [
      "sys:1: ResourceWarning: unclosed socket <zmq.Socket(zmq.PUSH) at 0x7fe7b81c6d40>\n",
      "ResourceWarning: Enable tracemalloc to get the object allocation traceback\n"
     ]
    }
   ],
   "source": [
    "# runStreamerLoopParallel() uses the standard python library concurrent to execute parallel queries. Observed speedup is around 2x\n",
    "df_data_list_parallel = ds.runStreamerLoopParallel(query_list=schema_query_list, query_size=150)"
   ]
  },
  {
   "cell_type": "code",
   "execution_count": 18,
   "metadata": {},
   "outputs": [
    {
     "data": {
      "text/html": [
       "<div>\n",
       "<style scoped>\n",
       "    .dataframe tbody tr th:only-of-type {\n",
       "        vertical-align: middle;\n",
       "    }\n",
       "\n",
       "    .dataframe tbody tr th {\n",
       "        vertical-align: top;\n",
       "    }\n",
       "\n",
       "    .dataframe thead th {\n",
       "        text-align: right;\n",
       "    }\n",
       "</style>\n",
       "<table border=\"1\" class=\"dataframe\">\n",
       "  <thead>\n",
       "    <tr style=\"text-align: right;\">\n",
       "      <th></th>\n",
       "      <th>orders_id</th>\n",
       "      <th>orders_owner_id</th>\n",
       "      <th>orders_tradesTimestamp</th>\n",
       "      <th>orders_invalidateTimestamp</th>\n",
       "      <th>orders_presignTimestamp</th>\n",
       "      <th>orders_isSigned</th>\n",
       "      <th>orders_isValid</th>\n",
       "    </tr>\n",
       "  </thead>\n",
       "  <tbody>\n",
       "    <tr>\n",
       "      <th>0</th>\n",
       "      <td>0x000050299d2697ae6d93d9ccec7b55dbe79c920596927402db5784e8e7ef1c9d961eed3b7d4b7c261ee5b023e5f857af5af1e700632d3cf0</td>\n",
       "      <td>0x961eed3b7d4b7c261ee5b023e5f857af5af1e700</td>\n",
       "      <td>1663907363</td>\n",
       "      <td>None</td>\n",
       "      <td>NaN</td>\n",
       "      <td>False</td>\n",
       "      <td>True</td>\n",
       "    </tr>\n",
       "    <tr>\n",
       "      <th>1</th>\n",
       "      <td>0x0000543dbe9253542d4c3020c5ed40fefd3520dcf5ea9c16e71d611031629c50a85f11d4d6119848a0d2b2b8e270a6846383f39f6199100a</td>\n",
       "      <td>0xa85f11d4d6119848a0d2b2b8e270a6846383f39f</td>\n",
       "      <td>1637419389</td>\n",
       "      <td>None</td>\n",
       "      <td>NaN</td>\n",
       "      <td>False</td>\n",
       "      <td>True</td>\n",
       "    </tr>\n",
       "    <tr>\n",
       "      <th>2</th>\n",
       "      <td>0x00006f4028421299b3bf398dace422a6230beca51223a47b407ad0038351bd07a4d0b8a5cf2fcb72abec58bf9be156a2e0a58b7e62555649</td>\n",
       "      <td>0xa4d0b8a5cf2fcb72abec58bf9be156a2e0a58b7e</td>\n",
       "      <td>1649758670</td>\n",
       "      <td>None</td>\n",
       "      <td>NaN</td>\n",
       "      <td>False</td>\n",
       "      <td>True</td>\n",
       "    </tr>\n",
       "    <tr>\n",
       "      <th>3</th>\n",
       "      <td>0x0000a7abab226d1435769463bd69f908f97f6fa9f0d43e562c7ab1e53254f547a6ab7dc66dbeff529232d817f0f5a8026324bde66121daf9</td>\n",
       "      <td>0xa6ab7dc66dbeff529232d817f0f5a8026324bde6</td>\n",
       "      <td>1629606920</td>\n",
       "      <td>None</td>\n",
       "      <td>NaN</td>\n",
       "      <td>False</td>\n",
       "      <td>True</td>\n",
       "    </tr>\n",
       "    <tr>\n",
       "      <th>4</th>\n",
       "      <td>0x0000cee52fa9bb7d59a5693b9ad3204eba530e70d0e4e89849d08f5dba11aafdb0e3f1c86bcb05fef30b5082da5e50e041dc154a6386af77</td>\n",
       "      <td>0xb0e3f1c86bcb05fef30b5082da5e50e041dc154a</td>\n",
       "      <td>1669769399</td>\n",
       "      <td>None</td>\n",
       "      <td>NaN</td>\n",
       "      <td>False</td>\n",
       "      <td>True</td>\n",
       "    </tr>\n",
       "  </tbody>\n",
       "</table>\n",
       "</div>"
      ],
      "text/plain": [
       "                                                                                                            orders_id                             orders_owner_id  orders_tradesTimestamp orders_invalidateTimestamp  orders_presignTimestamp  orders_isSigned  orders_isValid\n",
       "0  0x000050299d2697ae6d93d9ccec7b55dbe79c920596927402db5784e8e7ef1c9d961eed3b7d4b7c261ee5b023e5f857af5af1e700632d3cf0  0x961eed3b7d4b7c261ee5b023e5f857af5af1e700              1663907363                       None                      NaN            False            True\n",
       "1  0x0000543dbe9253542d4c3020c5ed40fefd3520dcf5ea9c16e71d611031629c50a85f11d4d6119848a0d2b2b8e270a6846383f39f6199100a  0xa85f11d4d6119848a0d2b2b8e270a6846383f39f              1637419389                       None                      NaN            False            True\n",
       "2  0x00006f4028421299b3bf398dace422a6230beca51223a47b407ad0038351bd07a4d0b8a5cf2fcb72abec58bf9be156a2e0a58b7e62555649  0xa4d0b8a5cf2fcb72abec58bf9be156a2e0a58b7e              1649758670                       None                      NaN            False            True\n",
       "3  0x0000a7abab226d1435769463bd69f908f97f6fa9f0d43e562c7ab1e53254f547a6ab7dc66dbeff529232d817f0f5a8026324bde66121daf9  0xa6ab7dc66dbeff529232d817f0f5a8026324bde6              1629606920                       None                      NaN            False            True\n",
       "4  0x0000cee52fa9bb7d59a5693b9ad3204eba530e70d0e4e89849d08f5dba11aafdb0e3f1c86bcb05fef30b5082da5e50e041dc154a6386af77  0xb0e3f1c86bcb05fef30b5082da5e50e041dc154a              1669769399                       None                      NaN            False            True"
      ]
     },
     "execution_count": 18,
     "metadata": {},
     "output_type": "execute_result"
    }
   ],
   "source": [
    "df_data_list_parallel[1].head(5)"
   ]
  },
  {
   "attachments": {},
   "cell_type": "markdown",
   "metadata": {},
   "source": [
    "### save list[Dataframe] to a local folder as csv files"
   ]
  },
  {
   "cell_type": "code",
   "execution_count": null,
   "metadata": {},
   "outputs": [],
   "source": [
    "# save df_data_list_parallel to csvs in a folder\n",
    "for i in range(len(df_data_list_parallel)):\n",
    "    df_data_list_parallel[i].to_csv(f'cow_{i}.csv', index=False)\n",
    "    "
   ]
  }
 ],
 "metadata": {
  "kernelspec": {
   "display_name": "Python 3",
   "language": "python",
   "name": "python3"
  },
  "language_info": {
   "codemirror_mode": {
    "name": "ipython",
    "version": 3
   },
   "file_extension": ".py",
   "mimetype": "text/x-python",
   "name": "python",
   "nbconvert_exporter": "python",
   "pygments_lexer": "ipython3",
   "version": "3.10.6 (main, Nov 14 2022, 16:10:14) [GCC 11.3.0]"
  },
  "orig_nbformat": 4,
  "vscode": {
   "interpreter": {
    "hash": "916dbcbb3f70747c44a77c7bcd40155683ae19c65e1c03b4aa3499c5328201f1"
   }
  }
 },
 "nbformat": 4,
 "nbformat_minor": 2
}

{
 "cells": [
  {
   "cell_type": "code",
   "execution_count": 24,
   "metadata": {},
   "outputs": [],
   "source": [
    "from subgrounds import Subgrounds"
   ]
  },
  {
   "cell_type": "code",
   "execution_count": 25,
   "metadata": {},
   "outputs": [],
   "source": [
    "sg = Subgrounds()\n",
    "# endpoint = 'https://api.thegraph.com/subgraphs/name/cowprotocol/cow'\n",
    "endpoint = 'https://api.thegraph.com/subgraphs/name/messari/uniswap-v3-arbitrum'"
   ]
  },
  {
   "cell_type": "code",
   "execution_count": 26,
   "metadata": {},
   "outputs": [],
   "source": [
    "sub = sg.load_subgraph(endpoint)"
   ]
  },
  {
   "cell_type": "code",
   "execution_count": 27,
   "metadata": {},
   "outputs": [
    {
     "data": {
      "text/plain": [
       "FieldPath(https://api.thegraph.com/subgraphs/name/messari/uniswap-v3-arbitrum, Query, ['usageMetricsHourlySnapshots'])"
      ]
     },
     "execution_count": 27,
     "metadata": {},
     "output_type": "execute_result"
    }
   ],
   "source": [
    "sub.Query.usageMetricsHourlySnapshots"
   ]
  },
  {
   "cell_type": "code",
   "execution_count": 28,
   "metadata": {},
   "outputs": [],
   "source": [
    "field_path_params = sub.Query.usageMetricsHourlySnapshots(first=5, orderBy='timestamp', orderDirection='desc')"
   ]
  },
  {
   "cell_type": "code",
   "execution_count": 29,
   "metadata": {},
   "outputs": [],
   "source": [
    "# Query for a specific subground\n",
    "sg_df = sg.query_df(field_path_params) # FieldPath | List[FieldPath], Columns: list[str]"
   ]
  },
  {
   "cell_type": "code",
   "execution_count": 30,
   "metadata": {},
   "outputs": [
    {
     "data": {
      "text/html": [
       "<div>\n",
       "<style scoped>\n",
       "    .dataframe tbody tr th:only-of-type {\n",
       "        vertical-align: middle;\n",
       "    }\n",
       "\n",
       "    .dataframe tbody tr th {\n",
       "        vertical-align: top;\n",
       "    }\n",
       "\n",
       "    .dataframe thead th {\n",
       "        text-align: right;\n",
       "    }\n",
       "</style>\n",
       "<table border=\"1\" class=\"dataframe\">\n",
       "  <thead>\n",
       "    <tr style=\"text-align: right;\">\n",
       "      <th></th>\n",
       "      <th>usageMetricsHourlySnapshots_id</th>\n",
       "      <th>usageMetricsHourlySnapshots_protocol_id</th>\n",
       "      <th>usageMetricsHourlySnapshots_hourlyActiveUsers</th>\n",
       "      <th>usageMetricsHourlySnapshots_cumulativeUniqueUsers</th>\n",
       "      <th>usageMetricsHourlySnapshots_hourlyTransactionCount</th>\n",
       "      <th>usageMetricsHourlySnapshots_hourlyDepositCount</th>\n",
       "      <th>usageMetricsHourlySnapshots_hourlyWithdrawCount</th>\n",
       "      <th>usageMetricsHourlySnapshots_hourlySwapCount</th>\n",
       "      <th>usageMetricsHourlySnapshots_blockNumber</th>\n",
       "      <th>usageMetricsHourlySnapshots_timestamp</th>\n",
       "    </tr>\n",
       "  </thead>\n",
       "  <tbody>\n",
       "    <tr>\n",
       "      <th>0</th>\n",
       "      <td>464687</td>\n",
       "      <td>0x1f98431c8ad98523631ae4a59f267346ea31f984</td>\n",
       "      <td>120</td>\n",
       "      <td>641135</td>\n",
       "      <td>215</td>\n",
       "      <td>10</td>\n",
       "      <td>9</td>\n",
       "      <td>196</td>\n",
       "      <td>50905209</td>\n",
       "      <td>1672874028</td>\n",
       "    </tr>\n",
       "    <tr>\n",
       "      <th>1</th>\n",
       "      <td>464686</td>\n",
       "      <td>0x1f98431c8ad98523631ae4a59f267346ea31f984</td>\n",
       "      <td>490</td>\n",
       "      <td>641129</td>\n",
       "      <td>1104</td>\n",
       "      <td>41</td>\n",
       "      <td>33</td>\n",
       "      <td>1030</td>\n",
       "      <td>50903643</td>\n",
       "      <td>1672873191</td>\n",
       "    </tr>\n",
       "    <tr>\n",
       "      <th>2</th>\n",
       "      <td>464685</td>\n",
       "      <td>0x1f98431c8ad98523631ae4a59f267346ea31f984</td>\n",
       "      <td>516</td>\n",
       "      <td>641104</td>\n",
       "      <td>979</td>\n",
       "      <td>46</td>\n",
       "      <td>43</td>\n",
       "      <td>890</td>\n",
       "      <td>50896507</td>\n",
       "      <td>1672869577</td>\n",
       "    </tr>\n",
       "    <tr>\n",
       "      <th>3</th>\n",
       "      <td>464684</td>\n",
       "      <td>0x1f98431c8ad98523631ae4a59f267346ea31f984</td>\n",
       "      <td>604</td>\n",
       "      <td>641069</td>\n",
       "      <td>1493</td>\n",
       "      <td>45</td>\n",
       "      <td>54</td>\n",
       "      <td>1394</td>\n",
       "      <td>50889109</td>\n",
       "      <td>1672865995</td>\n",
       "    </tr>\n",
       "    <tr>\n",
       "      <th>4</th>\n",
       "      <td>464683</td>\n",
       "      <td>0x1f98431c8ad98523631ae4a59f267346ea31f984</td>\n",
       "      <td>650</td>\n",
       "      <td>641027</td>\n",
       "      <td>2161</td>\n",
       "      <td>54</td>\n",
       "      <td>62</td>\n",
       "      <td>2045</td>\n",
       "      <td>50880945</td>\n",
       "      <td>1672862398</td>\n",
       "    </tr>\n",
       "  </tbody>\n",
       "</table>\n",
       "</div>"
      ],
      "text/plain": [
       "  usageMetricsHourlySnapshots_id     usageMetricsHourlySnapshots_protocol_id  \\\n",
       "0                         464687  0x1f98431c8ad98523631ae4a59f267346ea31f984   \n",
       "1                         464686  0x1f98431c8ad98523631ae4a59f267346ea31f984   \n",
       "2                         464685  0x1f98431c8ad98523631ae4a59f267346ea31f984   \n",
       "3                         464684  0x1f98431c8ad98523631ae4a59f267346ea31f984   \n",
       "4                         464683  0x1f98431c8ad98523631ae4a59f267346ea31f984   \n",
       "\n",
       "   usageMetricsHourlySnapshots_hourlyActiveUsers  \\\n",
       "0                                            120   \n",
       "1                                            490   \n",
       "2                                            516   \n",
       "3                                            604   \n",
       "4                                            650   \n",
       "\n",
       "   usageMetricsHourlySnapshots_cumulativeUniqueUsers  \\\n",
       "0                                             641135   \n",
       "1                                             641129   \n",
       "2                                             641104   \n",
       "3                                             641069   \n",
       "4                                             641027   \n",
       "\n",
       "   usageMetricsHourlySnapshots_hourlyTransactionCount  \\\n",
       "0                                                215    \n",
       "1                                               1104    \n",
       "2                                                979    \n",
       "3                                               1493    \n",
       "4                                               2161    \n",
       "\n",
       "   usageMetricsHourlySnapshots_hourlyDepositCount  \\\n",
       "0                                              10   \n",
       "1                                              41   \n",
       "2                                              46   \n",
       "3                                              45   \n",
       "4                                              54   \n",
       "\n",
       "   usageMetricsHourlySnapshots_hourlyWithdrawCount  \\\n",
       "0                                                9   \n",
       "1                                               33   \n",
       "2                                               43   \n",
       "3                                               54   \n",
       "4                                               62   \n",
       "\n",
       "   usageMetricsHourlySnapshots_hourlySwapCount  \\\n",
       "0                                          196   \n",
       "1                                         1030   \n",
       "2                                          890   \n",
       "3                                         1394   \n",
       "4                                         2045   \n",
       "\n",
       "   usageMetricsHourlySnapshots_blockNumber  \\\n",
       "0                                 50905209   \n",
       "1                                 50903643   \n",
       "2                                 50896507   \n",
       "3                                 50889109   \n",
       "4                                 50880945   \n",
       "\n",
       "   usageMetricsHourlySnapshots_timestamp  \n",
       "0                             1672874028  \n",
       "1                             1672873191  \n",
       "2                             1672869577  \n",
       "3                             1672865995  \n",
       "4                             1672862398  "
      ]
     },
     "execution_count": 30,
     "metadata": {},
     "output_type": "execute_result"
    }
   ],
   "source": [
    "sg_df"
   ]
  },
  {
   "cell_type": "code",
   "execution_count": null,
   "metadata": {},
   "outputs": [],
   "source": []
  }
 ],
 "metadata": {
  "kernelspec": {
   "display_name": "Python 3",
   "language": "python",
   "name": "python3"
  },
  "language_info": {
   "codemirror_mode": {
    "name": "ipython",
    "version": 3
   },
   "file_extension": ".py",
   "mimetype": "text/x-python",
   "name": "python",
   "nbconvert_exporter": "python",
   "pygments_lexer": "ipython3",
   "version": "3.10.6"
  },
  "orig_nbformat": 4,
  "vscode": {
   "interpreter": {
    "hash": "e7370f93d1d0cde622a1f8e1c04877d8463912d04d973331ad4851f04de6915a"
   }
  }
 },
 "nbformat": 4,
 "nbformat_minor": 2
}

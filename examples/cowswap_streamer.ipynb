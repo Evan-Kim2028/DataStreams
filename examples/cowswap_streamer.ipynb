{
 "cells": [
  {
   "cell_type": "code",
   "execution_count": 3,
   "metadata": {},
   "outputs": [
    {
     "name": "stdout",
     "output_type": "stream",
     "text": [
      "Defaulting to user installation because normal site-packages is not writeable\n",
      "Collecting git+https://github.com/Evan-Kim2028/DataStreams.git\n",
      "  Cloning https://github.com/Evan-Kim2028/DataStreams.git to /tmp/pip-req-build-tigt11vl\n",
      "  Running command git clone --filter=blob:none --quiet https://github.com/Evan-Kim2028/DataStreams.git /tmp/pip-req-build-tigt11vl\n",
      "  Resolved https://github.com/Evan-Kim2028/DataStreams.git to commit f3a3a9907b95efe15cba20b3e09b8b68ee71a5eb\n",
      "  Installing build dependencies ... \u001b[?25ldone\n",
      "\u001b[?25h  Getting requirements to build wheel ... \u001b[?25ldone\n",
      "\u001b[?25h  Installing backend dependencies ... \u001b[?25ldone\n",
      "\u001b[?25h  Preparing metadata (pyproject.toml) ... \u001b[?25ldone\n",
      "\u001b[?25hRequirement already satisfied: subgrounds>=1.0.3 in /home/evan/.local/lib/python3.10/site-packages (from DataStreams==0.0.post1.dev30+gf3a3a99) (1.0.3)\n",
      "Requirement already satisfied: pandas>=1.5.0 in /home/evan/.local/lib/python3.10/site-packages (from DataStreams==0.0.post1.dev30+gf3a3a99) (1.5.0)\n",
      "Requirement already satisfied: pytz>=2020.1 in /home/evan/.local/lib/python3.10/site-packages (from pandas>=1.5.0->DataStreams==0.0.post1.dev30+gf3a3a99) (2021.3)\n",
      "Requirement already satisfied: python-dateutil>=2.8.1 in /home/evan/.local/lib/python3.10/site-packages (from pandas>=1.5.0->DataStreams==0.0.post1.dev30+gf3a3a99) (2.8.2)\n",
      "Requirement already satisfied: numpy>=1.21.0 in /home/evan/.local/lib/python3.10/site-packages (from pandas>=1.5.0->DataStreams==0.0.post1.dev30+gf3a3a99) (1.24.1)\n",
      "Requirement already satisfied: pipe<3.0,>=2.0 in /home/evan/.local/lib/python3.10/site-packages (from subgrounds>=1.0.3->DataStreams==0.0.post1.dev30+gf3a3a99) (2.0)\n",
      "Requirement already satisfied: pathlib<2.0.0,>=1.0.1 in /home/evan/.local/lib/python3.10/site-packages (from subgrounds>=1.0.3->DataStreams==0.0.post1.dev30+gf3a3a99) (1.0.1)\n",
      "Requirement already satisfied: requests<3.0.0,>=2.27.1 in /home/evan/.local/lib/python3.10/site-packages (from subgrounds>=1.0.3->DataStreams==0.0.post1.dev30+gf3a3a99) (2.28.1)\n",
      "Requirement already satisfied: pydantic<2.0.0,>=1.10.2 in /home/evan/.local/lib/python3.10/site-packages (from subgrounds>=1.0.3->DataStreams==0.0.post1.dev30+gf3a3a99) (1.10.2)\n",
      "Requirement already satisfied: typing-extensions>=4.1.0 in /home/evan/.local/lib/python3.10/site-packages (from pydantic<2.0.0,>=1.10.2->subgrounds>=1.0.3->DataStreams==0.0.post1.dev30+gf3a3a99) (4.4.0)\n",
      "Requirement already satisfied: six>=1.5 in /usr/local/lib/python3.10/dist-packages (from python-dateutil>=2.8.1->pandas>=1.5.0->DataStreams==0.0.post1.dev30+gf3a3a99) (1.16.0)\n",
      "Requirement already satisfied: idna<4,>=2.5 in /home/evan/.local/lib/python3.10/site-packages (from requests<3.0.0,>=2.27.1->subgrounds>=1.0.3->DataStreams==0.0.post1.dev30+gf3a3a99) (2.10)\n",
      "Requirement already satisfied: urllib3<1.27,>=1.21.1 in /usr/local/lib/python3.10/dist-packages (from requests<3.0.0,>=2.27.1->subgrounds>=1.0.3->DataStreams==0.0.post1.dev30+gf3a3a99) (1.26.9)\n",
      "Requirement already satisfied: certifi>=2017.4.17 in /usr/local/lib/python3.10/dist-packages (from requests<3.0.0,>=2.27.1->subgrounds>=1.0.3->DataStreams==0.0.post1.dev30+gf3a3a99) (2022.6.15)\n",
      "Requirement already satisfied: charset-normalizer<3,>=2 in /usr/local/lib/python3.10/dist-packages (from requests<3.0.0,>=2.27.1->subgrounds>=1.0.3->DataStreams==0.0.post1.dev30+gf3a3a99) (2.1.0)\n",
      "Building wheels for collected packages: DataStreams\n",
      "  Building wheel for DataStreams (pyproject.toml) ... \u001b[?25ldone\n",
      "\u001b[?25h  Created wheel for DataStreams: filename=DataStreams-0.0.post1.dev30+gf3a3a99-py3-none-any.whl size=5921 sha256=5f41df455488357a59fb87d08828fda2d8e6a4121267c8d8b42b77fdd03987d0\n",
      "  Stored in directory: /tmp/pip-ephem-wheel-cache-kc17zhm2/wheels/06/e7/63/91de055318e05be20cb8ce687f960fcb1ae3a9e77f754cda6c\n",
      "Successfully built DataStreams\n",
      "Installing collected packages: DataStreams\n",
      "  Attempting uninstall: DataStreams\n",
      "    Found existing installation: DataStreams 0.0.post1.dev20+g04cea2b\n",
      "    Uninstalling DataStreams-0.0.post1.dev20+g04cea2b:\n",
      "      Successfully uninstalled DataStreams-0.0.post1.dev20+g04cea2b\n",
      "Successfully installed DataStreams-0.0.post1.dev30+gf3a3a99\n"
     ]
    }
   ],
   "source": [
    "!pip install git+https://github.com/Evan-Kim2028/DataStreams.git \n",
    "# probably need to periodically update based on the github pushes"
   ]
  },
  {
   "cell_type": "code",
   "execution_count": 4,
   "metadata": {},
   "outputs": [],
   "source": [
    "import os\n",
    "import pandas as pd\n",
    "\n",
    "from datastreams.datastream import Streamer"
   ]
  },
  {
   "cell_type": "code",
   "execution_count": 5,
   "metadata": {},
   "outputs": [],
   "source": [
    "pd.set_option('display.max_columns', None)\n",
    "pd.set_option('display.expand_frame_repr', False)\n",
    "pd.set_option('max_colwidth', None)"
   ]
  },
  {
   "cell_type": "code",
   "execution_count": 6,
   "metadata": {},
   "outputs": [],
   "source": [
    "endpoint = 'https://api.thegraph.com/subgraphs/name/cowprotocol/cow'"
   ]
  },
  {
   "cell_type": "code",
   "execution_count": 7,
   "metadata": {},
   "outputs": [],
   "source": [
    "ds = Streamer(endpoint)"
   ]
  },
  {
   "cell_type": "code",
   "execution_count": 16,
   "metadata": {},
   "outputs": [
    {
     "data": {
      "text/plain": [
       "FieldPath(https://api.thegraph.com/subgraphs/name/cowprotocol/cow, Query, ['trades'])"
      ]
     },
     "execution_count": 16,
     "metadata": {},
     "output_type": "execute_result"
    }
   ],
   "source": [
    "# Queryable fields are stored in ds.queryFields as a list of FieldPaths.\n",
    "ds.queryFields[3]"
   ]
  },
  {
   "cell_type": "code",
   "execution_count": 17,
   "metadata": {},
   "outputs": [
    {
     "name": "stdout",
     "output_type": "stream",
     "text": [
      "\n",
      "field path param trades\n"
     ]
    },
    {
     "data": {
      "text/html": [
       "<div>\n",
       "<style scoped>\n",
       "    .dataframe tbody tr th:only-of-type {\n",
       "        vertical-align: middle;\n",
       "    }\n",
       "\n",
       "    .dataframe tbody tr th {\n",
       "        vertical-align: top;\n",
       "    }\n",
       "\n",
       "    .dataframe thead th {\n",
       "        text-align: right;\n",
       "    }\n",
       "</style>\n",
       "<table border=\"1\" class=\"dataframe\">\n",
       "  <thead>\n",
       "    <tr style=\"text-align: right;\">\n",
       "      <th></th>\n",
       "      <th>trades_id</th>\n",
       "      <th>trades_timestamp</th>\n",
       "      <th>trades_gasPrice</th>\n",
       "      <th>trades_feeAmount</th>\n",
       "      <th>trades_txHash</th>\n",
       "      <th>trades_settlement_id</th>\n",
       "      <th>trades_buyAmount</th>\n",
       "      <th>trades_sellAmount</th>\n",
       "      <th>trades_sellToken_id</th>\n",
       "      <th>trades_buyToken_id</th>\n",
       "      <th>trades_order_id</th>\n",
       "      <th>trades_buyAmountEth</th>\n",
       "      <th>trades_sellAmountEth</th>\n",
       "      <th>trades_buyAmountUsd</th>\n",
       "      <th>trades_sellAmountUsd</th>\n",
       "    </tr>\n",
       "  </thead>\n",
       "  <tbody>\n",
       "    <tr>\n",
       "      <th>0</th>\n",
       "      <td>0x000050299d2697ae6d93d9ccec7b55dbe79c920596927402db5784e8e7ef1c9d961eed3b7d4b7c261ee5b023e5f857af5af1e700632d3cf0|0x0454b81f9e497fe91fc2df0e1e7420b9a5e20439b065132daab91c09de8512cf|59</td>\n",
       "      <td>1663907363</td>\n",
       "      <td>6062637482</td>\n",
       "      <td>1344622</td>\n",
       "      <td>0x0454b81f9e497fe91fc2df0e1e7420b9a5e20439b065132daab91c09de8512cf</td>\n",
       "      <td>0x0454b81f9e497fe91fc2df0e1e7420b9a5e20439b065132daab91c09de8512cf</td>\n",
       "      <td>917011543008284856417</td>\n",
       "      <td>4093394367</td>\n",
       "      <td>0xa0b86991c6218b36c1d19d4a2e9eb0ce3606eb48</td>\n",
       "      <td>0x3432b6a60d23ca0dfca7761b7ab56459d9c964d0</td>\n",
       "      <td>0x000050299d2697ae6d93d9ccec7b55dbe79c920596927402db5784e8e7ef1c9d961eed3b7d4b7c261ee5b023e5f857af5af1e700632d3cf0</td>\n",
       "      <td>3.047480</td>\n",
       "      <td>3.049075</td>\n",
       "      <td>4087.560206</td>\n",
       "      <td>4093.394367</td>\n",
       "    </tr>\n",
       "    <tr>\n",
       "      <th>1</th>\n",
       "      <td>0x0000543dbe9253542d4c3020c5ed40fefd3520dcf5ea9c16e71d611031629c50a85f11d4d6119848a0d2b2b8e270a6846383f39f6199100a|0x8ed73664124b6683be7064af365ce972679b94964680ccb79056ed5192e1a9af|1</td>\n",
       "      <td>1637419389</td>\n",
       "      <td>96392802490</td>\n",
       "      <td>7508432409899440</td>\n",
       "      <td>0x8ed73664124b6683be7064af365ce972679b94964680ccb79056ed5192e1a9af</td>\n",
       "      <td>0x8ed73664124b6683be7064af365ce972679b94964680ccb79056ed5192e1a9af</td>\n",
       "      <td>20887903</td>\n",
       "      <td>5403161965640052848</td>\n",
       "      <td>0xc02aaa39b223fe8d0a0e5c4f27ead9083c756cc2</td>\n",
       "      <td>0x21ad647b8f4fe333212e735bfc1f36b4941e6ad2</td>\n",
       "      <td>0x0000543dbe9253542d4c3020c5ed40fefd3520dcf5ea9c16e71d611031629c50a85f11d4d6119848a0d2b2b8e270a6846383f39f6199100a</td>\n",
       "      <td>0.000000</td>\n",
       "      <td>5.403162</td>\n",
       "      <td>0.000000</td>\n",
       "      <td>23288.207524</td>\n",
       "    </tr>\n",
       "    <tr>\n",
       "      <th>2</th>\n",
       "      <td>0x00006f4028421299b3bf398dace422a6230beca51223a47b407ad0038351bd07a4d0b8a5cf2fcb72abec58bf9be156a2e0a58b7e62555649|0x1759c9e55bed47c03ca02f78a63ed674815d35ee971cd81d0733737cdd528257|3</td>\n",
       "      <td>1649758670</td>\n",
       "      <td>37462722322</td>\n",
       "      <td>231083551837426720</td>\n",
       "      <td>0x1759c9e55bed47c03ca02f78a63ed674815d35ee971cd81d0733737cdd528257</td>\n",
       "      <td>0x1759c9e55bed47c03ca02f78a63ed674815d35ee971cd81d0733737cdd528257</td>\n",
       "      <td>83488515439092675372</td>\n",
       "      <td>50512108780891254932</td>\n",
       "      <td>0x0d438f3b5175bebc262bf23753c1e53d03432bde</td>\n",
       "      <td>0xba100000625a3754423978a60c9317c58a424e3d</td>\n",
       "      <td>0x00006f4028421299b3bf398dace422a6230beca51223a47b407ad0038351bd07a4d0b8a5cf2fcb72abec58bf9be156a2e0a58b7e62555649</td>\n",
       "      <td>0.000000</td>\n",
       "      <td>0.431026</td>\n",
       "      <td>0.000000</td>\n",
       "      <td>1301.451984</td>\n",
       "    </tr>\n",
       "    <tr>\n",
       "      <th>3</th>\n",
       "      <td>0x0000a7abab226d1435769463bd69f908f97f6fa9f0d43e562c7ab1e53254f547a6ab7dc66dbeff529232d817f0f5a8026324bde66121daf9|0xa57b75307095f920b3195ae6365c234ed294c117032df91b6670edd0ce89e430|166</td>\n",
       "      <td>1629606920</td>\n",
       "      <td>30784014397</td>\n",
       "      <td>4120031304160000</td>\n",
       "      <td>0xa57b75307095f920b3195ae6365c234ed294c117032df91b6670edd0ce89e430</td>\n",
       "      <td>0xa57b75307095f920b3195ae6365c234ed294c117032df91b6670edd0ce89e430</td>\n",
       "      <td>631309430</td>\n",
       "      <td>200000000000000000</td>\n",
       "      <td>0xc02aaa39b223fe8d0a0e5c4f27ead9083c756cc2</td>\n",
       "      <td>0xdac17f958d2ee523a2206206994597c13d831ec7</td>\n",
       "      <td>0x0000a7abab226d1435769463bd69f908f97f6fa9f0d43e562c7ab1e53254f547a6ab7dc66dbeff529232d817f0f5a8026324bde66121daf9</td>\n",
       "      <td>0.195200</td>\n",
       "      <td>0.200000</td>\n",
       "      <td>631.309430</td>\n",
       "      <td>646.833378</td>\n",
       "    </tr>\n",
       "    <tr>\n",
       "      <th>4</th>\n",
       "      <td>0x0000cee52fa9bb7d59a5693b9ad3204eba530e70d0e4e89849d08f5dba11aafdb0e3f1c86bcb05fef30b5082da5e50e041dc154a6386af77|0x75e7950b08f7e5e42b8fa5855a495794497b3e41fdd2467e8e3a87c1c6e7055f|9</td>\n",
       "      <td>1669769399</td>\n",
       "      <td>26561817760</td>\n",
       "      <td>11048886</td>\n",
       "      <td>0x75e7950b08f7e5e42b8fa5855a495794497b3e41fdd2467e8e3a87c1c6e7055f</td>\n",
       "      <td>0x75e7950b08f7e5e42b8fa5855a495794497b3e41fdd2467e8e3a87c1c6e7055f</td>\n",
       "      <td>2486248136801875184</td>\n",
       "      <td>3182358586</td>\n",
       "      <td>0xa0b86991c6218b36c1d19d4a2e9eb0ce3606eb48</td>\n",
       "      <td>0xc02aaa39b223fe8d0a0e5c4f27ead9083c756cc2</td>\n",
       "      <td>0x0000cee52fa9bb7d59a5693b9ad3204eba530e70d0e4e89849d08f5dba11aafdb0e3f1c86bcb05fef30b5082da5e50e041dc154a6386af77</td>\n",
       "      <td>2.486248</td>\n",
       "      <td>2.495714</td>\n",
       "      <td>3170.288616</td>\n",
       "      <td>3182.358586</td>\n",
       "    </tr>\n",
       "    <tr>\n",
       "      <th>5</th>\n",
       "      <td>0x0000ea0e262e3d84c4e14b3496132eee9c7b595471e2da146c1505a951cf19eba1abd29de89c285afa6526b763f9ab38f02bbe4b623cff5d|0xed8904a159af4b70bc908d61e7a913889112d5ee912bda26a6e1e4720aa06d96|244</td>\n",
       "      <td>1648162956</td>\n",
       "      <td>48279828356</td>\n",
       "      <td>73237628510003104</td>\n",
       "      <td>0xed8904a159af4b70bc908d61e7a913889112d5ee912bda26a6e1e4720aa06d96</td>\n",
       "      <td>0xed8904a159af4b70bc908d61e7a913889112d5ee912bda26a6e1e4720aa06d96</td>\n",
       "      <td>71520075939588908</td>\n",
       "      <td>1769090996814490071</td>\n",
       "      <td>0x990f341946a3fdb507ae7e52d17851b87168017c</td>\n",
       "      <td>0xeeeeeeeeeeeeeeeeeeeeeeeeeeeeeeeeeeeeeeee</td>\n",
       "      <td>0x0000ea0e262e3d84c4e14b3496132eee9c7b595471e2da146c1505a951cf19eba1abd29de89c285afa6526b763f9ab38f02bbe4b623cff5d</td>\n",
       "      <td>0.071520</td>\n",
       "      <td>0.074837</td>\n",
       "      <td>222.558779</td>\n",
       "      <td>232.882044</td>\n",
       "    </tr>\n",
       "    <tr>\n",
       "      <th>6</th>\n",
       "      <td>0x00013567a0aaa2a7c190d2cf0daa4d72c597620a294ff7f3e6d6e3fbf100885419cd713c3ea67285a8bbc378fda976910659739262d97ceb|0xe1f5a5897350395f2a6fc5bc26f61ac8e6a481b7c1b9e07c2f2051ea17ca4c59|37</td>\n",
       "      <td>1658412348</td>\n",
       "      <td>89848896627</td>\n",
       "      <td>21478435</td>\n",
       "      <td>0xe1f5a5897350395f2a6fc5bc26f61ac8e6a481b7c1b9e07c2f2051ea17ca4c59</td>\n",
       "      <td>0xe1f5a5897350395f2a6fc5bc26f61ac8e6a481b7c1b9e07c2f2051ea17ca4c59</td>\n",
       "      <td>99424293748394999999996</td>\n",
       "      <td>100000000000</td>\n",
       "      <td>0xa0b86991c6218b36c1d19d4a2e9eb0ce3606eb48</td>\n",
       "      <td>0x57ab1ec28d129707052df4df418d58a2d46d5f51</td>\n",
       "      <td>0x00013567a0aaa2a7c190d2cf0daa4d72c597620a294ff7f3e6d6e3fbf100885419cd713c3ea67285a8bbc378fda976910659739262d97ceb</td>\n",
       "      <td>67.324532</td>\n",
       "      <td>66.657762</td>\n",
       "      <td>100254.844153</td>\n",
       "      <td>100000.000000</td>\n",
       "    </tr>\n",
       "  </tbody>\n",
       "</table>\n",
       "</div>"
      ],
      "text/plain": [
       "                                                                                                                                                                                   trades_id  trades_timestamp  trades_gasPrice    trades_feeAmount                                                       trades_txHash                                                trades_settlement_id         trades_buyAmount     trades_sellAmount                         trades_sellToken_id                          trades_buyToken_id                                                                                                     trades_order_id  trades_buyAmountEth  trades_sellAmountEth  trades_buyAmountUsd  trades_sellAmountUsd\n",
       "0   0x000050299d2697ae6d93d9ccec7b55dbe79c920596927402db5784e8e7ef1c9d961eed3b7d4b7c261ee5b023e5f857af5af1e700632d3cf0|0x0454b81f9e497fe91fc2df0e1e7420b9a5e20439b065132daab91c09de8512cf|59        1663907363       6062637482             1344622  0x0454b81f9e497fe91fc2df0e1e7420b9a5e20439b065132daab91c09de8512cf  0x0454b81f9e497fe91fc2df0e1e7420b9a5e20439b065132daab91c09de8512cf    917011543008284856417            4093394367  0xa0b86991c6218b36c1d19d4a2e9eb0ce3606eb48  0x3432b6a60d23ca0dfca7761b7ab56459d9c964d0  0x000050299d2697ae6d93d9ccec7b55dbe79c920596927402db5784e8e7ef1c9d961eed3b7d4b7c261ee5b023e5f857af5af1e700632d3cf0             3.047480              3.049075          4087.560206           4093.394367\n",
       "1    0x0000543dbe9253542d4c3020c5ed40fefd3520dcf5ea9c16e71d611031629c50a85f11d4d6119848a0d2b2b8e270a6846383f39f6199100a|0x8ed73664124b6683be7064af365ce972679b94964680ccb79056ed5192e1a9af|1        1637419389      96392802490    7508432409899440  0x8ed73664124b6683be7064af365ce972679b94964680ccb79056ed5192e1a9af  0x8ed73664124b6683be7064af365ce972679b94964680ccb79056ed5192e1a9af                 20887903   5403161965640052848  0xc02aaa39b223fe8d0a0e5c4f27ead9083c756cc2  0x21ad647b8f4fe333212e735bfc1f36b4941e6ad2  0x0000543dbe9253542d4c3020c5ed40fefd3520dcf5ea9c16e71d611031629c50a85f11d4d6119848a0d2b2b8e270a6846383f39f6199100a             0.000000              5.403162             0.000000          23288.207524\n",
       "2    0x00006f4028421299b3bf398dace422a6230beca51223a47b407ad0038351bd07a4d0b8a5cf2fcb72abec58bf9be156a2e0a58b7e62555649|0x1759c9e55bed47c03ca02f78a63ed674815d35ee971cd81d0733737cdd528257|3        1649758670      37462722322  231083551837426720  0x1759c9e55bed47c03ca02f78a63ed674815d35ee971cd81d0733737cdd528257  0x1759c9e55bed47c03ca02f78a63ed674815d35ee971cd81d0733737cdd528257     83488515439092675372  50512108780891254932  0x0d438f3b5175bebc262bf23753c1e53d03432bde  0xba100000625a3754423978a60c9317c58a424e3d  0x00006f4028421299b3bf398dace422a6230beca51223a47b407ad0038351bd07a4d0b8a5cf2fcb72abec58bf9be156a2e0a58b7e62555649             0.000000              0.431026             0.000000           1301.451984\n",
       "3  0x0000a7abab226d1435769463bd69f908f97f6fa9f0d43e562c7ab1e53254f547a6ab7dc66dbeff529232d817f0f5a8026324bde66121daf9|0xa57b75307095f920b3195ae6365c234ed294c117032df91b6670edd0ce89e430|166        1629606920      30784014397    4120031304160000  0xa57b75307095f920b3195ae6365c234ed294c117032df91b6670edd0ce89e430  0xa57b75307095f920b3195ae6365c234ed294c117032df91b6670edd0ce89e430                631309430    200000000000000000  0xc02aaa39b223fe8d0a0e5c4f27ead9083c756cc2  0xdac17f958d2ee523a2206206994597c13d831ec7  0x0000a7abab226d1435769463bd69f908f97f6fa9f0d43e562c7ab1e53254f547a6ab7dc66dbeff529232d817f0f5a8026324bde66121daf9             0.195200              0.200000           631.309430            646.833378\n",
       "4    0x0000cee52fa9bb7d59a5693b9ad3204eba530e70d0e4e89849d08f5dba11aafdb0e3f1c86bcb05fef30b5082da5e50e041dc154a6386af77|0x75e7950b08f7e5e42b8fa5855a495794497b3e41fdd2467e8e3a87c1c6e7055f|9        1669769399      26561817760            11048886  0x75e7950b08f7e5e42b8fa5855a495794497b3e41fdd2467e8e3a87c1c6e7055f  0x75e7950b08f7e5e42b8fa5855a495794497b3e41fdd2467e8e3a87c1c6e7055f      2486248136801875184            3182358586  0xa0b86991c6218b36c1d19d4a2e9eb0ce3606eb48  0xc02aaa39b223fe8d0a0e5c4f27ead9083c756cc2  0x0000cee52fa9bb7d59a5693b9ad3204eba530e70d0e4e89849d08f5dba11aafdb0e3f1c86bcb05fef30b5082da5e50e041dc154a6386af77             2.486248              2.495714          3170.288616           3182.358586\n",
       "5  0x0000ea0e262e3d84c4e14b3496132eee9c7b595471e2da146c1505a951cf19eba1abd29de89c285afa6526b763f9ab38f02bbe4b623cff5d|0xed8904a159af4b70bc908d61e7a913889112d5ee912bda26a6e1e4720aa06d96|244        1648162956      48279828356   73237628510003104  0xed8904a159af4b70bc908d61e7a913889112d5ee912bda26a6e1e4720aa06d96  0xed8904a159af4b70bc908d61e7a913889112d5ee912bda26a6e1e4720aa06d96        71520075939588908   1769090996814490071  0x990f341946a3fdb507ae7e52d17851b87168017c  0xeeeeeeeeeeeeeeeeeeeeeeeeeeeeeeeeeeeeeeee  0x0000ea0e262e3d84c4e14b3496132eee9c7b595471e2da146c1505a951cf19eba1abd29de89c285afa6526b763f9ab38f02bbe4b623cff5d             0.071520              0.074837           222.558779            232.882044\n",
       "6   0x00013567a0aaa2a7c190d2cf0daa4d72c597620a294ff7f3e6d6e3fbf100885419cd713c3ea67285a8bbc378fda976910659739262d97ceb|0xe1f5a5897350395f2a6fc5bc26f61ac8e6a481b7c1b9e07c2f2051ea17ca4c59|37        1658412348      89848896627            21478435  0xe1f5a5897350395f2a6fc5bc26f61ac8e6a481b7c1b9e07c2f2051ea17ca4c59  0xe1f5a5897350395f2a6fc5bc26f61ac8e6a481b7c1b9e07c2f2051ea17ca4c59  99424293748394999999996          100000000000  0xa0b86991c6218b36c1d19d4a2e9eb0ce3606eb48  0x57ab1ec28d129707052df4df418d58a2d46d5f51  0x00013567a0aaa2a7c190d2cf0daa4d72c597620a294ff7f3e6d6e3fbf100885419cd713c3ea67285a8bbc378fda976910659739262d97ceb            67.324532             66.657762        100254.844153         100000.000000"
      ]
     },
     "execution_count": 17,
     "metadata": {},
     "output_type": "execute_result"
    }
   ],
   "source": [
    "# Run a single query like this. Output is a DataFrame.\n",
    "ds.runQuery(ds.queryFields[3], query_size=7)"
   ]
  },
  {
   "cell_type": "code",
   "execution_count": 10,
   "metadata": {},
   "outputs": [
    {
     "name": "stdout",
     "output_type": "stream",
     "text": [
      "\n",
      "field path param users\n",
      "\n",
      "field path param tokens\n",
      "\n",
      "field path param orders\n",
      "\n",
      "field path param trades\n",
      "\n",
      "field path param settlements\n",
      "\n",
      "field path param bundles\n",
      "\n",
      "field path param uniswapPools\n",
      "\n",
      "field path param uniswapTokens\n",
      "\n",
      "field path param totals\n",
      "\n",
      "field path param dailyTotals\n",
      "\n",
      "field path param hourlyTotals\n",
      "\n",
      "field path param tokenDailyTotals\n",
      "\n",
      "field path param tokenHourlyTotals\n",
      "\n",
      "field path param tokenTradingEvents\n",
      "\n",
      "field path param pairs\n",
      "\n",
      "field path param pairDailies\n",
      "\n",
      "field path param pairHourlies\n"
     ]
    }
   ],
   "source": [
    "# Use runStreamerLoop() to query ALL query fields. Returns a list[DataFrame]\n",
    "df_data_list = ds.runStreamerLoop()"
   ]
  },
  {
   "cell_type": "code",
   "execution_count": 11,
   "metadata": {},
   "outputs": [
    {
     "data": {
      "text/html": [
       "<div>\n",
       "<style scoped>\n",
       "    .dataframe tbody tr th:only-of-type {\n",
       "        vertical-align: middle;\n",
       "    }\n",
       "\n",
       "    .dataframe tbody tr th {\n",
       "        vertical-align: top;\n",
       "    }\n",
       "\n",
       "    .dataframe thead th {\n",
       "        text-align: right;\n",
       "    }\n",
       "</style>\n",
       "<table border=\"1\" class=\"dataframe\">\n",
       "  <thead>\n",
       "    <tr style=\"text-align: right;\">\n",
       "      <th></th>\n",
       "      <th>users_id</th>\n",
       "      <th>users_address</th>\n",
       "      <th>users_firstTradeTimestamp</th>\n",
       "      <th>users_isSolver</th>\n",
       "      <th>users_numberOfTrades</th>\n",
       "      <th>users_solvedAmountEth</th>\n",
       "      <th>users_solvedAmountUsd</th>\n",
       "      <th>users_tradedAmountUsd</th>\n",
       "      <th>users_tradedAmountEth</th>\n",
       "    </tr>\n",
       "  </thead>\n",
       "  <tbody>\n",
       "    <tr>\n",
       "      <th>0</th>\n",
       "      <td>0x000000000002e33d9a86567c6dfe6d92f6777d1e</td>\n",
       "      <td>0x000000000002e33d9a86567c6dfe6d92f6777d1e</td>\n",
       "      <td>1668967751</td>\n",
       "      <td>False</td>\n",
       "      <td>0</td>\n",
       "      <td>0.0</td>\n",
       "      <td>0.0</td>\n",
       "      <td>67597.313297</td>\n",
       "      <td>57.661678</td>\n",
       "    </tr>\n",
       "    <tr>\n",
       "      <th>1</th>\n",
       "      <td>0x00000000000360176d958e11c140308cd0863679</td>\n",
       "      <td>0x00000000000360176d958e11c140308cd0863679</td>\n",
       "      <td>1660125075</td>\n",
       "      <td>False</td>\n",
       "      <td>0</td>\n",
       "      <td>0.0</td>\n",
       "      <td>0.0</td>\n",
       "      <td>2251.400440</td>\n",
       "      <td>1.323295</td>\n",
       "    </tr>\n",
       "    <tr>\n",
       "      <th>2</th>\n",
       "      <td>0x00000000000f4747e06f3b3bc6849f89bd981d8f</td>\n",
       "      <td>0x00000000000f4747e06f3b3bc6849f89bd981d8f</td>\n",
       "      <td>1645782049</td>\n",
       "      <td>False</td>\n",
       "      <td>0</td>\n",
       "      <td>0.0</td>\n",
       "      <td>0.0</td>\n",
       "      <td>99.144810</td>\n",
       "      <td>0.038117</td>\n",
       "    </tr>\n",
       "    <tr>\n",
       "      <th>3</th>\n",
       "      <td>0x000000000057e8abd581828a2b40076852c0ba6e</td>\n",
       "      <td>0x000000000057e8abd581828a2b40076852c0ba6e</td>\n",
       "      <td>1644016870</td>\n",
       "      <td>False</td>\n",
       "      <td>0</td>\n",
       "      <td>0.0</td>\n",
       "      <td>0.0</td>\n",
       "      <td>29031.735925</td>\n",
       "      <td>9.832323</td>\n",
       "    </tr>\n",
       "  </tbody>\n",
       "</table>\n",
       "</div>"
      ],
      "text/plain": [
       "                                     users_id                               users_address  users_firstTradeTimestamp  users_isSolver  users_numberOfTrades  users_solvedAmountEth  users_solvedAmountUsd  users_tradedAmountUsd  users_tradedAmountEth\n",
       "0  0x000000000002e33d9a86567c6dfe6d92f6777d1e  0x000000000002e33d9a86567c6dfe6d92f6777d1e                 1668967751           False                     0                    0.0                    0.0           67597.313297              57.661678\n",
       "1  0x00000000000360176d958e11c140308cd0863679  0x00000000000360176d958e11c140308cd0863679                 1660125075           False                     0                    0.0                    0.0            2251.400440               1.323295\n",
       "2  0x00000000000f4747e06f3b3bc6849f89bd981d8f  0x00000000000f4747e06f3b3bc6849f89bd981d8f                 1645782049           False                     0                    0.0                    0.0              99.144810               0.038117\n",
       "3  0x000000000057e8abd581828a2b40076852c0ba6e  0x000000000057e8abd581828a2b40076852c0ba6e                 1644016870           False                     0                    0.0                    0.0           29031.735925               9.832323"
      ]
     },
     "execution_count": 11,
     "metadata": {},
     "output_type": "execute_result"
    }
   ],
   "source": [
    "df_data_list[0]"
   ]
  },
  {
   "cell_type": "code",
   "execution_count": 12,
   "metadata": {},
   "outputs": [
    {
     "data": {
      "text/html": [
       "<div>\n",
       "<style scoped>\n",
       "    .dataframe tbody tr th:only-of-type {\n",
       "        vertical-align: middle;\n",
       "    }\n",
       "\n",
       "    .dataframe tbody tr th {\n",
       "        vertical-align: top;\n",
       "    }\n",
       "\n",
       "    .dataframe thead th {\n",
       "        text-align: right;\n",
       "    }\n",
       "</style>\n",
       "<table border=\"1\" class=\"dataframe\">\n",
       "  <thead>\n",
       "    <tr style=\"text-align: right;\">\n",
       "      <th></th>\n",
       "      <th>bundles_id</th>\n",
       "      <th>bundles_ethPriceUSD</th>\n",
       "    </tr>\n",
       "  </thead>\n",
       "  <tbody>\n",
       "    <tr>\n",
       "      <th>0</th>\n",
       "      <td>1</td>\n",
       "      <td>1255.442076</td>\n",
       "    </tr>\n",
       "  </tbody>\n",
       "</table>\n",
       "</div>"
      ],
      "text/plain": [
       "  bundles_id  bundles_ethPriceUSD\n",
       "0          1          1255.442076"
      ]
     },
     "execution_count": 12,
     "metadata": {},
     "output_type": "execute_result"
    }
   ],
   "source": [
    "df_data_list[3]"
   ]
  },
  {
   "cell_type": "code",
   "execution_count": null,
   "metadata": {},
   "outputs": [],
   "source": []
  }
 ],
 "metadata": {
  "kernelspec": {
   "display_name": "Python 3",
   "language": "python",
   "name": "python3"
  },
  "language_info": {
   "codemirror_mode": {
    "name": "ipython",
    "version": 3
   },
   "file_extension": ".py",
   "mimetype": "text/x-python",
   "name": "python",
   "nbconvert_exporter": "python",
   "pygments_lexer": "ipython3",
   "version": "3.10.6"
  },
  "orig_nbformat": 4,
  "vscode": {
   "interpreter": {
    "hash": "916dbcbb3f70747c44a77c7bcd40155683ae19c65e1c03b4aa3499c5328201f1"
   }
  }
 },
 "nbformat": 4,
 "nbformat_minor": 2
}

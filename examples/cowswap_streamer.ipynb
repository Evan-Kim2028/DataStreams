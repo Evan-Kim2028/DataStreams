{
 "cells": [
  {
   "cell_type": "code",
   "execution_count": 9,
   "metadata": {},
   "outputs": [
    {
     "ename": "",
     "evalue": "",
     "output_type": "error",
     "traceback": [
      "\u001b[1;31mThe Kernel crashed while executing code in the the current cell or a previous cell. Please review the code in the cell(s) to identify a possible cause of the failure. Click <a href='https://aka.ms/vscodeJupyterKernelCrash'>here</a> for more info. View Jupyter <a href='command:jupyter.viewOutput'>log</a> for further details."
     ]
    },
    {
     "ename": "",
     "evalue": "",
     "output_type": "error",
     "traceback": [
      "\u001b[1;31mCanceled future for execute_request message before replies were done"
     ]
    }
   ],
   "source": [
    "!pip install git+https://github.com/Evan-Kim2028/DataStreams.git \n",
    "# probably need to periodically update based on the github pushes"
   ]
  },
  {
   "cell_type": "code",
   "execution_count": 2,
   "metadata": {},
   "outputs": [],
   "source": [
    "import os\n",
    "import pandas as pd\n",
    "\n",
    "from datastreams.datastream import Streamer"
   ]
  },
  {
   "cell_type": "code",
   "execution_count": 3,
   "metadata": {},
   "outputs": [],
   "source": [
    "pd.set_option('display.max_columns', None)\n",
    "pd.set_option('display.expand_frame_repr', False)\n",
    "pd.set_option('max_colwidth', None)"
   ]
  },
  {
   "cell_type": "code",
   "execution_count": 5,
   "metadata": {},
   "outputs": [],
   "source": [
    "# endpoint = 'https://api.thegraph.com/subgraphs/name/cowprotocol/cow'\n",
    "endpoint = 'https://api.thegraph.com/subgraphs/name/messari/uniswap-v3-arbitrum'"
   ]
  },
  {
   "cell_type": "code",
   "execution_count": 6,
   "metadata": {},
   "outputs": [],
   "source": [
    "ds = Streamer(endpoint)"
   ]
  },
  {
   "cell_type": "code",
   "execution_count": 7,
   "metadata": {},
   "outputs": [
    {
     "data": {
      "text/plain": [
       "FieldPath(https://api.thegraph.com/subgraphs/name/messari/uniswap-v3-arbitrum, Query, ['dexAmmProtocols'])"
      ]
     },
     "execution_count": 7,
     "metadata": {},
     "output_type": "execute_result"
    }
   ],
   "source": [
    "# Queryable fields are stored in ds.queryFields as a list of FieldPaths.\n",
    "ds.queryFields[3]"
   ]
  },
  {
   "cell_type": "code",
   "execution_count": 8,
   "metadata": {},
   "outputs": [
    {
     "name": "stdout",
     "output_type": "stream",
     "text": [
      "FIELD - dexAmmProtocols\n"
     ]
    },
    {
     "data": {
      "text/html": [
       "<div>\n",
       "<style scoped>\n",
       "    .dataframe tbody tr th:only-of-type {\n",
       "        vertical-align: middle;\n",
       "    }\n",
       "\n",
       "    .dataframe tbody tr th {\n",
       "        vertical-align: top;\n",
       "    }\n",
       "\n",
       "    .dataframe thead th {\n",
       "        text-align: right;\n",
       "    }\n",
       "</style>\n",
       "<table border=\"1\" class=\"dataframe\">\n",
       "  <thead>\n",
       "    <tr style=\"text-align: right;\">\n",
       "      <th></th>\n",
       "      <th>dexAmmProtocols_id</th>\n",
       "      <th>dexAmmProtocols_name</th>\n",
       "      <th>dexAmmProtocols_slug</th>\n",
       "      <th>dexAmmProtocols_schemaVersion</th>\n",
       "      <th>dexAmmProtocols_subgraphVersion</th>\n",
       "      <th>dexAmmProtocols_methodologyVersion</th>\n",
       "      <th>dexAmmProtocols_network</th>\n",
       "      <th>dexAmmProtocols_type</th>\n",
       "      <th>dexAmmProtocols_totalValueLockedUSD</th>\n",
       "      <th>dexAmmProtocols_protocolControlledValueUSD</th>\n",
       "      <th>dexAmmProtocols_cumulativeVolumeUSD</th>\n",
       "      <th>dexAmmProtocols_cumulativeSupplySideRevenueUSD</th>\n",
       "      <th>dexAmmProtocols_cumulativeProtocolSideRevenueUSD</th>\n",
       "      <th>dexAmmProtocols_cumulativeTotalRevenueUSD</th>\n",
       "      <th>dexAmmProtocols_cumulativeUniqueUsers</th>\n",
       "      <th>dexAmmProtocols_totalPoolCount</th>\n",
       "      <th>dexAmmProtocols__regenesis</th>\n",
       "    </tr>\n",
       "  </thead>\n",
       "  <tbody>\n",
       "    <tr>\n",
       "      <th>0</th>\n",
       "      <td>0x1f98431c8ad98523631ae4a59f267346ea31f984</td>\n",
       "      <td>Uniswap V3</td>\n",
       "      <td>uniswap-v3</td>\n",
       "      <td>1.3.0</td>\n",
       "      <td>1.1.4</td>\n",
       "      <td>1.0.0</td>\n",
       "      <td>ARBITRUM_ONE</td>\n",
       "      <td>EXCHANGE</td>\n",
       "      <td>1.118862e+08</td>\n",
       "      <td>None</td>\n",
       "      <td>2.027551e+10</td>\n",
       "      <td>3.138650e+07</td>\n",
       "      <td>0.0</td>\n",
       "      <td>3.138650e+07</td>\n",
       "      <td>641194</td>\n",
       "      <td>1309</td>\n",
       "      <td>False</td>\n",
       "    </tr>\n",
       "  </tbody>\n",
       "</table>\n",
       "</div>"
      ],
      "text/plain": [
       "                           dexAmmProtocols_id dexAmmProtocols_name dexAmmProtocols_slug dexAmmProtocols_schemaVersion dexAmmProtocols_subgraphVersion dexAmmProtocols_methodologyVersion dexAmmProtocols_network dexAmmProtocols_type  dexAmmProtocols_totalValueLockedUSD dexAmmProtocols_protocolControlledValueUSD  dexAmmProtocols_cumulativeVolumeUSD  dexAmmProtocols_cumulativeSupplySideRevenueUSD  dexAmmProtocols_cumulativeProtocolSideRevenueUSD  dexAmmProtocols_cumulativeTotalRevenueUSD  dexAmmProtocols_cumulativeUniqueUsers  dexAmmProtocols_totalPoolCount  dexAmmProtocols__regenesis\n",
       "0  0x1f98431c8ad98523631ae4a59f267346ea31f984           Uniswap V3           uniswap-v3                         1.3.0                           1.1.4                              1.0.0            ARBITRUM_ONE             EXCHANGE                         1.118862e+08                                       None                         2.027551e+10                                    3.138650e+07                                               0.0                               3.138650e+07                                 641194                            1309                       False"
      ]
     },
     "execution_count": 8,
     "metadata": {},
     "output_type": "execute_result"
    }
   ],
   "source": [
    "# Run a single query like this. Output is a DataFrame.\n",
    "ds.runQuery(ds.queryFields[5], query_size=9)"
   ]
  },
  {
   "cell_type": "code",
   "execution_count": 8,
   "metadata": {},
   "outputs": [
    {
     "name": "stdout",
     "output_type": "stream",
     "text": [
      "FIELD - users\n",
      "FIELD - tokens\n",
      "FIELD - orders\n",
      "FIELD - trades\n",
      "FIELD - settlements\n",
      "FIELD - bundles\n",
      "FIELD - uniswapPools\n",
      "FIELD - uniswapTokens\n",
      "FIELD - totals\n",
      "FIELD - dailyTotals\n",
      "FIELD - hourlyTotals\n",
      "FIELD - tokenDailyTotals\n",
      "FIELD - tokenHourlyTotals\n",
      "FIELD - tokenTradingEvents\n",
      "FIELD - pairs\n",
      "FIELD - pairDailies\n",
      "FIELD - pairHourlies\n"
     ]
    }
   ],
   "source": [
    "# Use runStreamerLoop() to query ALL query fields. Returns a list[DataFrame]\n",
    "df_data_list = ds.runStreamerLoop()"
   ]
  },
  {
   "cell_type": "code",
   "execution_count": null,
   "metadata": {},
   "outputs": [],
   "source": [
    "df_data_list_parallel = ds.runStreamerLoopParallel(query_list=ds.queryFields, query_size=10)"
   ]
  }
 ],
 "metadata": {
  "kernelspec": {
   "display_name": "Python 3",
   "language": "python",
   "name": "python3"
  },
  "language_info": {
   "codemirror_mode": {
    "name": "ipython",
    "version": 3
   },
   "file_extension": ".py",
   "mimetype": "text/x-python",
   "name": "python",
   "nbconvert_exporter": "python",
   "pygments_lexer": "ipython3",
   "version": "3.10.6"
  },
  "orig_nbformat": 4,
  "vscode": {
   "interpreter": {
    "hash": "916dbcbb3f70747c44a77c7bcd40155683ae19c65e1c03b4aa3499c5328201f1"
   }
  }
 },
 "nbformat": 4,
 "nbformat_minor": 2
}

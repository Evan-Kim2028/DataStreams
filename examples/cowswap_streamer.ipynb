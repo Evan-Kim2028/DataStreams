{
 "cells": [
  {
   "cell_type": "code",
   "execution_count": 1,
   "metadata": {},
   "outputs": [
    {
     "name": "stdout",
     "output_type": "stream",
     "text": [
      "Defaulting to user installation because normal site-packages is not writeable\n",
      "Collecting git+https://github.com/Evan-Kim2028/DataStreams.git\n",
      "  Cloning https://github.com/Evan-Kim2028/DataStreams.git to /tmp/pip-req-build-mj3nb92y\n",
      "  Running command git clone --filter=blob:none --quiet https://github.com/Evan-Kim2028/DataStreams.git /tmp/pip-req-build-mj3nb92y\n",
      "  Resolved https://github.com/Evan-Kim2028/DataStreams.git to commit 018009c313a5d7a9a84e8ed99beadb2ef9eb908b\n",
      "  Installing build dependencies ... \u001b[?25ldone\n",
      "\u001b[?25h  Getting requirements to build wheel ... \u001b[?25ldone\n",
      "\u001b[?25h  Installing backend dependencies ... \u001b[?25ldone\n",
      "\u001b[?25h  Preparing metadata (pyproject.toml) ... \u001b[?25ldone\n",
      "\u001b[?25hRequirement already satisfied: pandas>=1.5.0 in /home/evan/.local/lib/python3.10/site-packages (from DataStreams==0.0.post1.dev33+g018009c) (1.5.0)\n",
      "Requirement already satisfied: subgrounds>=1.0.3 in /home/evan/.local/lib/python3.10/site-packages (from DataStreams==0.0.post1.dev33+g018009c) (1.0.3)\n",
      "Requirement already satisfied: numpy>=1.21.0 in /home/evan/.local/lib/python3.10/site-packages (from pandas>=1.5.0->DataStreams==0.0.post1.dev33+g018009c) (1.24.1)\n",
      "Requirement already satisfied: python-dateutil>=2.8.1 in /home/evan/.local/lib/python3.10/site-packages (from pandas>=1.5.0->DataStreams==0.0.post1.dev33+g018009c) (2.8.2)\n",
      "Requirement already satisfied: pytz>=2020.1 in /home/evan/.local/lib/python3.10/site-packages (from pandas>=1.5.0->DataStreams==0.0.post1.dev33+g018009c) (2021.3)\n",
      "Requirement already satisfied: requests<3.0.0,>=2.27.1 in /home/evan/.local/lib/python3.10/site-packages (from subgrounds>=1.0.3->DataStreams==0.0.post1.dev33+g018009c) (2.28.1)\n",
      "Requirement already satisfied: pydantic<2.0.0,>=1.10.2 in /home/evan/.local/lib/python3.10/site-packages (from subgrounds>=1.0.3->DataStreams==0.0.post1.dev33+g018009c) (1.10.2)\n",
      "Requirement already satisfied: pipe<3.0,>=2.0 in /home/evan/.local/lib/python3.10/site-packages (from subgrounds>=1.0.3->DataStreams==0.0.post1.dev33+g018009c) (2.0)\n",
      "Requirement already satisfied: pathlib<2.0.0,>=1.0.1 in /home/evan/.local/lib/python3.10/site-packages (from subgrounds>=1.0.3->DataStreams==0.0.post1.dev33+g018009c) (1.0.1)\n",
      "Requirement already satisfied: typing-extensions>=4.1.0 in /home/evan/.local/lib/python3.10/site-packages (from pydantic<2.0.0,>=1.10.2->subgrounds>=1.0.3->DataStreams==0.0.post1.dev33+g018009c) (4.4.0)\n",
      "Requirement already satisfied: six>=1.5 in /usr/local/lib/python3.10/dist-packages (from python-dateutil>=2.8.1->pandas>=1.5.0->DataStreams==0.0.post1.dev33+g018009c) (1.16.0)\n",
      "Requirement already satisfied: charset-normalizer<3,>=2 in /usr/local/lib/python3.10/dist-packages (from requests<3.0.0,>=2.27.1->subgrounds>=1.0.3->DataStreams==0.0.post1.dev33+g018009c) (2.1.0)\n",
      "Requirement already satisfied: idna<4,>=2.5 in /home/evan/.local/lib/python3.10/site-packages (from requests<3.0.0,>=2.27.1->subgrounds>=1.0.3->DataStreams==0.0.post1.dev33+g018009c) (2.10)\n",
      "Requirement already satisfied: certifi>=2017.4.17 in /usr/local/lib/python3.10/dist-packages (from requests<3.0.0,>=2.27.1->subgrounds>=1.0.3->DataStreams==0.0.post1.dev33+g018009c) (2022.6.15)\n",
      "Requirement already satisfied: urllib3<1.27,>=1.21.1 in /usr/local/lib/python3.10/dist-packages (from requests<3.0.0,>=2.27.1->subgrounds>=1.0.3->DataStreams==0.0.post1.dev33+g018009c) (1.26.9)\n",
      "Building wheels for collected packages: DataStreams\n",
      "  Building wheel for DataStreams (pyproject.toml) ... \u001b[?25ldone\n",
      "\u001b[?25h  Created wheel for DataStreams: filename=DataStreams-0.0.post1.dev33+g018009c-py3-none-any.whl size=6268 sha256=be49c279a2531f2491772af9256a3599401eb4441355d7508cfbbae23e9e4f87\n",
      "  Stored in directory: /tmp/pip-ephem-wheel-cache-a57e70c5/wheels/06/e7/63/91de055318e05be20cb8ce687f960fcb1ae3a9e77f754cda6c\n",
      "Successfully built DataStreams\n",
      "Installing collected packages: DataStreams\n",
      "  Attempting uninstall: DataStreams\n",
      "    Found existing installation: DataStreams 0.0.post1.dev31+g61b577e\n",
      "    Uninstalling DataStreams-0.0.post1.dev31+g61b577e:\n",
      "      Successfully uninstalled DataStreams-0.0.post1.dev31+g61b577e\n",
      "Successfully installed DataStreams-0.0.post1.dev33+g018009c\n"
     ]
    }
   ],
   "source": [
    "!pip install git+https://github.com/Evan-Kim2028/DataStreams.git \n",
    "# probably need to periodically update based on the github pushes"
   ]
  },
  {
   "cell_type": "code",
   "execution_count": 2,
   "metadata": {},
   "outputs": [],
   "source": [
    "import os\n",
    "import pandas as pd\n",
    "\n",
    "from datastreams.datastream import Streamer"
   ]
  },
  {
   "cell_type": "code",
   "execution_count": 3,
   "metadata": {},
   "outputs": [],
   "source": [
    "pd.set_option('display.max_columns', None)\n",
    "pd.set_option('display.expand_frame_repr', False)\n",
    "pd.set_option('max_colwidth', None)"
   ]
  },
  {
   "cell_type": "code",
   "execution_count": 5,
   "metadata": {},
   "outputs": [],
   "source": [
    "# endpoint = 'https://api.thegraph.com/subgraphs/name/cowprotocol/cow'\n",
    "endpoint = 'https://api.thegraph.com/subgraphs/name/messari/uniswap-v3-arbitrum'"
   ]
  },
  {
   "cell_type": "code",
   "execution_count": 6,
   "metadata": {},
   "outputs": [],
   "source": [
    "ds = Streamer(endpoint)"
   ]
  },
  {
   "cell_type": "code",
   "execution_count": 7,
   "metadata": {},
   "outputs": [
    {
     "data": {
      "text/plain": [
       "FieldPath(https://api.thegraph.com/subgraphs/name/messari/uniswap-v3-arbitrum, Query, ['dexAmmProtocols'])"
      ]
     },
     "execution_count": 7,
     "metadata": {},
     "output_type": "execute_result"
    }
   ],
   "source": [
    "# Queryable fields are stored in ds.queryFields as a list of FieldPaths.\n",
    "ds.queryFields[3]"
   ]
  },
  {
   "cell_type": "code",
   "execution_count": 8,
   "metadata": {},
   "outputs": [
    {
     "name": "stdout",
     "output_type": "stream",
     "text": [
      "FIELD - dexAmmProtocols\n"
     ]
    },
    {
     "data": {
      "text/html": [
       "<div>\n",
       "<style scoped>\n",
       "    .dataframe tbody tr th:only-of-type {\n",
       "        vertical-align: middle;\n",
       "    }\n",
       "\n",
       "    .dataframe tbody tr th {\n",
       "        vertical-align: top;\n",
       "    }\n",
       "\n",
       "    .dataframe thead th {\n",
       "        text-align: right;\n",
       "    }\n",
       "</style>\n",
       "<table border=\"1\" class=\"dataframe\">\n",
       "  <thead>\n",
       "    <tr style=\"text-align: right;\">\n",
       "      <th></th>\n",
       "      <th>dexAmmProtocols_id</th>\n",
       "      <th>dexAmmProtocols_name</th>\n",
       "      <th>dexAmmProtocols_slug</th>\n",
       "      <th>dexAmmProtocols_schemaVersion</th>\n",
       "      <th>dexAmmProtocols_subgraphVersion</th>\n",
       "      <th>dexAmmProtocols_methodologyVersion</th>\n",
       "      <th>dexAmmProtocols_network</th>\n",
       "      <th>dexAmmProtocols_type</th>\n",
       "      <th>dexAmmProtocols_totalValueLockedUSD</th>\n",
       "      <th>dexAmmProtocols_protocolControlledValueUSD</th>\n",
       "      <th>dexAmmProtocols_cumulativeVolumeUSD</th>\n",
       "      <th>dexAmmProtocols_cumulativeSupplySideRevenueUSD</th>\n",
       "      <th>dexAmmProtocols_cumulativeProtocolSideRevenueUSD</th>\n",
       "      <th>dexAmmProtocols_cumulativeTotalRevenueUSD</th>\n",
       "      <th>dexAmmProtocols_cumulativeUniqueUsers</th>\n",
       "      <th>dexAmmProtocols_totalPoolCount</th>\n",
       "      <th>dexAmmProtocols__regenesis</th>\n",
       "    </tr>\n",
       "  </thead>\n",
       "  <tbody>\n",
       "    <tr>\n",
       "      <th>0</th>\n",
       "      <td>0x1f98431c8ad98523631ae4a59f267346ea31f984</td>\n",
       "      <td>Uniswap V3</td>\n",
       "      <td>uniswap-v3</td>\n",
       "      <td>1.3.0</td>\n",
       "      <td>1.1.4</td>\n",
       "      <td>1.0.0</td>\n",
       "      <td>ARBITRUM_ONE</td>\n",
       "      <td>EXCHANGE</td>\n",
       "      <td>1.118862e+08</td>\n",
       "      <td>None</td>\n",
       "      <td>2.027551e+10</td>\n",
       "      <td>3.138650e+07</td>\n",
       "      <td>0.0</td>\n",
       "      <td>3.138650e+07</td>\n",
       "      <td>641194</td>\n",
       "      <td>1309</td>\n",
       "      <td>False</td>\n",
       "    </tr>\n",
       "  </tbody>\n",
       "</table>\n",
       "</div>"
      ],
      "text/plain": [
       "                           dexAmmProtocols_id dexAmmProtocols_name dexAmmProtocols_slug dexAmmProtocols_schemaVersion dexAmmProtocols_subgraphVersion dexAmmProtocols_methodologyVersion dexAmmProtocols_network dexAmmProtocols_type  dexAmmProtocols_totalValueLockedUSD dexAmmProtocols_protocolControlledValueUSD  dexAmmProtocols_cumulativeVolumeUSD  dexAmmProtocols_cumulativeSupplySideRevenueUSD  dexAmmProtocols_cumulativeProtocolSideRevenueUSD  dexAmmProtocols_cumulativeTotalRevenueUSD  dexAmmProtocols_cumulativeUniqueUsers  dexAmmProtocols_totalPoolCount  dexAmmProtocols__regenesis\n",
       "0  0x1f98431c8ad98523631ae4a59f267346ea31f984           Uniswap V3           uniswap-v3                         1.3.0                           1.1.4                              1.0.0            ARBITRUM_ONE             EXCHANGE                         1.118862e+08                                       None                         2.027551e+10                                    3.138650e+07                                               0.0                               3.138650e+07                                 641194                            1309                       False"
      ]
     },
     "execution_count": 8,
     "metadata": {},
     "output_type": "execute_result"
    }
   ],
   "source": [
    "# Run a single query like this. Output is a DataFrame.\n",
    "ds.runQuery(ds.queryFields[3], query_size=7)"
   ]
  },
  {
   "cell_type": "code",
   "execution_count": 8,
   "metadata": {},
   "outputs": [
    {
     "name": "stdout",
     "output_type": "stream",
     "text": [
      "FIELD - users\n",
      "FIELD - tokens\n",
      "FIELD - orders\n",
      "FIELD - trades\n",
      "FIELD - settlements\n",
      "FIELD - bundles\n",
      "FIELD - uniswapPools\n",
      "FIELD - uniswapTokens\n",
      "FIELD - totals\n",
      "FIELD - dailyTotals\n",
      "FIELD - hourlyTotals\n",
      "FIELD - tokenDailyTotals\n",
      "FIELD - tokenHourlyTotals\n",
      "FIELD - tokenTradingEvents\n",
      "FIELD - pairs\n",
      "FIELD - pairDailies\n",
      "FIELD - pairHourlies\n"
     ]
    }
   ],
   "source": [
    "# Use runStreamerLoop() to query ALL query fields. Returns a list[DataFrame]\n",
    "df_data_list = ds.runStreamerLoop(query_size=10)"
   ]
  },
  {
   "cell_type": "code",
   "execution_count": null,
   "metadata": {},
   "outputs": [],
   "source": [
    "df_data_list_parallel = ds.runStreamerLoopParallel(query_list=ds.queryFields, query_size=10)"
   ]
  }
 ],
 "metadata": {
  "kernelspec": {
   "display_name": "Python 3",
   "language": "python",
   "name": "python3"
  },
  "language_info": {
   "codemirror_mode": {
    "name": "ipython",
    "version": 3
   },
   "file_extension": ".py",
   "mimetype": "text/x-python",
   "name": "python",
   "nbconvert_exporter": "python",
   "pygments_lexer": "ipython3",
   "version": "3.10.6"
  },
  "orig_nbformat": 4,
  "vscode": {
   "interpreter": {
    "hash": "916dbcbb3f70747c44a77c7bcd40155683ae19c65e1c03b4aa3499c5328201f1"
   }
  }
 },
 "nbformat": 4,
 "nbformat_minor": 2
}

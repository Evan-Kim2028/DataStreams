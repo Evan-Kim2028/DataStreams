{
 "cells": [
  {
   "cell_type": "code",
   "execution_count": 4,
   "metadata": {},
   "outputs": [
    {
     "ename": "ModuleNotFoundError",
     "evalue": "No module named 'datastreams'",
     "output_type": "error",
     "traceback": [
      "\u001b[0;31m---------------------------------------------------------------------------\u001b[0m",
      "\u001b[0;31mModuleNotFoundError\u001b[0m                       Traceback (most recent call last)",
      "\u001b[1;32m/home/evan/Documents/github/DataStreams/examples/firehose_example.ipynb Cell 1\u001b[0m in \u001b[0;36m<cell line: 4>\u001b[0;34m()\u001b[0m\n\u001b[1;32m      <a href='vscode-notebook-cell:/home/evan/Documents/github/DataStreams/examples/firehose_example.ipynb#W0sZmlsZQ%3D%3D?line=0'>1</a>\u001b[0m \u001b[39mimport\u001b[39;00m \u001b[39mos\u001b[39;00m\n\u001b[1;32m      <a href='vscode-notebook-cell:/home/evan/Documents/github/DataStreams/examples/firehose_example.ipynb#W0sZmlsZQ%3D%3D?line=1'>2</a>\u001b[0m \u001b[39mimport\u001b[39;00m \u001b[39mpandas\u001b[39;00m \u001b[39mas\u001b[39;00m \u001b[39mpd\u001b[39;00m\n\u001b[0;32m----> <a href='vscode-notebook-cell:/home/evan/Documents/github/DataStreams/examples/firehose_example.ipynb#W0sZmlsZQ%3D%3D?line=3'>4</a>\u001b[0m \u001b[39mfrom\u001b[39;00m \u001b[39mdatastreams\u001b[39;00m\u001b[39m.\u001b[39;00m\u001b[39mdatastream\u001b[39;00m \u001b[39mimport\u001b[39;00m DataStream\n",
      "\u001b[0;31mModuleNotFoundError\u001b[0m: No module named 'datastreams'"
     ]
    }
   ],
   "source": [
    "import os\n",
    "import pandas as pd\n",
    "\n",
    "from datastreams.datastream import DataStream"
   ]
  },
  {
   "cell_type": "code",
   "execution_count": 3,
   "metadata": {},
   "outputs": [],
   "source": [
    "pd.set_option('display.max_columns', None)\n",
    "pd.set_option('display.expand_frame_repr', False)\n",
    "pd.set_option('max_colwidth', None)"
   ]
  },
  {
   "cell_type": "code",
   "execution_count": 1,
   "metadata": {},
   "outputs": [
    {
     "ename": "NameError",
     "evalue": "name 'DataStream' is not defined",
     "output_type": "error",
     "traceback": [
      "\u001b[0;31m---------------------------------------------------------------------------\u001b[0m",
      "\u001b[0;31mNameError\u001b[0m                                 Traceback (most recent call last)",
      "\u001b[1;32m/home/evan/Documents/github/DataStreams/examples/firehose_example.ipynb Cell 3\u001b[0m in \u001b[0;36m<cell line: 1>\u001b[0;34m()\u001b[0m\n\u001b[0;32m----> <a href='vscode-notebook-cell:/home/evan/Documents/github/DataStreams/examples/firehose_example.ipynb#W2sZmlsZQ%3D%3D?line=0'>1</a>\u001b[0m ds \u001b[39m=\u001b[39m DataStream()\n",
      "\u001b[0;31mNameError\u001b[0m: name 'DataStream' is not defined"
     ]
    }
   ],
   "source": [
    "ds = DataStream()"
   ]
  },
  {
   "cell_type": "code",
   "execution_count": null,
   "metadata": {},
   "outputs": [],
   "source": [
    "hosted_query_ids = [\n",
    "                    'https://api.thegraph.com/subgraphs/name/messari/uniswap-v3-arbitrum',\n",
    "                    'https://api.thegraph.com/subgraphs/name/messari/uniswap-v3-optimism',\n",
    "                    'https://api.thegraph.com/subgraphs/name/messari/abracadabra-money-arbitrum',\n",
    "                    'https://api.thegraph.com/subgraphs/name/messari/abracadabra-money-avalanche',\n",
    "                    'https://api.thegraph.com/subgraphs/name/messari/abracadabra-money-bsc',\n",
    "                    'https://api.thegraph.com/subgraphs/name/messari/abracadabra-money-fantom',\n",
    "                    'https://api.thegraph.com/subgraphs/name/messari/abracadabra-money-ethereum',\n",
    "                    'https://api.thegraph.com/subgraphs/name/messari/aave-arc-ethereum',\n",
    "                    'https://api.thegraph.com/subgraphs/name/messari/aave-amm-ethereum',\n",
    "                    'https://api.thegraph.com/subgraphs/name/messari/aave-rwa-ethereum',\n",
    "                    'https://api.thegraph.com/subgraphs/name/messari/aave-v2-avalanche',\n",
    "                    'https://api.thegraph.com/subgraphs/name/messari/aave-v2-ethereum',\n",
    "                    'https://api.thegraph.com/subgraphs/name/messari/arrakis-finance-ethereum',\n",
    "                    'https://api.thegraph.com/subgraphs/name/messari/curve-finance-ethereum',\n",
    "                    'https://api.thegraph.com/subgraphs/name/messari/balancer-v2-arbitrum',\n",
    "                    'https://api.thegraph.com/subgraphs/name/messari/balancer-v2-polygon',\n",
    "                    'https://api.thegraph.com/subgraphs/name/messari/balancer-v2-ethereum',\n",
    "                    'https://api.thegraph.com/subgraphs/name/messari/sushiswap-arbitrum',\n",
    "                    'https://api.thegraph.com/subgraphs/name/messari/sushiswap-avalanche',\n",
    "                    'https://api.thegraph.com/subgraphs/name/messari/sushiswap-bsc',\n",
    "                    'https://api.thegraph.com/subgraphs/name/messari/sushiswap-celo',\n",
    "                    'https://api.thegraph.com/subgraphs/name/messari/sushiswap-fantom',\n",
    "                    'https://api.thegraph.com/subgraphs/name/messari/sushiswap-fuse',\n",
    "                    'https://api.thegraph.com/subgraphs/name/messari/sushiswap-ethereum',\n",
    "                    'https://api.thegraph.com/subgraphs/name/messari/sushiswap-harmony',\n",
    "                    'https://api.thegraph.com/subgraphs/name/messari/sushiswap-polygon',\n",
    "                    'https://api.thegraph.com/subgraphs/name/messari/sushiswap-moonbeam',\n",
    "                    'https://api.thegraph.com/subgraphs/name/messari/sushiswap-moonriver',\n",
    "                    'https://api.thegraph.com/subgraphs/name/messari/sushiswap-gnosis',\n",
    "                    'https://api.thegraph.com/subgraphs/name/messari/aave-governance',\n",
    "                    'https://api.thegraph.com/subgraphs/name/messari/compound-governance-v1',\n",
    "                    'https://api.thegraph.com/subgraphs/name/messari/code4rena-governance',\n",
    "                    'https://api.thegraph.com/subgraphs/name/messari/indexed-governance',\n",
    "                    'https://api.thegraph.com/subgraphs/name/messari/euler-governance',\n",
    "                    'https://api.thegraph.com/subgraphs/name/messari/inverse-finance-ethereum',\n",
    "                    'https://api.thegraph.com/subgraphs/name/messari/liquity-ethereum',\n",
    "                    'https://api.thegraph.com/subgraphs/name/messari/qidao-fantom',\n",
    "                    'https://api.thegraph.com/subgraphs/name/messari/qidao-polygon',\n",
    "                    'https://api.thegraph.com/subgraphs/name/messari/qidao-moonriver',\n",
    "                    'https://api.thegraph.com/subgraphs/name/messari/qidao-optimism',\n",
    "                    'https://api.thegraph.com/subgraphs/name/messari/qidao-gnosis',\n",
    "                    'https://api.thegraph.com/subgraphs/name/messari/opensea-v1-ethereum',\n",
    "                    'https://api.thegraph.com/subgraphs/name/messari/opensea-v2-ethereum',\n",
    "                    'https://api.thegraph.com/subgraphs/name/messari/opensea-seaport-ethereum',\n",
    "                    'https://api.thegraph.com/subgraphs/name/messari/tokemak-ethereum',\n",
    "                    'https://api.thegraph.com/subgraphs/name/messari/beefy-finance-arbitrum',\n",
    "                    'https://api.thegraph.com/subgraphs/name/messari/beefy-finance-avalanche',\n",
    "                    'https://api.thegraph.com/subgraphs/name/messari/beefy-finance-aurora',\n",
    "                    'https://api.thegraph.com/subgraphs/name/messari/beefy-finance-celo',\n",
    "                    'https://api.thegraph.com/subgraphs/name/messari/gamma-ethereum',\n",
    "                    'https://api.thegraph.com/subgraphs/name/messari/gamma-polygon',\n",
    "                    # non-messari subgraphs\n",
    "                    'https://api.thegraph.com/subgraphs/name/nissoh/gmx-arbitrum',\n",
    "                    'https://api.thegraph.com/subgraphs/name/premiafinance/premia',\n",
    "                    'https://api.thegraph.com/subgraphs/name/synthetixio-team/synthetix'\n",
    "                    ]"
   ]
  },
  {
   "cell_type": "code",
   "execution_count": null,
   "metadata": {},
   "outputs": [],
   "source": [
    "# test getDataStream() functionality in a loop\n",
    "for endpoint in hosted_query_ids:\n",
    "    ds.getDataStream(endpoint)"
   ]
  },
  {
   "cell_type": "code",
   "execution_count": null,
   "metadata": {},
   "outputs": [],
   "source": [
    "# get folder contents from synthetix folder in os\n",
    "uniswap_v3_arbitrum_folder = os.listdir('uniswap-v3-arbitrum')\n",
    "print(uniswap_v3_arbitrum_folder)"
   ]
  },
  {
   "cell_type": "code",
   "execution_count": null,
   "metadata": {},
   "outputs": [],
   "source": [
    "# display activeAccounts.csv as a pandas dataframe\n",
    "accountHolders = pd.read_csv('uniswap-v3-arbitrum/activeAccounts.csv')"
   ]
  }
 ],
 "metadata": {
  "kernelspec": {
   "display_name": "Python 3",
   "language": "python",
   "name": "python3"
  },
  "language_info": {
   "codemirror_mode": {
    "name": "ipython",
    "version": 3
   },
   "file_extension": ".py",
   "mimetype": "text/x-python",
   "name": "python",
   "nbconvert_exporter": "python",
   "pygments_lexer": "ipython3",
   "version": "3.10.6 (main, Nov 14 2022, 16:10:14) [GCC 11.3.0]"
  },
  "orig_nbformat": 4,
  "vscode": {
   "interpreter": {
    "hash": "916dbcbb3f70747c44a77c7bcd40155683ae19c65e1c03b4aa3499c5328201f1"
   }
  }
 },
 "nbformat": 4,
 "nbformat_minor": 2
}

{
 "cells": [
  {
   "cell_type": "code",
   "execution_count": 1,
   "metadata": {},
   "outputs": [
    {
     "name": "stdout",
     "output_type": "stream",
     "text": [
      "Defaulting to user installation because normal site-packages is not writeable\n",
      "Collecting git+https://github.com/Evan-Kim2028/DataStreams.git\n",
      "  Cloning https://github.com/Evan-Kim2028/DataStreams.git to /tmp/pip-req-build-zinfdoo8\n",
      "  Running command git clone --filter=blob:none --quiet https://github.com/Evan-Kim2028/DataStreams.git /tmp/pip-req-build-zinfdoo8\n",
      "  Resolved https://github.com/Evan-Kim2028/DataStreams.git to commit 2fc57d66fc97a499ffbaa9a10cb8ed98bc13b827\n",
      "  Installing build dependencies ... \u001b[?25ldone\n",
      "\u001b[?25h  Getting requirements to build wheel ... \u001b[?25ldone\n",
      "\u001b[?25h  Installing backend dependencies ... \u001b[?25ldone\n",
      "\u001b[?25h  Preparing metadata (pyproject.toml) ... \u001b[?25ldone\n",
      "\u001b[?25hRequirement already satisfied: subgrounds>=1.0.3 in /home/evan/.local/lib/python3.10/site-packages (from DataStreams==0.0.post1.dev19+g2fc57d6) (1.0.3)\n",
      "Requirement already satisfied: pandas>=1.5.0 in /home/evan/.local/lib/python3.10/site-packages (from DataStreams==0.0.post1.dev19+g2fc57d6) (1.5.0)\n",
      "Requirement already satisfied: python-dateutil>=2.8.1 in /home/evan/.local/lib/python3.10/site-packages (from pandas>=1.5.0->DataStreams==0.0.post1.dev19+g2fc57d6) (2.8.2)\n",
      "Requirement already satisfied: pytz>=2020.1 in /home/evan/.local/lib/python3.10/site-packages (from pandas>=1.5.0->DataStreams==0.0.post1.dev19+g2fc57d6) (2021.3)\n",
      "Requirement already satisfied: numpy>=1.21.0 in /home/evan/.local/lib/python3.10/site-packages (from pandas>=1.5.0->DataStreams==0.0.post1.dev19+g2fc57d6) (1.22.4)\n",
      "Requirement already satisfied: pydantic<2.0.0,>=1.10.2 in /home/evan/.local/lib/python3.10/site-packages (from subgrounds>=1.0.3->DataStreams==0.0.post1.dev19+g2fc57d6) (1.10.2)\n",
      "Requirement already satisfied: pipe<3.0,>=2.0 in /home/evan/.local/lib/python3.10/site-packages (from subgrounds>=1.0.3->DataStreams==0.0.post1.dev19+g2fc57d6) (2.0)\n",
      "Requirement already satisfied: requests<3.0.0,>=2.27.1 in /home/evan/.local/lib/python3.10/site-packages (from subgrounds>=1.0.3->DataStreams==0.0.post1.dev19+g2fc57d6) (2.28.1)\n",
      "Requirement already satisfied: pathlib<2.0.0,>=1.0.1 in /home/evan/.local/lib/python3.10/site-packages (from subgrounds>=1.0.3->DataStreams==0.0.post1.dev19+g2fc57d6) (1.0.1)\n",
      "Requirement already satisfied: typing-extensions>=4.1.0 in /home/evan/.local/lib/python3.10/site-packages (from pydantic<2.0.0,>=1.10.2->subgrounds>=1.0.3->DataStreams==0.0.post1.dev19+g2fc57d6) (4.4.0)\n",
      "Requirement already satisfied: six>=1.5 in /usr/local/lib/python3.10/dist-packages (from python-dateutil>=2.8.1->pandas>=1.5.0->DataStreams==0.0.post1.dev19+g2fc57d6) (1.16.0)\n",
      "Requirement already satisfied: certifi>=2017.4.17 in /usr/local/lib/python3.10/dist-packages (from requests<3.0.0,>=2.27.1->subgrounds>=1.0.3->DataStreams==0.0.post1.dev19+g2fc57d6) (2022.6.15)\n",
      "Requirement already satisfied: urllib3<1.27,>=1.21.1 in /usr/local/lib/python3.10/dist-packages (from requests<3.0.0,>=2.27.1->subgrounds>=1.0.3->DataStreams==0.0.post1.dev19+g2fc57d6) (1.26.9)\n",
      "Requirement already satisfied: charset-normalizer<3,>=2 in /usr/local/lib/python3.10/dist-packages (from requests<3.0.0,>=2.27.1->subgrounds>=1.0.3->DataStreams==0.0.post1.dev19+g2fc57d6) (2.1.0)\n",
      "Requirement already satisfied: idna<4,>=2.5 in /home/evan/.local/lib/python3.10/site-packages (from requests<3.0.0,>=2.27.1->subgrounds>=1.0.3->DataStreams==0.0.post1.dev19+g2fc57d6) (2.10)\n",
      "Note: you may need to restart the kernel to use updated packages.\n"
     ]
    }
   ],
   "source": [
    "# pip install git+https://github.com/Evan-Kim2028/DataStreams.git \n",
    "# probably need to periodically update based on the github pushes"
   ]
  },
  {
   "cell_type": "code",
   "execution_count": 1,
   "metadata": {},
   "outputs": [],
   "source": [
    "import os\n",
    "import pandas as pd\n",
    "\n",
    "from datastreams.datastream import DataStream"
   ]
  },
  {
   "cell_type": "code",
   "execution_count": 2,
   "metadata": {},
   "outputs": [],
   "source": [
    "pd.set_option('display.max_columns', None)\n",
    "pd.set_option('display.expand_frame_repr', False)\n",
    "pd.set_option('max_colwidth', None)"
   ]
  },
  {
   "cell_type": "code",
   "execution_count": 3,
   "metadata": {},
   "outputs": [],
   "source": [
    "ds = DataStream()"
   ]
  },
  {
   "cell_type": "code",
   "execution_count": 26,
   "metadata": {},
   "outputs": [],
   "source": [
    "# list of messari subgraph endpoint IDs\n",
    "hosted_query_ids = [\n",
    "                'https://api.thegraph.com/subgraphs/name/cowprotocol/cow',\n",
    "                'https://api.thegraph.com/subgraphs/name/cowprotocol/cow-gc',\n",
    "                # 'https://api.thegraph.com/subgraphs/name/messari/aave-v3-arbitrum', # throwing index error for messari subgraphs\n",
    "                # 'https://api.thegraph.com/subgraphs/name/messari/aave-v3-polygon'\n",
    "                # 'https://api.thegraph.com/subgraphs/name/messari/inverse-finance-ethereum'\n",
    "                    ]"
   ]
  },
  {
   "cell_type": "code",
   "execution_count": 27,
   "metadata": {},
   "outputs": [
    {
     "name": "stdout",
     "output_type": "stream",
     "text": [
      "https://api.thegraph.com/subgraphs/name/cowprotocol/cow\n",
      "cow query took  4.726 seconds. Running total: 263 schema dataframes and 1076 total rows retrieved.\n",
      "https://api.thegraph.com/subgraphs/name/cowprotocol/cow-gc\n",
      "cow-gc query took  4.718 seconds. Running total: 280 schema dataframes and 1142 total rows retrieved.\n"
     ]
    }
   ],
   "source": [
    "# test getDataStream() functionality in a loop\n",
    "for endpoint in hosted_query_ids:\n",
    "    print(f'{endpoint}')\n",
    "    ds.getDataStream(endpoint)\n"
   ]
  },
  {
   "cell_type": "code",
   "execution_count": 34,
   "metadata": {},
   "outputs": [
    {
     "name": "stdout",
     "output_type": "stream",
     "text": [
      "['tokenHourlyTotals.csv', 'uniswapTokens.csv', 'totals.csv', 'pairDailies.csv', 'tokenTradingEvents.csv', 'bundles.csv', 'tokenDailyTotals.csv', 'pairs.csv', 'settlements.csv', 'orders.csv', 'pairHourlies.csv', 'users.csv', 'uniswapPools.csv', 'tokens.csv', 'dailyTotals.csv', 'hourlyTotals.csv', 'trades.csv']\n"
     ]
    }
   ],
   "source": [
    "# get folder contents from synthetix folder in os\n",
    "cow_folder = os.listdir('cow')\n",
    "print(cow_folder)"
   ]
  },
  {
   "cell_type": "code",
   "execution_count": 38,
   "metadata": {},
   "outputs": [],
   "source": [
    "# display activeAccounts.csv as a pandas dataframe\n",
    "uniswapTokensdf = pd.read_csv('cow/uniswapTokens.csv')"
   ]
  },
  {
   "cell_type": "code",
   "execution_count": 39,
   "metadata": {},
   "outputs": [
    {
     "data": {
      "text/html": [
       "<div>\n",
       "<style scoped>\n",
       "    .dataframe tbody tr th:only-of-type {\n",
       "        vertical-align: middle;\n",
       "    }\n",
       "\n",
       "    .dataframe tbody tr th {\n",
       "        vertical-align: top;\n",
       "    }\n",
       "\n",
       "    .dataframe thead th {\n",
       "        text-align: right;\n",
       "    }\n",
       "</style>\n",
       "<table border=\"1\" class=\"dataframe\">\n",
       "  <thead>\n",
       "    <tr style=\"text-align: right;\">\n",
       "      <th></th>\n",
       "      <th>Unnamed: 0</th>\n",
       "      <th>id</th>\n",
       "      <th>address</th>\n",
       "      <th>name</th>\n",
       "      <th>symbol</th>\n",
       "      <th>decimals</th>\n",
       "      <th>priceEth</th>\n",
       "      <th>priceUsd</th>\n",
       "    </tr>\n",
       "  </thead>\n",
       "  <tbody>\n",
       "    <tr>\n",
       "      <th>0</th>\n",
       "      <td>0</td>\n",
       "      <td>0x00000000000045166c45af0fc6e4cf31d9e14b9a</td>\n",
       "      <td>0x00000000000045166c45af0fc6e4cf31d9e14b9a</td>\n",
       "      <td>TopBidder</td>\n",
       "      <td>BID</td>\n",
       "      <td>18</td>\n",
       "      <td>0.000000</td>\n",
       "      <td>0.0</td>\n",
       "    </tr>\n",
       "    <tr>\n",
       "      <th>1</th>\n",
       "      <td>1</td>\n",
       "      <td>0x0000000000004946c0e9f43f4dee607b0ef1fa1c</td>\n",
       "      <td>0x0000000000004946c0e9f43f4dee607b0ef1fa1c</td>\n",
       "      <td>Chi Gastoken by 1inch</td>\n",
       "      <td>CHI</td>\n",
       "      <td>0</td>\n",
       "      <td>0.000000</td>\n",
       "      <td>0.0</td>\n",
       "    </tr>\n",
       "    <tr>\n",
       "      <th>2</th>\n",
       "      <td>2</td>\n",
       "      <td>0x0000000000071566c1cf5db929f8e2e2f5d57da8</td>\n",
       "      <td>0x0000000000071566c1cf5db929f8e2e2f5d57da8</td>\n",
       "      <td>UOU</td>\n",
       "      <td>UOU</td>\n",
       "      <td>18</td>\n",
       "      <td>0.000000</td>\n",
       "      <td>0.0</td>\n",
       "    </tr>\n",
       "    <tr>\n",
       "      <th>3</th>\n",
       "      <td>3</td>\n",
       "      <td>0x0000000000085d4780b73119b644ae5ecd22b376</td>\n",
       "      <td>0x0000000000085d4780b73119b644ae5ecd22b376</td>\n",
       "      <td>TrueUSD</td>\n",
       "      <td>TUSD</td>\n",
       "      <td>18</td>\n",
       "      <td>0.000832</td>\n",
       "      <td>1.0</td>\n",
       "    </tr>\n",
       "    <tr>\n",
       "      <th>4</th>\n",
       "      <td>4</td>\n",
       "      <td>0x0000000000095413afc295d19edeb1ad7b71c952</td>\n",
       "      <td>0x0000000000095413afc295d19edeb1ad7b71c952</td>\n",
       "      <td>Tokenlon</td>\n",
       "      <td>LON</td>\n",
       "      <td>18</td>\n",
       "      <td>0.000000</td>\n",
       "      <td>0.0</td>\n",
       "    </tr>\n",
       "  </tbody>\n",
       "</table>\n",
       "</div>"
      ],
      "text/plain": [
       "   Unnamed: 0                                          id                                     address                   name symbol  decimals  priceEth  priceUsd\n",
       "0           0  0x00000000000045166c45af0fc6e4cf31d9e14b9a  0x00000000000045166c45af0fc6e4cf31d9e14b9a              TopBidder    BID        18  0.000000       0.0\n",
       "1           1  0x0000000000004946c0e9f43f4dee607b0ef1fa1c  0x0000000000004946c0e9f43f4dee607b0ef1fa1c  Chi Gastoken by 1inch    CHI         0  0.000000       0.0\n",
       "2           2  0x0000000000071566c1cf5db929f8e2e2f5d57da8  0x0000000000071566c1cf5db929f8e2e2f5d57da8                    UOU    UOU        18  0.000000       0.0\n",
       "3           3  0x0000000000085d4780b73119b644ae5ecd22b376  0x0000000000085d4780b73119b644ae5ecd22b376                TrueUSD   TUSD        18  0.000832       1.0\n",
       "4           4  0x0000000000095413afc295d19edeb1ad7b71c952  0x0000000000095413afc295d19edeb1ad7b71c952               Tokenlon    LON        18  0.000000       0.0"
      ]
     },
     "execution_count": 39,
     "metadata": {},
     "output_type": "execute_result"
    }
   ],
   "source": [
    "uniswapTokensdf"
   ]
  },
  {
   "cell_type": "code",
   "execution_count": null,
   "metadata": {},
   "outputs": [],
   "source": []
  }
 ],
 "metadata": {
  "kernelspec": {
   "display_name": "Python 3",
   "language": "python",
   "name": "python3"
  },
  "language_info": {
   "codemirror_mode": {
    "name": "ipython",
    "version": 3
   },
   "file_extension": ".py",
   "mimetype": "text/x-python",
   "name": "python",
   "nbconvert_exporter": "python",
   "pygments_lexer": "ipython3",
   "version": "3.10.6"
  },
  "orig_nbformat": 4,
  "vscode": {
   "interpreter": {
    "hash": "916dbcbb3f70747c44a77c7bcd40155683ae19c65e1c03b4aa3499c5328201f1"
   }
  }
 },
 "nbformat": 4,
 "nbformat_minor": 2
}

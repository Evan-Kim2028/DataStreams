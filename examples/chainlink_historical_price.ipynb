{
 "cells": [
  {
   "cell_type": "code",
   "execution_count": 1,
   "metadata": {},
   "outputs": [
    {
     "name": "stdout",
     "output_type": "stream",
     "text": [
      "/home/evan/Documents/github/DataStreams\n"
     ]
    }
   ],
   "source": [
    "cd .."
   ]
  },
  {
   "cell_type": "code",
   "execution_count": 2,
   "metadata": {},
   "outputs": [],
   "source": [
    "from datastreams.datastream import Streamer\n",
    "\n",
    "import matplotlib.pyplot as plt\n",
    "import pandas as pd"
   ]
  },
  {
   "cell_type": "code",
   "execution_count": 3,
   "metadata": {},
   "outputs": [],
   "source": [
    "pd.set_option('display.max_columns', None)\n",
    "pd.set_option('display.expand_frame_repr', False)\n",
    "pd.set_option('max_colwidth', None)"
   ]
  },
  {
   "cell_type": "code",
   "execution_count": 4,
   "metadata": {},
   "outputs": [],
   "source": [
    "endpoint = 'https://api.thegraph.com/subgraphs/name/openpredict/chainlink-prices-subgraph'"
   ]
  },
  {
   "cell_type": "code",
   "execution_count": 5,
   "metadata": {},
   "outputs": [],
   "source": [
    "ds = Streamer(endpoint)"
   ]
  },
  {
   "cell_type": "code",
   "execution_count": 6,
   "metadata": {},
   "outputs": [
    {
     "data": {
      "text/plain": [
       "[FieldPath(https://api.thegraph.com/subgraphs/name/openpredict/chainlink-prices-subgraph, Query, ['prices']),\n",
       " FieldPath(https://api.thegraph.com/subgraphs/name/openpredict/chainlink-prices-subgraph, Query, ['assetPairs'])]"
      ]
     },
     "execution_count": 6,
     "metadata": {},
     "output_type": "execute_result"
    }
   ],
   "source": [
    "ds.queryFields"
   ]
  },
  {
   "cell_type": "code",
   "execution_count": 7,
   "metadata": {},
   "outputs": [],
   "source": [
    "eth_where = {'timestamp_lt': 1663907363, 'assetPair': \"ETH/USD\"}\n",
    "# btc_where = {'timestamp_lt': 1663907363, 'assetPair': \"BTC/USD\"}"
   ]
  },
  {
   "cell_type": "code",
   "execution_count": 8,
   "metadata": {},
   "outputs": [
    {
     "name": "stdout",
     "output_type": "stream",
     "text": [
      "FIELD - prices\n",
      "Search query for these params!: {'timestamp_lt': 1663907363, 'assetPair': 'ETH/USD'}\n"
     ]
    }
   ],
   "source": [
    "df = ds.runQuery(ds.queryFields[0], where=eth_where, query_size=1000)"
   ]
  },
  {
   "cell_type": "code",
   "execution_count": 18,
   "metadata": {},
   "outputs": [
    {
     "data": {
      "text/html": [
       "<div>\n",
       "<style scoped>\n",
       "    .dataframe tbody tr th:only-of-type {\n",
       "        vertical-align: middle;\n",
       "    }\n",
       "\n",
       "    .dataframe tbody tr th {\n",
       "        vertical-align: top;\n",
       "    }\n",
       "\n",
       "    .dataframe thead th {\n",
       "        text-align: right;\n",
       "    }\n",
       "</style>\n",
       "<table border=\"1\" class=\"dataframe\">\n",
       "  <thead>\n",
       "    <tr style=\"text-align: right;\">\n",
       "      <th></th>\n",
       "      <th>prices_id</th>\n",
       "      <th>prices_assetPair_id</th>\n",
       "      <th>prices_timestamp</th>\n",
       "      <th>prices_price</th>\n",
       "    </tr>\n",
       "  </thead>\n",
       "  <tbody>\n",
       "    <tr>\n",
       "      <th>0</th>\n",
       "      <td>ETH/USD/0x5f2c8f68</td>\n",
       "      <td>ETH/USD</td>\n",
       "      <td>2020-08-06 23:16:56</td>\n",
       "      <td>39178992539</td>\n",
       "    </tr>\n",
       "    <tr>\n",
       "      <th>1</th>\n",
       "      <td>ETH/USD/0x5f2c917d</td>\n",
       "      <td>ETH/USD</td>\n",
       "      <td>2020-08-06 23:25:49</td>\n",
       "      <td>39343000000</td>\n",
       "    </tr>\n",
       "    <tr>\n",
       "      <th>2</th>\n",
       "      <td>ETH/USD/0x5f2c919b</td>\n",
       "      <td>ETH/USD</td>\n",
       "      <td>2020-08-06 23:26:19</td>\n",
       "      <td>39337482558</td>\n",
       "    </tr>\n",
       "    <tr>\n",
       "      <th>3</th>\n",
       "      <td>ETH/USD/0x5f2c9d07</td>\n",
       "      <td>ETH/USD</td>\n",
       "      <td>2020-08-07 00:15:03</td>\n",
       "      <td>39537247267</td>\n",
       "    </tr>\n",
       "    <tr>\n",
       "      <th>4</th>\n",
       "      <td>ETH/USD/0x5f2c9d15</td>\n",
       "      <td>ETH/USD</td>\n",
       "      <td>2020-08-07 00:15:17</td>\n",
       "      <td>39451623633</td>\n",
       "    </tr>\n",
       "    <tr>\n",
       "      <th>...</th>\n",
       "      <td>...</td>\n",
       "      <td>...</td>\n",
       "      <td>...</td>\n",
       "      <td>...</td>\n",
       "    </tr>\n",
       "    <tr>\n",
       "      <th>995</th>\n",
       "      <td>ETH/USD/0x5f7c7908</td>\n",
       "      <td>ETH/USD</td>\n",
       "      <td>2020-10-06 14:02:48</td>\n",
       "      <td>34515000000</td>\n",
       "    </tr>\n",
       "    <tr>\n",
       "      <th>996</th>\n",
       "      <td>ETH/USD/0x5f7c7af1</td>\n",
       "      <td>ETH/USD</td>\n",
       "      <td>2020-10-06 14:10:57</td>\n",
       "      <td>34619450792</td>\n",
       "    </tr>\n",
       "    <tr>\n",
       "      <th>997</th>\n",
       "      <td>ETH/USD/0x5f7c82a4</td>\n",
       "      <td>ETH/USD</td>\n",
       "      <td>2020-10-06 14:43:48</td>\n",
       "      <td>34530000000</td>\n",
       "    </tr>\n",
       "    <tr>\n",
       "      <th>998</th>\n",
       "      <td>ETH/USD/0x5f7c870a</td>\n",
       "      <td>ETH/USD</td>\n",
       "      <td>2020-10-06 15:02:34</td>\n",
       "      <td>34295000000</td>\n",
       "    </tr>\n",
       "    <tr>\n",
       "      <th>999</th>\n",
       "      <td>ETH/USD/0x5f7c870d</td>\n",
       "      <td>ETH/USD</td>\n",
       "      <td>2020-10-06 15:02:37</td>\n",
       "      <td>34295000000</td>\n",
       "    </tr>\n",
       "  </tbody>\n",
       "</table>\n",
       "<p>1000 rows × 4 columns</p>\n",
       "</div>"
      ],
      "text/plain": [
       "              prices_id prices_assetPair_id    prices_timestamp  prices_price\n",
       "0    ETH/USD/0x5f2c8f68             ETH/USD 2020-08-06 23:16:56   39178992539\n",
       "1    ETH/USD/0x5f2c917d             ETH/USD 2020-08-06 23:25:49   39343000000\n",
       "2    ETH/USD/0x5f2c919b             ETH/USD 2020-08-06 23:26:19   39337482558\n",
       "3    ETH/USD/0x5f2c9d07             ETH/USD 2020-08-07 00:15:03   39537247267\n",
       "4    ETH/USD/0x5f2c9d15             ETH/USD 2020-08-07 00:15:17   39451623633\n",
       "..                  ...                 ...                 ...           ...\n",
       "995  ETH/USD/0x5f7c7908             ETH/USD 2020-10-06 14:02:48   34515000000\n",
       "996  ETH/USD/0x5f7c7af1             ETH/USD 2020-10-06 14:10:57   34619450792\n",
       "997  ETH/USD/0x5f7c82a4             ETH/USD 2020-10-06 14:43:48   34530000000\n",
       "998  ETH/USD/0x5f7c870a             ETH/USD 2020-10-06 15:02:34   34295000000\n",
       "999  ETH/USD/0x5f7c870d             ETH/USD 2020-10-06 15:02:37   34295000000\n",
       "\n",
       "[1000 rows x 4 columns]"
      ]
     },
     "execution_count": 18,
     "metadata": {},
     "output_type": "execute_result"
    }
   ],
   "source": [
    "df"
   ]
  }
 ],
 "metadata": {
  "kernelspec": {
   "display_name": "ds",
   "language": "python",
   "name": "python3"
  },
  "language_info": {
   "codemirror_mode": {
    "name": "ipython",
    "version": 3
   },
   "file_extension": ".py",
   "mimetype": "text/x-python",
   "name": "python",
   "nbconvert_exporter": "python",
   "pygments_lexer": "ipython3",
   "version": "3.10.6"
  },
  "orig_nbformat": 4,
  "vscode": {
   "interpreter": {
    "hash": "6e4771a491a32973a3d91a7498ed105fbed006d0c3342348d97c77c956876e4a"
   }
  }
 },
 "nbformat": 4,
 "nbformat_minor": 2
}

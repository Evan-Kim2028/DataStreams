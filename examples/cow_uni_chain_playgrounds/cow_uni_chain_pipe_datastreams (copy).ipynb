{
 "cells": [
  {
   "attachments": {},
   "cell_type": "markdown",
   "metadata": {},
   "source": [
    "# Cow + Univ3 DataPipeline"
   ]
  },
  {
   "cell_type": "code",
   "execution_count": null,
   "metadata": {},
   "outputs": [
    {
     "ename": "",
     "evalue": "",
     "output_type": "error",
     "traceback": [
      "\u001b[1;31mFailed to start the Kernel. \n",
      "\u001b[1;31mFailed to start Jupyter Server as the packages 'jupyter' and 'notebook' could not be located in the Python environment '/bin/python'. \n",
      "\u001b[1;31mView Jupyter <a href='command:jupyter.viewOutput'>log</a> for further details."
     ]
    }
   ],
   "source": [
    "from datastreams.datastream import Streamer\n",
    "import polars as pl"
   ]
  },
  {
   "attachments": {},
   "cell_type": "markdown",
   "metadata": {},
   "source": [
    "### Cowswap Trades"
   ]
  },
  {
   "cell_type": "code",
   "execution_count": 81,
   "metadata": {},
   "outputs": [],
   "source": [
    "# instantiate Streamer\n",
    "cow_ds = Streamer('https://api.thegraph.com/subgraphs/name/cowprotocol/cow')"
   ]
  },
  {
   "cell_type": "code",
   "execution_count": 82,
   "metadata": {},
   "outputs": [
    {
     "data": {
      "text/plain": [
       "['users',\n",
       " 'tokens',\n",
       " 'orders',\n",
       " 'trades',\n",
       " 'settlements',\n",
       " 'bundles',\n",
       " 'uniswapPools',\n",
       " 'uniswapTokens',\n",
       " 'totals',\n",
       " 'dailyTotals',\n",
       " 'hourlyTotals',\n",
       " 'tokenDailyTotals',\n",
       " 'tokenHourlyTotals',\n",
       " 'tokenTradingEvents',\n",
       " 'pairs',\n",
       " 'pairDailies',\n",
       " 'pairHourlies']"
      ]
     },
     "execution_count": 82,
     "metadata": {},
     "output_type": "execute_result"
    }
   ],
   "source": [
    "# inspect all queryable field paths\n",
    "list(cow_ds.queryDict.keys())"
   ]
  },
  {
   "cell_type": "code",
   "execution_count": 83,
   "metadata": {},
   "outputs": [],
   "source": [
    "# define a timestamp variable\n",
    "timestamp = 1677891498 # current block timestamp is around 1677891498 on March 3rd, 2023 8:06PM\n",
    "\n",
    "# we set a fixed query size number\n",
    "query_size = 25000\n",
    "\n",
    "#Filter size - We filter trades out that are smaller than $1000 USD size\n",
    "filter_usd = 1000\n",
    "\n",
    "token_addr_list = [\n",
    "    \"0xc02aaa39b223fe8d0a0e5c4f27ead9083c756cc2\",   # weth\n",
    "    \"0xa0b86991c6218b36c1d19d4a2e9eb0ce3606eb48\"    # usdc\n",
    "    ]"
   ]
  },
  {
   "cell_type": "code",
   "execution_count": 84,
   "metadata": {},
   "outputs": [
    {
     "name": "stdout",
     "output_type": "stream",
     "text": [
      "FIELD - trades\n"
     ]
    }
   ],
   "source": [
    "# We need to make two queries to the cow schema to get all the trades that match weth/usdc and usdc/weth.\n",
    "trades_fp = cow_ds.queryDict.get('trades')\n",
    "\n",
    "# define a query path to query for trades between two tokens specified by a list of token addresses, in both directions, and filters by timestamp and buy/sell amounts.\n",
    "trades_qp = trades_fp(\n",
    "    first=query_size,\n",
    "    orderBy='timestamp',\n",
    "    orderDirection='desc',\n",
    "    where = {\n",
    "    'timestamp_lt': timestamp, \n",
    "    'buyAmountUsd_gt': filter_usd, \n",
    "    'sellAmountUsd_gt': filter_usd, \n",
    "    \"sellToken_in\": token_addr_list, \n",
    "    \"buyToken_in\": token_addr_list\n",
    "    }\n",
    ")\n",
    "\n",
    "# run queries\n",
    "trades_df = cow_ds.runQuery(trades_qp)"
   ]
  },
  {
   "cell_type": "code",
   "execution_count": 85,
   "metadata": {},
   "outputs": [
    {
     "data": {
      "text/plain": [
       "trades_id                object\n",
       "trades_timestamp          int64\n",
       "trades_gasPrice           int64\n",
       "trades_feeAmount          int64\n",
       "trades_txHash            object\n",
       "trades_settlement_id     object\n",
       "trades_buyAmount         object\n",
       "trades_sellAmount        object\n",
       "trades_sellToken_id      object\n",
       "trades_buyToken_id       object\n",
       "trades_order_id          object\n",
       "trades_buyAmountEth     float64\n",
       "trades_sellAmountEth    float64\n",
       "trades_buyAmountUsd     float64\n",
       "trades_sellAmountUsd    float64\n",
       "endpoint                 object\n",
       "dtype: object"
      ]
     },
     "execution_count": 85,
     "metadata": {},
     "output_type": "execute_result"
    }
   ],
   "source": [
    "trades_df.dtypes"
   ]
  },
  {
   "cell_type": "code",
   "execution_count": 86,
   "metadata": {},
   "outputs": [],
   "source": [
    "# NOTE - Polars gives some errors with pandas big ints and we get overflow errors. Converting to float64 solves this problem.\n",
    "# Converting to float64 solves the problem but we lose some precision.\n",
    "\n",
    "trades_df['trades_gasPrice'] = trades_df['trades_gasPrice'].astype('float64')\n",
    "trades_df['trades_feeAmount'] = trades_df['trades_feeAmount'].astype('float64')\n",
    "trades_df['trades_buyAmount'] = trades_df['trades_buyAmount'].astype('float64')\n",
    "trades_df['trades_sellAmount'] = trades_df['trades_sellAmount'].astype('float64')"
   ]
  },
  {
   "cell_type": "code",
   "execution_count": 87,
   "metadata": {},
   "outputs": [],
   "source": [
    "# convert to polars dataframes\n",
    "trades_pl = pl.from_pandas(trades_df)"
   ]
  },
  {
   "cell_type": "code",
   "execution_count": 88,
   "metadata": {},
   "outputs": [
    {
     "name": "stdout",
     "output_type": "stream",
     "text": [
      "query returned 21848 rows\n"
     ]
    }
   ],
   "source": [
    "print(f'query returned {len(trades_pl)} rows')"
   ]
  },
  {
   "attachments": {},
   "cell_type": "markdown",
   "metadata": {},
   "source": [
    "### Cowswap Trades-Settlement Merge"
   ]
  },
  {
   "cell_type": "code",
   "execution_count": 89,
   "metadata": {},
   "outputs": [],
   "source": [
    "# get unique trades_settlement_id list\n",
    "trades_settlement_id_list = trades_pl['trades_settlement_id'].unique().to_list()"
   ]
  },
  {
   "cell_type": "code",
   "execution_count": 90,
   "metadata": {},
   "outputs": [],
   "source": [
    "# get field path\n",
    "settlements_fp = cow_ds.queryDict.get('settlements')"
   ]
  },
  {
   "cell_type": "code",
   "execution_count": 91,
   "metadata": {},
   "outputs": [
    {
     "data": {
      "text/plain": [
       "20628"
      ]
     },
     "execution_count": 91,
     "metadata": {},
     "output_type": "execute_result"
    }
   ],
   "source": [
    "query_index = len(trades_settlement_id_list)\n",
    "query_index"
   ]
  },
  {
   "cell_type": "code",
   "execution_count": 92,
   "metadata": {},
   "outputs": [],
   "source": [
    "# get index of every 999th value in query_index. Needs to be less than 999 otherwise we get a 413 Request Entity Too Large error. \n",
    "# Note that this doesn't happen with the Univ3 subgraph query below, it appears to be subgraph specific. I will leave this as an open conjecture.\n",
    "query_index_list = [i for i in range(0, query_index, 999)]"
   ]
  },
  {
   "cell_type": "code",
   "execution_count": 93,
   "metadata": {},
   "outputs": [],
   "source": [
    "# append the last value in the index list to the query_index_list\n",
    "query_index_list.append(query_index)"
   ]
  },
  {
   "cell_type": "code",
   "execution_count": 94,
   "metadata": {},
   "outputs": [],
   "source": [
    "data = []"
   ]
  },
  {
   "cell_type": "code",
   "execution_count": 95,
   "metadata": {},
   "outputs": [
    {
     "name": "stdout",
     "output_type": "stream",
     "text": [
      "querying 0 to 999. Remaining: 19629, 95.16%\n",
      "FIELD - settlements\n",
      "querying 999 to 1998. Remaining: 18630, 90.31%\n",
      "FIELD - settlements\n",
      "querying 1998 to 2997. Remaining: 17631, 85.47%\n",
      "FIELD - settlements\n",
      "querying 2997 to 3996. Remaining: 16632, 80.63%\n",
      "FIELD - settlements\n",
      "querying 3996 to 4995. Remaining: 15633, 75.79%\n",
      "FIELD - settlements\n",
      "querying 4995 to 5994. Remaining: 14634, 70.94%\n",
      "FIELD - settlements\n",
      "querying 5994 to 6993. Remaining: 13635, 66.10%\n",
      "FIELD - settlements\n",
      "querying 6993 to 7992. Remaining: 12636, 61.26%\n",
      "FIELD - settlements\n",
      "querying 7992 to 8991. Remaining: 11637, 56.41%\n",
      "FIELD - settlements\n",
      "querying 8991 to 9990. Remaining: 10638, 51.57%\n",
      "FIELD - settlements\n",
      "querying 9990 to 10989. Remaining: 9639, 46.73%\n",
      "FIELD - settlements\n",
      "querying 10989 to 11988. Remaining: 8640, 41.88%\n",
      "FIELD - settlements\n",
      "querying 11988 to 12987. Remaining: 7641, 37.04%\n",
      "FIELD - settlements\n",
      "querying 12987 to 13986. Remaining: 6642, 32.20%\n",
      "FIELD - settlements\n",
      "querying 13986 to 14985. Remaining: 5643, 27.36%\n",
      "FIELD - settlements\n",
      "querying 14985 to 15984. Remaining: 4644, 22.51%\n",
      "FIELD - settlements\n",
      "querying 15984 to 16983. Remaining: 3645, 17.67%\n",
      "FIELD - settlements\n",
      "querying 16983 to 17982. Remaining: 2646, 12.83%\n",
      "FIELD - settlements\n",
      "querying 17982 to 18981. Remaining: 1647, 7.98%\n",
      "FIELD - settlements\n",
      "querying 18981 to 19980. Remaining: 648, 3.14%\n",
      "FIELD - settlements\n",
      "querying 19980 to 20628. Remaining: 0, 0.00%\n",
      "FIELD - settlements\n"
     ]
    }
   ],
   "source": [
    "for i in range(1, len(query_index_list)):\n",
    "    print(f'querying {query_index_list[i-1]} to {query_index_list[i]}. Remaining: {len(trades_settlement_id_list) - query_index_list[i]}, {((len(trades_settlement_id_list) - query_index_list[i]) / len(trades_settlement_id_list)) * 100:.2f}%')\n",
    "\n",
    "    # define a \"partition\", which is part of the larger trades_settlement_id_list\n",
    "    partition = trades_settlement_id_list[query_index_list[i-1]:query_index_list[i]]\n",
    "\n",
    "    # define query path with partition of unique settlement ids\n",
    "    qp = settlements_fp(\n",
    "        first = query_size,\n",
    "        where= {\"txHash_in\": partition},\n",
    "    )\n",
    "    \n",
    "    # run query\n",
    "    df = cow_ds.runQuery(qp)\n",
    "\n",
    "    # append df to data list\n",
    "    data.append(df)"
   ]
  },
  {
   "cell_type": "code",
   "execution_count": 96,
   "metadata": {},
   "outputs": [],
   "source": [
    "# convert dataframes from settlement_data_store to polars dataframes\n",
    "settlement_data_store_pl = [pl.from_pandas(df) for df in data]"
   ]
  },
  {
   "cell_type": "code",
   "execution_count": 97,
   "metadata": {},
   "outputs": [],
   "source": [
    "# convert list of pandas dataframes to polars dataframes\n",
    "settlements_pl = pl.concat(settlement_data_store_pl)"
   ]
  },
  {
   "cell_type": "code",
   "execution_count": 98,
   "metadata": {},
   "outputs": [],
   "source": [
    "# merge trades and settlement dataframes on the settlement transaction hash\n",
    "cow_complete_pl = trades_pl.join(other=settlements_pl, left_on='trades_settlement_id', right_on='settlements_txHash', how='inner')"
   ]
  },
  {
   "cell_type": "code",
   "execution_count": 99,
   "metadata": {},
   "outputs": [
    {
     "data": {
      "text/html": [
       "<div>\n",
       "<style>\n",
       ".pl-dataframe > thead > tr > th {\n",
       "  text-align: right;\n",
       "}\n",
       "</style>\n",
       "\n",
       "<table border=\"1\" class=\"dataframe pl-dataframe\">\n",
       "<small>shape: (10, 16)</small>\n",
       "<thead>\n",
       "<tr>\n",
       "<th>\n",
       "trades_id\n",
       "</th>\n",
       "<th>\n",
       "trades_timestamp\n",
       "</th>\n",
       "<th>\n",
       "trades_gasPrice\n",
       "</th>\n",
       "<th>\n",
       "trades_feeAmount\n",
       "</th>\n",
       "<th>\n",
       "trades_txHash\n",
       "</th>\n",
       "<th>\n",
       "trades_settlement_id\n",
       "</th>\n",
       "<th>\n",
       "trades_buyAmount\n",
       "</th>\n",
       "<th>\n",
       "trades_sellAmount\n",
       "</th>\n",
       "<th>\n",
       "trades_sellToken_id\n",
       "</th>\n",
       "<th>\n",
       "trades_buyToken_id\n",
       "</th>\n",
       "<th>\n",
       "trades_order_id\n",
       "</th>\n",
       "<th>\n",
       "trades_buyAmountEth\n",
       "</th>\n",
       "<th>\n",
       "trades_sellAmountEth\n",
       "</th>\n",
       "<th>\n",
       "trades_buyAmountUsd\n",
       "</th>\n",
       "<th>\n",
       "trades_sellAmountUsd\n",
       "</th>\n",
       "<th>\n",
       "endpoint\n",
       "</th>\n",
       "</tr>\n",
       "<tr>\n",
       "<td>\n",
       "str\n",
       "</td>\n",
       "<td>\n",
       "i64\n",
       "</td>\n",
       "<td>\n",
       "f64\n",
       "</td>\n",
       "<td>\n",
       "f64\n",
       "</td>\n",
       "<td>\n",
       "str\n",
       "</td>\n",
       "<td>\n",
       "str\n",
       "</td>\n",
       "<td>\n",
       "f64\n",
       "</td>\n",
       "<td>\n",
       "f64\n",
       "</td>\n",
       "<td>\n",
       "str\n",
       "</td>\n",
       "<td>\n",
       "str\n",
       "</td>\n",
       "<td>\n",
       "str\n",
       "</td>\n",
       "<td>\n",
       "f64\n",
       "</td>\n",
       "<td>\n",
       "f64\n",
       "</td>\n",
       "<td>\n",
       "f64\n",
       "</td>\n",
       "<td>\n",
       "f64\n",
       "</td>\n",
       "<td>\n",
       "str\n",
       "</td>\n",
       "</tr>\n",
       "</thead>\n",
       "<tbody>\n",
       "<tr>\n",
       "<td>\n",
       "&quot;0x48164abf321d...\n",
       "</td>\n",
       "<td>\n",
       "1677197603\n",
       "</td>\n",
       "<td>\n",
       "2.7773e10\n",
       "</td>\n",
       "<td>\n",
       "0.0\n",
       "</td>\n",
       "<td>\n",
       "&quot;0x00019b1104ef...\n",
       "</td>\n",
       "<td>\n",
       "&quot;0x00019b1104ef...\n",
       "</td>\n",
       "<td>\n",
       "9.0638e19\n",
       "</td>\n",
       "<td>\n",
       "1.5000e11\n",
       "</td>\n",
       "<td>\n",
       "&quot;0xa0b86991c621...\n",
       "</td>\n",
       "<td>\n",
       "&quot;0xc02aaa39b223...\n",
       "</td>\n",
       "<td>\n",
       "&quot;0x48164abf321d...\n",
       "</td>\n",
       "<td>\n",
       "90.637563\n",
       "</td>\n",
       "<td>\n",
       "90.914197\n",
       "</td>\n",
       "<td>\n",
       "149543.579352\n",
       "</td>\n",
       "<td>\n",
       "150000.0\n",
       "</td>\n",
       "<td>\n",
       "&quot;cow&quot;\n",
       "</td>\n",
       "</tr>\n",
       "<tr>\n",
       "<td>\n",
       "&quot;0xcc686467ca76...\n",
       "</td>\n",
       "<td>\n",
       "1649511944\n",
       "</td>\n",
       "<td>\n",
       "3.1075e10\n",
       "</td>\n",
       "<td>\n",
       "2.7778e15\n",
       "</td>\n",
       "<td>\n",
       "&quot;0x00030d1548bc...\n",
       "</td>\n",
       "<td>\n",
       "&quot;0x00030d1548bc...\n",
       "</td>\n",
       "<td>\n",
       "3.5693e9\n",
       "</td>\n",
       "<td>\n",
       "1.1100e18\n",
       "</td>\n",
       "<td>\n",
       "&quot;0xc02aaa39b223...\n",
       "</td>\n",
       "<td>\n",
       "&quot;0xa0b86991c621...\n",
       "</td>\n",
       "<td>\n",
       "&quot;0xcc686467ca76...\n",
       "</td>\n",
       "<td>\n",
       "1.106663\n",
       "</td>\n",
       "<td>\n",
       "1.11\n",
       "</td>\n",
       "<td>\n",
       "3569.341541\n",
       "</td>\n",
       "<td>\n",
       "3580.103516\n",
       "</td>\n",
       "<td>\n",
       "&quot;cow&quot;\n",
       "</td>\n",
       "</tr>\n",
       "<tr>\n",
       "<td>\n",
       "&quot;0x862f39a61405...\n",
       "</td>\n",
       "<td>\n",
       "1655912145\n",
       "</td>\n",
       "<td>\n",
       "4.0015e10\n",
       "</td>\n",
       "<td>\n",
       "5.6740e16\n",
       "</td>\n",
       "<td>\n",
       "&quot;0x0005c3b48d9a...\n",
       "</td>\n",
       "<td>\n",
       "&quot;0x0005c3b48d9a...\n",
       "</td>\n",
       "<td>\n",
       "2.7813e11\n",
       "</td>\n",
       "<td>\n",
       "2.5321e20\n",
       "</td>\n",
       "<td>\n",
       "&quot;0xc02aaa39b223...\n",
       "</td>\n",
       "<td>\n",
       "&quot;0xa0b86991c621...\n",
       "</td>\n",
       "<td>\n",
       "&quot;0x862f39a61405...\n",
       "</td>\n",
       "<td>\n",
       "252.892022\n",
       "</td>\n",
       "<td>\n",
       "253.207818\n",
       "</td>\n",
       "<td>\n",
       "278133.767374\n",
       "</td>\n",
       "<td>\n",
       "278481.083791\n",
       "</td>\n",
       "<td>\n",
       "&quot;cow&quot;\n",
       "</td>\n",
       "</tr>\n",
       "<tr>\n",
       "<td>\n",
       "&quot;0xbeaec83a1e16...\n",
       "</td>\n",
       "<td>\n",
       "1639800029\n",
       "</td>\n",
       "<td>\n",
       "7.9102e10\n",
       "</td>\n",
       "<td>\n",
       "1.0381e16\n",
       "</td>\n",
       "<td>\n",
       "&quot;0x000802bb157c...\n",
       "</td>\n",
       "<td>\n",
       "&quot;0x000802bb157c...\n",
       "</td>\n",
       "<td>\n",
       "3.4489e9\n",
       "</td>\n",
       "<td>\n",
       "9.0000e17\n",
       "</td>\n",
       "<td>\n",
       "&quot;0xc02aaa39b223...\n",
       "</td>\n",
       "<td>\n",
       "&quot;0xa0b86991c621...\n",
       "</td>\n",
       "<td>\n",
       "&quot;0xbeaec83a1e16...\n",
       "</td>\n",
       "<td>\n",
       "0.888747\n",
       "</td>\n",
       "<td>\n",
       "0.9\n",
       "</td>\n",
       "<td>\n",
       "3448.908738\n",
       "</td>\n",
       "<td>\n",
       "3492.577356\n",
       "</td>\n",
       "<td>\n",
       "&quot;cow&quot;\n",
       "</td>\n",
       "</tr>\n",
       "<tr>\n",
       "<td>\n",
       "&quot;0x2158084ae52e...\n",
       "</td>\n",
       "<td>\n",
       "1677509399\n",
       "</td>\n",
       "<td>\n",
       "2.3575e10\n",
       "</td>\n",
       "<td>\n",
       "3.0912e15\n",
       "</td>\n",
       "<td>\n",
       "&quot;0x0009d818aa53...\n",
       "</td>\n",
       "<td>\n",
       "&quot;0x0009d818aa53...\n",
       "</td>\n",
       "<td>\n",
       "1.2154e11\n",
       "</td>\n",
       "<td>\n",
       "7.3452e19\n",
       "</td>\n",
       "<td>\n",
       "&quot;0xc02aaa39b223...\n",
       "</td>\n",
       "<td>\n",
       "&quot;0xa0b86991c621...\n",
       "</td>\n",
       "<td>\n",
       "&quot;0x2158084ae52e...\n",
       "</td>\n",
       "<td>\n",
       "73.292774\n",
       "</td>\n",
       "<td>\n",
       "73.45208\n",
       "</td>\n",
       "<td>\n",
       "121536.232845\n",
       "</td>\n",
       "<td>\n",
       "121800.398218\n",
       "</td>\n",
       "<td>\n",
       "&quot;cow&quot;\n",
       "</td>\n",
       "</tr>\n",
       "<tr>\n",
       "<td>\n",
       "&quot;0x749a8f91bb97...\n",
       "</td>\n",
       "<td>\n",
       "1676973371\n",
       "</td>\n",
       "<td>\n",
       "2.7164e10\n",
       "</td>\n",
       "<td>\n",
       "4.3979e15\n",
       "</td>\n",
       "<td>\n",
       "&quot;0x000aecb19298...\n",
       "</td>\n",
       "<td>\n",
       "&quot;0x000aecb19298...\n",
       "</td>\n",
       "<td>\n",
       "4.0366e9\n",
       "</td>\n",
       "<td>\n",
       "2.4000e18\n",
       "</td>\n",
       "<td>\n",
       "&quot;0xc02aaa39b223...\n",
       "</td>\n",
       "<td>\n",
       "&quot;0xa0b86991c621...\n",
       "</td>\n",
       "<td>\n",
       "&quot;0x749a8f91bb97...\n",
       "</td>\n",
       "<td>\n",
       "2.400228\n",
       "</td>\n",
       "<td>\n",
       "2.4\n",
       "</td>\n",
       "<td>\n",
       "4036.592754\n",
       "</td>\n",
       "<td>\n",
       "4036.209219\n",
       "</td>\n",
       "<td>\n",
       "&quot;cow&quot;\n",
       "</td>\n",
       "</tr>\n",
       "<tr>\n",
       "<td>\n",
       "&quot;0x06c6c8738c24...\n",
       "</td>\n",
       "<td>\n",
       "1642578568\n",
       "</td>\n",
       "<td>\n",
       "8.2893e10\n",
       "</td>\n",
       "<td>\n",
       "5.5522e16\n",
       "</td>\n",
       "<td>\n",
       "&quot;0x00116fc14802...\n",
       "</td>\n",
       "<td>\n",
       "&quot;0x00116fc14802...\n",
       "</td>\n",
       "<td>\n",
       "7.3168e11\n",
       "</td>\n",
       "<td>\n",
       "2.4000e20\n",
       "</td>\n",
       "<td>\n",
       "&quot;0xc02aaa39b223...\n",
       "</td>\n",
       "<td>\n",
       "&quot;0xa0b86991c621...\n",
       "</td>\n",
       "<td>\n",
       "&quot;0x06c6c8738c24...\n",
       "</td>\n",
       "<td>\n",
       "239.222251\n",
       "</td>\n",
       "<td>\n",
       "240.0\n",
       "</td>\n",
       "<td>\n",
       "731683.061112\n",
       "</td>\n",
       "<td>\n",
       "734061.876897\n",
       "</td>\n",
       "<td>\n",
       "&quot;cow&quot;\n",
       "</td>\n",
       "</tr>\n",
       "<tr>\n",
       "<td>\n",
       "&quot;0x09bffb961643...\n",
       "</td>\n",
       "<td>\n",
       "1655311984\n",
       "</td>\n",
       "<td>\n",
       "8.5205e10\n",
       "</td>\n",
       "<td>\n",
       "2.1293e16\n",
       "</td>\n",
       "<td>\n",
       "&quot;0x0012c800956e...\n",
       "</td>\n",
       "<td>\n",
       "&quot;0x0012c800956e...\n",
       "</td>\n",
       "<td>\n",
       "4.4223e9\n",
       "</td>\n",
       "<td>\n",
       "4.1084e18\n",
       "</td>\n",
       "<td>\n",
       "&quot;0xc02aaa39b223...\n",
       "</td>\n",
       "<td>\n",
       "&quot;0xa0b86991c621...\n",
       "</td>\n",
       "<td>\n",
       "&quot;0x09bffb961643...\n",
       "</td>\n",
       "<td>\n",
       "4.09702\n",
       "</td>\n",
       "<td>\n",
       "4.108368\n",
       "</td>\n",
       "<td>\n",
       "4422.281461\n",
       "</td>\n",
       "<td>\n",
       "4434.529818\n",
       "</td>\n",
       "<td>\n",
       "&quot;cow&quot;\n",
       "</td>\n",
       "</tr>\n",
       "<tr>\n",
       "<td>\n",
       "&quot;0x081ad8ae645c...\n",
       "</td>\n",
       "<td>\n",
       "1660187275\n",
       "</td>\n",
       "<td>\n",
       "6.4022e10\n",
       "</td>\n",
       "<td>\n",
       "2.3267987e7\n",
       "</td>\n",
       "<td>\n",
       "&quot;0x0016ff2d2ceb...\n",
       "</td>\n",
       "<td>\n",
       "&quot;0x0016ff2d2ceb...\n",
       "</td>\n",
       "<td>\n",
       "1.0000e18\n",
       "</td>\n",
       "<td>\n",
       "1.9008e9\n",
       "</td>\n",
       "<td>\n",
       "&quot;0xa0b86991c621...\n",
       "</td>\n",
       "<td>\n",
       "&quot;0xc02aaa39b223...\n",
       "</td>\n",
       "<td>\n",
       "&quot;0x081ad8ae645c...\n",
       "</td>\n",
       "<td>\n",
       "1.0\n",
       "</td>\n",
       "<td>\n",
       "1.012483\n",
       "</td>\n",
       "<td>\n",
       "1877.329372\n",
       "</td>\n",
       "<td>\n",
       "1900.763729\n",
       "</td>\n",
       "<td>\n",
       "&quot;cow&quot;\n",
       "</td>\n",
       "</tr>\n",
       "<tr>\n",
       "<td>\n",
       "&quot;0x2cd19b08639f...\n",
       "</td>\n",
       "<td>\n",
       "1659387701\n",
       "</td>\n",
       "<td>\n",
       "1.5719e10\n",
       "</td>\n",
       "<td>\n",
       "8.6306e15\n",
       "</td>\n",
       "<td>\n",
       "&quot;0x001723f49308...\n",
       "</td>\n",
       "<td>\n",
       "&quot;0x001723f49308...\n",
       "</td>\n",
       "<td>\n",
       "1.6264e10\n",
       "</td>\n",
       "<td>\n",
       "1.0000e19\n",
       "</td>\n",
       "<td>\n",
       "&quot;0xc02aaa39b223...\n",
       "</td>\n",
       "<td>\n",
       "&quot;0xa0b86991c621...\n",
       "</td>\n",
       "<td>\n",
       "&quot;0x2cd19b08639f...\n",
       "</td>\n",
       "<td>\n",
       "10.015345\n",
       "</td>\n",
       "<td>\n",
       "10.0\n",
       "</td>\n",
       "<td>\n",
       "16263.982468\n",
       "</td>\n",
       "<td>\n",
       "16239.063126\n",
       "</td>\n",
       "<td>\n",
       "&quot;cow&quot;\n",
       "</td>\n",
       "</tr>\n",
       "</tbody>\n",
       "</table>\n",
       "</div>"
      ],
      "text/plain": [
       "shape: (10, 16)\n",
       "┌─────────┬────────────┬────────────┬────────────┬─────┬────────────┬────────────┬────────────┬──────────┐\n",
       "│ trades_ ┆ trades_tim ┆ trades_gas ┆ trades_fee ┆ ... ┆ trades_sel ┆ trades_buy ┆ trades_sel ┆ endpoint │\n",
       "│ id      ┆ estamp     ┆ Price      ┆ Amount     ┆     ┆ lAmountEth ┆ AmountUsd  ┆ lAmountUsd ┆ ---      │\n",
       "│ ---     ┆ ---        ┆ ---        ┆ ---        ┆     ┆ ---        ┆ ---        ┆ ---        ┆ str      │\n",
       "│ str     ┆ i64        ┆ f64        ┆ f64        ┆     ┆ f64        ┆ f64        ┆ f64        ┆          │\n",
       "╞═════════╪════════════╪════════════╪════════════╪═════╪════════════╪════════════╪════════════╪══════════╡\n",
       "│ 0x48164 ┆ 1677197603 ┆ 2.7773e10  ┆ 0.0        ┆ ... ┆ 90.914197  ┆ 149543.579 ┆ 150000.0   ┆ cow      │\n",
       "│ abf321d ┆            ┆            ┆            ┆     ┆            ┆ 352        ┆            ┆          │\n",
       "│ f55f79d ┆            ┆            ┆            ┆     ┆            ┆            ┆            ┆          │\n",
       "│ 5a56022 ┆            ┆            ┆            ┆     ┆            ┆            ┆            ┆          │\n",
       "│ 38e9... ┆            ┆            ┆            ┆     ┆            ┆            ┆            ┆          │\n",
       "│ 0xcc686 ┆ 1649511944 ┆ 3.1075e10  ┆ 2.7778e15  ┆ ... ┆ 1.11       ┆ 3569.34154 ┆ 3580.10351 ┆ cow      │\n",
       "│ 467ca76 ┆            ┆            ┆            ┆     ┆            ┆ 1          ┆ 6          ┆          │\n",
       "│ 2222341 ┆            ┆            ┆            ┆     ┆            ┆            ┆            ┆          │\n",
       "│ 519c243 ┆            ┆            ┆            ┆     ┆            ┆            ┆            ┆          │\n",
       "│ a88c... ┆            ┆            ┆            ┆     ┆            ┆            ┆            ┆          │\n",
       "│ 0x862f3 ┆ 1655912145 ┆ 4.0015e10  ┆ 5.6740e16  ┆ ... ┆ 253.207818 ┆ 278133.767 ┆ 278481.083 ┆ cow      │\n",
       "│ 9a61405 ┆            ┆            ┆            ┆     ┆            ┆ 374        ┆ 791        ┆          │\n",
       "│ 919d755 ┆            ┆            ┆            ┆     ┆            ┆            ┆            ┆          │\n",
       "│ a9dab4d ┆            ┆            ┆            ┆     ┆            ┆            ┆            ┆          │\n",
       "│ f1ed... ┆            ┆            ┆            ┆     ┆            ┆            ┆            ┆          │\n",
       "│ 0xbeaec ┆ 1639800029 ┆ 7.9102e10  ┆ 1.0381e16  ┆ ... ┆ 0.9        ┆ 3448.90873 ┆ 3492.57735 ┆ cow      │\n",
       "│ 83a1e16 ┆            ┆            ┆            ┆     ┆            ┆ 8          ┆ 6          ┆          │\n",
       "│ 6286937 ┆            ┆            ┆            ┆     ┆            ┆            ┆            ┆          │\n",
       "│ d791340 ┆            ┆            ┆            ┆     ┆            ┆            ┆            ┆          │\n",
       "│ dfff... ┆            ┆            ┆            ┆     ┆            ┆            ┆            ┆          │\n",
       "│ ...     ┆ ...        ┆ ...        ┆ ...        ┆ ... ┆ ...        ┆ ...        ┆ ...        ┆ ...      │\n",
       "│ 0x06c6c ┆ 1642578568 ┆ 8.2893e10  ┆ 5.5522e16  ┆ ... ┆ 240.0      ┆ 731683.061 ┆ 734061.876 ┆ cow      │\n",
       "│ 8738c24 ┆            ┆            ┆            ┆     ┆            ┆ 112        ┆ 897        ┆          │\n",
       "│ 0d04fe0 ┆            ┆            ┆            ┆     ┆            ┆            ┆            ┆          │\n",
       "│ 2f3502c ┆            ┆            ┆            ┆     ┆            ┆            ┆            ┆          │\n",
       "│ ff45... ┆            ┆            ┆            ┆     ┆            ┆            ┆            ┆          │\n",
       "│ 0x09bff ┆ 1655311984 ┆ 8.5205e10  ┆ 2.1293e16  ┆ ... ┆ 4.108368   ┆ 4422.28146 ┆ 4434.52981 ┆ cow      │\n",
       "│ b961643 ┆            ┆            ┆            ┆     ┆            ┆ 1          ┆ 8          ┆          │\n",
       "│ d9524a3 ┆            ┆            ┆            ┆     ┆            ┆            ┆            ┆          │\n",
       "│ 3a0329c ┆            ┆            ┆            ┆     ┆            ┆            ┆            ┆          │\n",
       "│ d5dd... ┆            ┆            ┆            ┆     ┆            ┆            ┆            ┆          │\n",
       "│ 0x081ad ┆ 1660187275 ┆ 6.4022e10  ┆ 2.3267987e ┆ ... ┆ 1.012483   ┆ 1877.32937 ┆ 1900.76372 ┆ cow      │\n",
       "│ 8ae645c ┆            ┆            ┆ 7          ┆     ┆            ┆ 2          ┆ 9          ┆          │\n",
       "│ 696c7a1 ┆            ┆            ┆            ┆     ┆            ┆            ┆            ┆          │\n",
       "│ 821b241 ┆            ┆            ┆            ┆     ┆            ┆            ┆            ┆          │\n",
       "│ 60da... ┆            ┆            ┆            ┆     ┆            ┆            ┆            ┆          │\n",
       "│ 0x2cd19 ┆ 1659387701 ┆ 1.5719e10  ┆ 8.6306e15  ┆ ... ┆ 10.0       ┆ 16263.9824 ┆ 16239.0631 ┆ cow      │\n",
       "│ b08639f ┆            ┆            ┆            ┆     ┆            ┆ 68         ┆ 26         ┆          │\n",
       "│ be91307 ┆            ┆            ┆            ┆     ┆            ┆            ┆            ┆          │\n",
       "│ e523dd1 ┆            ┆            ┆            ┆     ┆            ┆            ┆            ┆          │\n",
       "│ a84b... ┆            ┆            ┆            ┆     ┆            ┆            ┆            ┆          │\n",
       "└─────────┴────────────┴────────────┴────────────┴─────┴────────────┴────────────┴────────────┴──────────┘"
      ]
     },
     "execution_count": 99,
     "metadata": {},
     "output_type": "execute_result"
    }
   ],
   "source": [
    "# sort trades_pl by trades_settlement_id\n",
    "trades_pl.sort('trades_settlement_id').head(10)"
   ]
  },
  {
   "cell_type": "code",
   "execution_count": 100,
   "metadata": {},
   "outputs": [],
   "source": [
    "# drop endpoint columns in trades_pl and settlements_pl and cow_complete_pl\n",
    "trades_pl = trades_pl.drop(['endpoint'])\n",
    "settlements_pl = settlements_pl.drop(['endpoint'])\n",
    "cow_complete_pl = cow_complete_pl.drop(['endpoint'])"
   ]
  },
  {
   "cell_type": "code",
   "execution_count": 101,
   "metadata": {},
   "outputs": [
    {
     "name": "stdout",
     "output_type": "stream",
     "text": [
      "trades_pl shape: (21848, 15)\n",
      "settlements_pl shape: (20628, 4)\n",
      "cow_complete_pl shape: (21848, 19)\n"
     ]
    }
   ],
   "source": [
    "# print f the shapes of the dataframes\n",
    "print(f'trades_pl shape: {trades_pl.shape}')\n",
    "print(f'settlements_pl shape: {settlements_pl.shape}')\n",
    "print(f'cow_complete_pl shape: {cow_complete_pl.shape}')"
   ]
  },
  {
   "attachments": {},
   "cell_type": "markdown",
   "metadata": {},
   "source": [
    "### Uniswap V3 Swaps"
   ]
  },
  {
   "cell_type": "code",
   "execution_count": 102,
   "metadata": {},
   "outputs": [],
   "source": [
    "# instantiate Streamer object. \n",
    "univ3_ds = Streamer('https://api.thegraph.com/subgraphs/name/messari/uniswap-v3-ethereum')"
   ]
  },
  {
   "cell_type": "code",
   "execution_count": 103,
   "metadata": {},
   "outputs": [
    {
     "data": {
      "text/plain": [
       "['tokens',\n",
       " 'rewardTokens',\n",
       " 'liquidityPoolFees',\n",
       " 'dexAmmProtocols',\n",
       " 'usageMetricsDailySnapshots',\n",
       " 'usageMetricsHourlySnapshots',\n",
       " 'financialsDailySnapshots',\n",
       " 'liquidityPools',\n",
       " 'liquidityPoolDailySnapshots',\n",
       " 'liquidityPoolHourlySnapshots',\n",
       " 'ticks',\n",
       " 'tickDailySnapshots',\n",
       " 'tickHourlySnapshots',\n",
       " 'accounts',\n",
       " 'positions',\n",
       " 'positionSnapshots',\n",
       " 'deposits',\n",
       " 'withdraws',\n",
       " 'swaps',\n",
       " 'activeAccounts',\n",
       " 'liquidityPoolAmounts',\n",
       " 'helperStores',\n",
       " 'tokenWhitelists',\n",
       " 'protocols']"
      ]
     },
     "execution_count": 103,
     "metadata": {},
     "output_type": "execute_result"
    }
   ],
   "source": [
    "list(univ3_ds.queryDict.keys())"
   ]
  },
  {
   "cell_type": "code",
   "execution_count": 104,
   "metadata": {},
   "outputs": [],
   "source": [
    "# get a query field path from the query dictionary which is automatically populated in the Streamer object\n",
    "swaps_fp = univ3_ds.queryDict.get('swaps')"
   ]
  },
  {
   "cell_type": "code",
   "execution_count": 105,
   "metadata": {},
   "outputs": [],
   "source": [
    "weth_usdc_list = [\n",
    "    \"0x88e6a0c2ddd26feeb64f039a2c41296fcb3f5640\", # usdc/weth .05%\n",
    "    \"0x8ad599c3a0ff1de082011efddc58f1908eb6e6d8\" #usdc/weth .3%\n",
    "]\n",
    "\n",
    "# get timestamps list\n",
    "timestamps_list = cow_complete_pl['trades_timestamp'].to_list()\n",
    "\n",
    "# filter for unique values\n",
    "cow_timestamps = list(set(timestamps_list))"
   ]
  },
  {
   "cell_type": "code",
   "execution_count": 106,
   "metadata": {},
   "outputs": [],
   "source": [
    "swaps_query_index = len(cow_timestamps)"
   ]
  },
  {
   "cell_type": "code",
   "execution_count": 107,
   "metadata": {},
   "outputs": [],
   "source": [
    "cow_timestamp_query_list = [i for i in range(0, len(cow_timestamps), 999)]\n",
    "# append the last value in the index list to the query_index_list\n",
    "cow_timestamp_query_list.append(swaps_query_index)"
   ]
  },
  {
   "cell_type": "code",
   "execution_count": 108,
   "metadata": {},
   "outputs": [],
   "source": [
    "swaps_data = []"
   ]
  },
  {
   "cell_type": "code",
   "execution_count": 109,
   "metadata": {},
   "outputs": [
    {
     "name": "stdout",
     "output_type": "stream",
     "text": [
      "querying 0 to 999. Remaining: 19604, 95.15%\n",
      "FIELD - swaps\n",
      "querying 999 to 1998. Remaining: 18605, 90.30%\n",
      "FIELD - swaps\n",
      "querying 1998 to 2997. Remaining: 17606, 85.45%\n",
      "FIELD - swaps\n",
      "querying 2997 to 3996. Remaining: 16607, 80.60%\n",
      "FIELD - swaps\n",
      "querying 3996 to 4995. Remaining: 15608, 75.76%\n",
      "FIELD - swaps\n",
      "querying 4995 to 5994. Remaining: 14609, 70.91%\n",
      "FIELD - swaps\n",
      "querying 5994 to 6993. Remaining: 13610, 66.06%\n",
      "FIELD - swaps\n",
      "querying 6993 to 7992. Remaining: 12611, 61.21%\n",
      "FIELD - swaps\n",
      "querying 7992 to 8991. Remaining: 11612, 56.36%\n",
      "FIELD - swaps\n",
      "querying 8991 to 9990. Remaining: 10613, 51.51%\n",
      "FIELD - swaps\n",
      "querying 9990 to 10989. Remaining: 9614, 46.66%\n",
      "FIELD - swaps\n",
      "querying 10989 to 11988. Remaining: 8615, 41.81%\n",
      "FIELD - swaps\n",
      "querying 11988 to 12987. Remaining: 7616, 36.97%\n",
      "FIELD - swaps\n",
      "querying 12987 to 13986. Remaining: 6617, 32.12%\n",
      "FIELD - swaps\n",
      "querying 13986 to 14985. Remaining: 5618, 27.27%\n",
      "FIELD - swaps\n",
      "querying 14985 to 15984. Remaining: 4619, 22.42%\n",
      "FIELD - swaps\n",
      "querying 15984 to 16983. Remaining: 3620, 17.57%\n",
      "FIELD - swaps\n",
      "querying 16983 to 17982. Remaining: 2621, 12.72%\n",
      "FIELD - swaps\n",
      "querying 17982 to 18981. Remaining: 1622, 7.87%\n",
      "FIELD - swaps\n",
      "querying 18981 to 19980. Remaining: 623, 3.02%\n",
      "FIELD - swaps\n",
      "querying 19980 to 20603. Remaining: 0, 0.00%\n",
      "FIELD - swaps\n"
     ]
    }
   ],
   "source": [
    "for i in range(1, len(cow_timestamp_query_list)):\n",
    "    print(f'querying {cow_timestamp_query_list[i-1]} to {cow_timestamp_query_list[i]}. Remaining: {len(cow_timestamps) - cow_timestamp_query_list[i]}, {((len(cow_timestamps) - cow_timestamp_query_list[i]) / len(cow_timestamps)) * 100:.2f}%')\n",
    "\n",
    "    # define a \"partition\", which is part of the larger cow_timestamps\n",
    "    partition = cow_timestamps[cow_timestamp_query_list[i-1]:cow_timestamp_query_list[i]]\n",
    "\n",
    "    # define query path with partition of unique settlement ids\n",
    "    qp = swaps_fp(\n",
    "        first=query_size * 5,\n",
    "        orderBy='timestamp',\n",
    "        orderDirection='desc',\n",
    "        # The where condition says to check for swaps that occured on the same timestamp as a cow trade.\n",
    "        where = {'timestamp_in': partition, 'amountInUSD_gt': filter_usd, 'amountOutUSD_gt': filter_usd, 'pool_in': weth_usdc_list} \n",
    "        )\n",
    "    \n",
    "    # run query\n",
    "    df = univ3_ds.runQuery(qp)\n",
    "\n",
    "    # convert all int64 columns to float64 to avoid large int overflows\n",
    "    df['swaps_gasLimit'] = df['swaps_gasLimit'].astype('float64')\n",
    "    df['swaps_gasPrice'] = df['swaps_gasPrice'].astype('float64')\n",
    "    df['swaps_tick'] = df['swaps_tick'].astype('float64')\n",
    "    df['swaps_amountIn'] = df['swaps_amountIn'].astype('float64')\n",
    "    df['swaps_amountOut'] = df['swaps_amountOut'].astype('float64')\n",
    "\n",
    "    # append df to data list\n",
    "    swaps_data.append(df)"
   ]
  },
  {
   "cell_type": "code",
   "execution_count": 110,
   "metadata": {},
   "outputs": [],
   "source": [
    "# convert dataframes to polars in swaps_data\n",
    "swaps_df = [pl.from_pandas(df) for df in swaps_data]"
   ]
  },
  {
   "cell_type": "code",
   "execution_count": 111,
   "metadata": {},
   "outputs": [],
   "source": [
    "# concat polars dataframes in swaps_df\n",
    "swaps_pl = pl.concat(swaps_df)"
   ]
  },
  {
   "cell_type": "code",
   "execution_count": 112,
   "metadata": {},
   "outputs": [],
   "source": [
    "# drop endpoint from swaps_pl\n",
    "swaps_pl = swaps_pl.drop('endpoint')"
   ]
  },
  {
   "cell_type": "code",
   "execution_count": 113,
   "metadata": {},
   "outputs": [
    {
     "name": "stdout",
     "output_type": "stream",
     "text": [
      "swaps_pl shape: (36444, 19)\n"
     ]
    }
   ],
   "source": [
    "# print swaps shape\n",
    "print(f'swaps_pl shape: {swaps_pl.shape}')"
   ]
  },
  {
   "attachments": {},
   "cell_type": "markdown",
   "metadata": {},
   "source": [
    "### Univ3 Gas Calculations"
   ]
  },
  {
   "cell_type": "code",
   "execution_count": 114,
   "metadata": {},
   "outputs": [
    {
     "name": "stdout",
     "output_type": "stream",
     "text": [
      "transaction gas median is 328304.5\n"
     ]
    }
   ],
   "source": [
    "# get median transactions_gasUsed amount. Typical V3 swap is 127k gas for One-hop. However with multiple hops, gas will be higher. 352 reflects an avg of 3 hops worth of gas\n",
    "tx_gas_median = swaps_pl['swaps_gasLimit'].median()\n",
    "print(f'transaction gas median is {tx_gas_median}')"
   ]
  },
  {
   "cell_type": "code",
   "execution_count": 115,
   "metadata": {},
   "outputs": [],
   "source": [
    "# to get transaction gas used, we do gasUsed * gasPrice\n",
    "swaps_pl = swaps_pl.with_columns([\n",
    "    (127000 * pl.col(\"swaps_gasPrice\")).alias('transaction_gas_fee_one_hop'),\n",
    "    (tx_gas_median * pl.col(\"swaps_gasPrice\")).alias('transaction_gas_fee_median')\n",
    "    ])"
   ]
  },
  {
   "cell_type": "code",
   "execution_count": 116,
   "metadata": {},
   "outputs": [],
   "source": [
    "swaps_pl = swaps_pl.with_columns([\n",
    "    (pl.col(\"transaction_gas_fee_one_hop\") / 10**18).alias('transaction_gas_fee_one_hop'), # wei is 10^9, but eth is 10^18\n",
    "        (pl.col(\"transaction_gas_fee_median\") / 10**18).alias('transaction_gas_fee_median') # wei is 10^9, but eth is 10^18\n",
    "])"
   ]
  },
  {
   "cell_type": "code",
   "execution_count": 117,
   "metadata": {},
   "outputs": [
    {
     "name": "stdout",
     "output_type": "stream",
     "text": [
      "swaps_pl shape: (36444, 21)\n"
     ]
    }
   ],
   "source": [
    "# print swaps shape\n",
    "print(f'swaps_pl shape: {swaps_pl.shape}')"
   ]
  },
  {
   "attachments": {},
   "cell_type": "markdown",
   "metadata": {},
   "source": [
    "### Merge Cow and Univ3"
   ]
  },
  {
   "cell_type": "code",
   "execution_count": 118,
   "metadata": {},
   "outputs": [],
   "source": [
    "# merge trades and swaps on timestamp value. We use outer join because we want to preserve all the datapoints.\n",
    "cow_uni_outer_pl = cow_complete_pl.join(other=swaps_pl, left_on='trades_timestamp', right_on='swaps_timestamp', how='outer')"
   ]
  },
  {
   "cell_type": "code",
   "execution_count": 119,
   "metadata": {},
   "outputs": [
    {
     "data": {
      "text/plain": [
       "(43182, 39)"
      ]
     },
     "execution_count": 119,
     "metadata": {},
     "output_type": "execute_result"
    }
   ],
   "source": [
    "cow_uni_outer_pl.shape"
   ]
  },
  {
   "cell_type": "code",
   "execution_count": 120,
   "metadata": {},
   "outputs": [],
   "source": [
    "# Truncate the dataframe\n",
    "cow_uni_trunc_pl = cow_uni_outer_pl[[\n",
    "    'trades_timestamp', \n",
    "    'trades_txHash',\n",
    "    'trades_feeAmount',\n",
    "    'trades_sellToken_id', \n",
    "    'trades_buyToken_id', \n",
    "    'trades_buyAmount',\n",
    "    'trades_sellAmount',\n",
    "    'swaps_pool_id', \n",
    "    'swaps_hash',\n",
    "    'swaps_tokenIn_id', \n",
    "    'swaps_tokenOut_id',\n",
    "    'swaps_amountIn',\n",
    "    'swaps_amountOut',  \n",
    "    'swaps_blockNumber',\n",
    "    'transaction_gas_fee_one_hop',\n",
    "    'transaction_gas_fee_median'\n",
    "    ]]"
   ]
  },
  {
   "cell_type": "code",
   "execution_count": 121,
   "metadata": {},
   "outputs": [
    {
     "data": {
      "text/plain": [
       "(43182, 16)"
      ]
     },
     "execution_count": 121,
     "metadata": {},
     "output_type": "execute_result"
    }
   ],
   "source": [
    "#check pl dataframe size\n",
    "cow_uni_trunc_pl.shape"
   ]
  },
  {
   "attachments": {},
   "cell_type": "markdown",
   "metadata": {},
   "source": [
    "### Chainlink"
   ]
  },
  {
   "cell_type": "code",
   "execution_count": 122,
   "metadata": {},
   "outputs": [],
   "source": [
    "# load streamer\n",
    "chain_ds = Streamer('https://api.thegraph.com/subgraphs/name/openpredict/chainlink-prices-subgraph')"
   ]
  },
  {
   "cell_type": "code",
   "execution_count": 123,
   "metadata": {},
   "outputs": [
    {
     "name": "stdout",
     "output_type": "stream",
     "text": [
      "FIELD - prices\n"
     ]
    }
   ],
   "source": [
    "# get a query field path from the query dictionary which is automatically populated in the Streamer object\n",
    "chain_fp = chain_ds.queryDict.get('prices')\n",
    "\n",
    "# add parameters to the settlements_qp.\n",
    "chain_qp = chain_fp(\n",
    "    first=query_size * 5,\n",
    "    orderBy='timestamp',\n",
    "    orderDirection='desc',\n",
    "    where = {'timestamp_lt': timestamp, 'assetPair': \"ETH/USD\"}\n",
    "    )\n",
    "\n",
    "# run query\n",
    "chain_df = chain_ds.runQuery(chain_qp)"
   ]
  },
  {
   "cell_type": "code",
   "execution_count": null,
   "metadata": {},
   "outputs": [],
   "source": [
    "# convert chain_df to polars\n",
    "chain_pl = pl.from_pandas(chain_df)"
   ]
  },
  {
   "cell_type": "code",
   "execution_count": null,
   "metadata": {},
   "outputs": [],
   "source": [
    "# drop prices_id, endpoint\n",
    "chain_pl = chain_pl.drop(['prices_id', 'endpoint'])"
   ]
  },
  {
   "cell_type": "code",
   "execution_count": null,
   "metadata": {},
   "outputs": [],
   "source": [
    "# divide prices_prices by 10 ** 8\n",
    "chain_pl = chain_pl.with_columns([\n",
    "    (pl.col(\"prices_price\") / 10**8).alias('prices_prices')\n",
    "    ])"
   ]
  },
  {
   "cell_type": "code",
   "execution_count": null,
   "metadata": {},
   "outputs": [],
   "source": [
    "chain_pl.shape"
   ]
  },
  {
   "cell_type": "code",
   "execution_count": null,
   "metadata": {},
   "outputs": [],
   "source": [
    "# outer merge chain_df with cow_uni_outer_pl on timestamp\n",
    "cow_uni_chain_outer_pl = cow_uni_trunc_pl.join(other=chain_pl, left_on='trades_timestamp', right_on='prices_timestamp', how='outer')"
   ]
  },
  {
   "cell_type": "code",
   "execution_count": null,
   "metadata": {},
   "outputs": [],
   "source": [
    "cow_uni_chain_outer_pl.shape"
   ]
  },
  {
   "attachments": {},
   "cell_type": "markdown",
   "metadata": {},
   "source": [
    "### Price Calculations"
   ]
  },
  {
   "attachments": {},
   "cell_type": "markdown",
   "metadata": {},
   "source": [
    "#### Decimal Calculations"
   ]
  },
  {
   "cell_type": "code",
   "execution_count": null,
   "metadata": {},
   "outputs": [],
   "source": [
    "# add decimals to cow trades sell tokens\n",
    "cow_uni_chain_outer_pl = cow_uni_chain_outer_pl.with_columns(\n",
    "    [\n",
    "        pl.col('trades_sellToken_id'),\n",
    "        (\n",
    "            pl.when(pl.col('trades_sellToken_id') == 'WETH')\n",
    "            .then(18)\n",
    "            .otherwise(6)\n",
    "            .cast(pl.UInt8)\n",
    "        ).alias('trades_sellToken_decimals'),\n",
    "    ]\n",
    ")\n",
    "\n",
    "# add decimals to cow trades buy tokens\n",
    "cow_uni_chain_outer_pl = cow_uni_chain_outer_pl.with_columns(\n",
    "    [\n",
    "        pl.col('trades_buyToken_id'),\n",
    "        (\n",
    "            pl.when(pl.col('trades_buyToken_id') == 'WETH')\n",
    "            .then(18)\n",
    "            .otherwise(6)\n",
    "            .cast(pl.UInt8)\n",
    "        ).alias('trades_buyToken_decimals'),\n",
    "    ]\n",
    ")\n",
    "\n",
    "# add decimals to cow trades sell tokens\n",
    "cow_uni_chain_outer_pl = cow_uni_chain_outer_pl.with_columns(\n",
    "    [\n",
    "        pl.col('swaps_tokenIn_id'),\n",
    "        (\n",
    "            pl.when(pl.col('swaps_tokenIn_id') == 'WETH')\n",
    "            .then(18)\n",
    "            .otherwise(6)\n",
    "            .cast(pl.UInt8)\n",
    "        ).alias('swaps_tokenIn_decimals'),\n",
    "    ]\n",
    ")\n",
    "\n",
    "# add decimals to cow trades buy tokens\n",
    "cow_uni_chain_outer_pl = cow_uni_chain_outer_pl.with_columns(\n",
    "    [\n",
    "        pl.col('swaps_tokenOut_id'),\n",
    "        (\n",
    "            pl.when(pl.col('swaps_tokenOut_id') == 'WETH')\n",
    "            .then(18)\n",
    "            .otherwise(6)\n",
    "            .cast(pl.UInt8)\n",
    "        ).alias('swaps_tokenOut_decimals'),\n",
    "    ]\n",
    ")"
   ]
  },
  {
   "attachments": {},
   "cell_type": "markdown",
   "metadata": {},
   "source": [
    "#### Execution Price Calculations"
   ]
  },
  {
   "cell_type": "code",
   "execution_count": null,
   "metadata": {},
   "outputs": [],
   "source": [
    "# divide values by decimals\n",
    "trades_swaps_converted_pl = cow_uni_chain_outer_pl.with_columns([\n",
    "    (pl.col(\"trades_buyAmount\") / (10**pl.col(\"trades_buyToken_decimals\"))).alias('trades_buyAmount_converted'),\n",
    "    (pl.col(\"trades_sellAmount\") / (10**pl.col(\"trades_sellToken_decimals\"))).alias('trades_sellAmount_converted'),\n",
    "    (pl.col(\"swaps_amountIn\") / (10**pl.col(\"swaps_tokenIn_decimals\"))).alias('swaps_amountIn_converted'),\n",
    "    (pl.col(\"swaps_amountOut\") / (10**pl.col(\"swaps_tokenOut_decimals\"))).alias('swaps_amountOut_converted'),\n",
    "])"
   ]
  },
  {
   "cell_type": "code",
   "execution_count": null,
   "metadata": {},
   "outputs": [],
   "source": [
    "# divide buy/sell amounts to get directional execution price\n",
    "trades_swaps_converted_trunc_pl = trades_swaps_converted_pl.with_columns([\n",
    "    (pl.col(\"trades_buyAmount_converted\") / pl.col(\"trades_sellAmount_converted\")).alias('trades_buy_sell_ratio'),\n",
    "    (pl.col(\"trades_sellAmount_converted\") / pl.col(\"trades_buyAmount_converted\")).alias('trades_sell_buy_ratio'),\n",
    "    (pl.col(\"swaps_amountIn_converted\") / pl.col(\"swaps_amountOut_converted\")).alias('swaps_amountIn_amountOut_ratio'),\n",
    "    (pl.col(\"swaps_amountOut_converted\") / pl.col(\"swaps_amountIn_converted\")).alias('swaps_amountOut_amountIn_ratio'),\n",
    "])"
   ]
  },
  {
   "cell_type": "code",
   "execution_count": null,
   "metadata": {},
   "outputs": [],
   "source": [
    "# truncate dataframe\n",
    "trades_swaps_converted_trunc_pl = trades_swaps_converted_trunc_pl[\n",
    "    'trades_timestamp',\n",
    "    'swaps_blockNumber',\n",
    "    'trades_txHash',\n",
    "    'trades_feeAmount',\n",
    "    'trades_sellToken_id',\n",
    "    'trades_buyToken_id',\n",
    "    'trades_sellAmount_converted',\n",
    "    'trades_buyAmount_converted',\n",
    "    'swaps_pool_id',\n",
    "    'swaps_tokenIn_id',\n",
    "    'swaps_tokenOut_id',\n",
    "    'swaps_amountIn_converted',\n",
    "    'swaps_amountOut_converted',\n",
    "    'transaction_gas_fee_one_hop',\n",
    "    'transaction_gas_fee_median',\n",
    "    'trades_buy_sell_ratio',\n",
    "    'trades_sell_buy_ratio',\n",
    "    'swaps_amountIn_amountOut_ratio',\n",
    "    'swaps_amountOut_amountIn_ratio',\n",
    "    'prices_assetPair_id',\n",
    "    'prices_price'\n",
    "]"
   ]
  },
  {
   "cell_type": "code",
   "execution_count": null,
   "metadata": {},
   "outputs": [],
   "source": [
    "trades_swaps_converted_trunc_pl.shape"
   ]
  },
  {
   "cell_type": "code",
   "execution_count": null,
   "metadata": {},
   "outputs": [],
   "source": [
    "# checkpoint, save to parquet\n",
    "trades_swaps_converted_trunc_pl.write_parquet('cow_uni_chain_outer_pl_historical.parquet')"
   ]
  }
 ],
 "metadata": {
  "kernelspec": {
   "display_name": "Python 3",
   "language": "python",
   "name": "python3"
  },
  "language_info": {
   "codemirror_mode": {
    "name": "ipython",
    "version": 3
   },
   "file_extension": ".py",
   "mimetype": "text/x-python",
   "name": "python",
   "nbconvert_exporter": "python",
   "pygments_lexer": "ipython3",
   "version": "3.10.6"
  },
  "orig_nbformat": 4,
  "vscode": {
   "interpreter": {
    "hash": "e7370f93d1d0cde622a1f8e1c04877d8463912d04d973331ad4851f04de6915a"
   }
  }
 },
 "nbformat": 4,
 "nbformat_minor": 2
}

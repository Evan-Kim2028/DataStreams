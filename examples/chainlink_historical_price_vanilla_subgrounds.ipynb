{
 "cells": [
  {
   "cell_type": "code",
   "execution_count": 1,
   "metadata": {},
   "outputs": [],
   "source": [
    "from subgrounds import Subgrounds"
   ]
  },
  {
   "cell_type": "code",
   "execution_count": 2,
   "metadata": {},
   "outputs": [],
   "source": [
    "sg = Subgrounds()\n",
    "# endpoint = 'https://api.thegraph.com/subgraphs/name/cowprotocol/cow'\n",
    "# endpoint = 'https://api.thegraph.com/subgraphs/name/messari/uniswap-v3-arbitrum'\n",
    "endpoint = 'https://api.thegraph.com/subgraphs/name/openpredict/chainlink-prices-subgraph'"
   ]
  },
  {
   "cell_type": "code",
   "execution_count": 3,
   "metadata": {},
   "outputs": [],
   "source": [
    "# load subgraph endpoint into Subgrounds object\n",
    "sub = sg.load_subgraph(endpoint)"
   ]
  },
  {
   "cell_type": "code",
   "execution_count": 4,
   "metadata": {},
   "outputs": [
    {
     "data": {
      "text/plain": [
       "FieldPath(https://api.thegraph.com/subgraphs/name/openpredict/chainlink-prices-subgraph, Query, ['prices'])"
      ]
     },
     "execution_count": 4,
     "metadata": {},
     "output_type": "execute_result"
    }
   ],
   "source": [
    "# This shows the prices query fieldpath. It is represented as a FieldPath object in Subgrounds.\n",
    "sub.Query.prices"
   ]
  },
  {
   "cell_type": "code",
   "execution_count": 5,
   "metadata": {},
   "outputs": [],
   "source": [
    "# define FieldPath query parameters\n",
    "field_path_params = sub.Query.prices(\n",
    "    orderBy='timestamp', \n",
    "    orderDirection='desc',\n",
    "    first=777,\n",
    "    where = {'timestamp_lt': 1663907363, 'assetPair': \"ETH/USD\"}\n",
    ")"
   ]
  },
  {
   "cell_type": "code",
   "execution_count": 6,
   "metadata": {},
   "outputs": [],
   "source": [
    "# Query the field path\n",
    "sg_df = sg.query_df(field_path_params) # FieldPath | List[FieldPath], Columns: list[str]"
   ]
  },
  {
   "cell_type": "code",
   "execution_count": 7,
   "metadata": {},
   "outputs": [
    {
     "data": {
      "text/html": [
       "<div>\n",
       "<style scoped>\n",
       "    .dataframe tbody tr th:only-of-type {\n",
       "        vertical-align: middle;\n",
       "    }\n",
       "\n",
       "    .dataframe tbody tr th {\n",
       "        vertical-align: top;\n",
       "    }\n",
       "\n",
       "    .dataframe thead th {\n",
       "        text-align: right;\n",
       "    }\n",
       "</style>\n",
       "<table border=\"1\" class=\"dataframe\">\n",
       "  <thead>\n",
       "    <tr style=\"text-align: right;\">\n",
       "      <th></th>\n",
       "      <th>prices_id</th>\n",
       "      <th>prices_assetPair_id</th>\n",
       "      <th>prices_timestamp</th>\n",
       "      <th>prices_price</th>\n",
       "    </tr>\n",
       "  </thead>\n",
       "  <tbody>\n",
       "    <tr>\n",
       "      <th>0</th>\n",
       "      <td>ETH/USD/0x632d2e4f</td>\n",
       "      <td>ETH/USD</td>\n",
       "      <td>1663905359</td>\n",
       "      <td>134046000000</td>\n",
       "    </tr>\n",
       "    <tr>\n",
       "      <th>1</th>\n",
       "      <td>ETH/USD/0x632d25af</td>\n",
       "      <td>ETH/USD</td>\n",
       "      <td>1663903151</td>\n",
       "      <td>134157000000</td>\n",
       "    </tr>\n",
       "    <tr>\n",
       "      <th>2</th>\n",
       "      <td>ETH/USD/0x632d245f</td>\n",
       "      <td>ETH/USD</td>\n",
       "      <td>1663902815</td>\n",
       "      <td>133405670000</td>\n",
       "    </tr>\n",
       "    <tr>\n",
       "      <th>3</th>\n",
       "      <td>ETH/USD/0x632d204b</td>\n",
       "      <td>ETH/USD</td>\n",
       "      <td>1663901771</td>\n",
       "      <td>132619032909</td>\n",
       "    </tr>\n",
       "    <tr>\n",
       "      <th>4</th>\n",
       "      <td>ETH/USD/0x632d1dab</td>\n",
       "      <td>ETH/USD</td>\n",
       "      <td>1663901099</td>\n",
       "      <td>132536350000</td>\n",
       "    </tr>\n",
       "    <tr>\n",
       "      <th>...</th>\n",
       "      <td>...</td>\n",
       "      <td>...</td>\n",
       "      <td>...</td>\n",
       "      <td>...</td>\n",
       "    </tr>\n",
       "    <tr>\n",
       "      <th>772</th>\n",
       "      <td>ETH/USD/0x632118d2</td>\n",
       "      <td>ETH/USD</td>\n",
       "      <td>1663113426</td>\n",
       "      <td>157435886336</td>\n",
       "    </tr>\n",
       "    <tr>\n",
       "      <th>773</th>\n",
       "      <td>ETH/USD/0x632115a6</td>\n",
       "      <td>ETH/USD</td>\n",
       "      <td>1663112614</td>\n",
       "      <td>157740316095</td>\n",
       "    </tr>\n",
       "    <tr>\n",
       "      <th>774</th>\n",
       "      <td>ETH/USD/0x63210ff1</td>\n",
       "      <td>ETH/USD</td>\n",
       "      <td>1663111153</td>\n",
       "      <td>156833815481</td>\n",
       "    </tr>\n",
       "    <tr>\n",
       "      <th>775</th>\n",
       "      <td>ETH/USD/0x63210d6d</td>\n",
       "      <td>ETH/USD</td>\n",
       "      <td>1663110509</td>\n",
       "      <td>158266778072</td>\n",
       "    </tr>\n",
       "    <tr>\n",
       "      <th>776</th>\n",
       "      <td>ETH/USD/0x63210aaa</td>\n",
       "      <td>ETH/USD</td>\n",
       "      <td>1663109802</td>\n",
       "      <td>159133090000</td>\n",
       "    </tr>\n",
       "  </tbody>\n",
       "</table>\n",
       "<p>777 rows × 4 columns</p>\n",
       "</div>"
      ],
      "text/plain": [
       "              prices_id prices_assetPair_id  prices_timestamp  prices_price\n",
       "0    ETH/USD/0x632d2e4f             ETH/USD        1663905359  134046000000\n",
       "1    ETH/USD/0x632d25af             ETH/USD        1663903151  134157000000\n",
       "2    ETH/USD/0x632d245f             ETH/USD        1663902815  133405670000\n",
       "3    ETH/USD/0x632d204b             ETH/USD        1663901771  132619032909\n",
       "4    ETH/USD/0x632d1dab             ETH/USD        1663901099  132536350000\n",
       "..                  ...                 ...               ...           ...\n",
       "772  ETH/USD/0x632118d2             ETH/USD        1663113426  157435886336\n",
       "773  ETH/USD/0x632115a6             ETH/USD        1663112614  157740316095\n",
       "774  ETH/USD/0x63210ff1             ETH/USD        1663111153  156833815481\n",
       "775  ETH/USD/0x63210d6d             ETH/USD        1663110509  158266778072\n",
       "776  ETH/USD/0x63210aaa             ETH/USD        1663109802  159133090000\n",
       "\n",
       "[777 rows x 4 columns]"
      ]
     },
     "execution_count": 7,
     "metadata": {},
     "output_type": "execute_result"
    }
   ],
   "source": [
    "sg_df"
   ]
  },
  {
   "cell_type": "code",
   "execution_count": null,
   "metadata": {},
   "outputs": [],
   "source": []
  }
 ],
 "metadata": {
  "kernelspec": {
   "display_name": "Python 3",
   "language": "python",
   "name": "python3"
  },
  "language_info": {
   "codemirror_mode": {
    "name": "ipython",
    "version": 3
   },
   "file_extension": ".py",
   "mimetype": "text/x-python",
   "name": "python",
   "nbconvert_exporter": "python",
   "pygments_lexer": "ipython3",
   "version": "3.10.6 (main, Nov 14 2022, 16:10:14) [GCC 11.3.0]"
  },
  "orig_nbformat": 4,
  "vscode": {
   "interpreter": {
    "hash": "e7370f93d1d0cde622a1f8e1c04877d8463912d04d973331ad4851f04de6915a"
   }
  }
 },
 "nbformat": 4,
 "nbformat_minor": 2
}
